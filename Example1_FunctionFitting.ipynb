{
 "cells": [
  {
   "cell_type": "code",
   "id": "initial_id",
   "metadata": {
    "collapsed": true,
    "ExecuteTime": {
     "end_time": "2024-10-27T07:09:42.419329Z",
     "start_time": "2024-10-27T07:09:42.390944Z"
    }
   },
   "source": [
    "from kan import *\n",
    "\n",
    "\n",
    "device = torch.device('cuda' if torch.cuda.is_available() else 'cpu')\n",
    "print(device)\n",
    "\n",
    "# initialize KAN with G=3\n",
    "model = KAN(width=[2,1,1], grid=3, k=3, seed=1, device=device)\n",
    "\n",
    "# create dataset\n",
    "f = lambda x: torch.exp(torch.sin(torch.pi*x[:,[0]]) + x[:,[1]]**2)\n",
    "dataset = create_dataset(f, n_var=2, device=device)"
   ],
   "outputs": [
    {
     "name": "stdout",
     "output_type": "stream",
     "text": [
      "cpu\n",
      "checkpoint directory created: ./model\n",
      "saving model version 0.0\n"
     ]
    }
   ],
   "execution_count": 12
  },
  {
   "metadata": {
    "ExecuteTime": {
     "end_time": "2024-10-27T07:09:42.541871Z",
     "start_time": "2024-10-27T07:09:42.537757Z"
    }
   },
   "cell_type": "code",
   "source": "print (f)",
   "id": "b5ca8703b1bd89",
   "outputs": [
    {
     "name": "stdout",
     "output_type": "stream",
     "text": [
      "<function <lambda> at 0x000001840724D120>\n"
     ]
    }
   ],
   "execution_count": 13
  },
  {
   "metadata": {
    "ExecuteTime": {
     "end_time": "2024-10-27T14:33:44.753952Z",
     "start_time": "2024-10-27T14:33:44.747881Z"
    }
   },
   "cell_type": "code",
   "source": [
    "print (dataset['train_input'])\n",
    "\n",
    "dataset['train_input'].shape"
   ],
   "id": "581205f708148f59",
   "outputs": [
    {
     "name": "stdout",
     "output_type": "stream",
     "text": [
      "tensor([[-0.0075,  0.5547],\n",
      "        [ 0.5364,  0.1791],\n",
      "        [-0.8230,  0.1526],\n",
      "        ...,\n",
      "        [-0.3216, -0.4567],\n",
      "        [ 0.0036, -0.3966],\n",
      "        [-0.1923, -0.8376]])\n"
     ]
    },
    {
     "data": {
      "text/plain": [
       "torch.Size([1000, 2])"
      ]
     },
     "execution_count": 22,
     "metadata": {},
     "output_type": "execute_result"
    }
   ],
   "execution_count": 22
  },
  {
   "metadata": {
    "ExecuteTime": {
     "end_time": "2024-10-27T15:31:56.835949Z",
     "start_time": "2024-10-27T15:31:56.751099Z"
    }
   },
   "cell_type": "code",
   "source": "dataset['train_input'].shape, dataset['train_label'].shape ",
   "id": "e954129d19776776",
   "outputs": [
    {
     "data": {
      "text/plain": [
       "(torch.Size([1000, 2]), torch.Size([1000, 1]))"
      ]
     },
     "execution_count": 23,
     "metadata": {},
     "output_type": "execute_result"
    }
   ],
   "execution_count": 23
  },
  {
   "metadata": {
    "ExecuteTime": {
     "end_time": "2024-10-27T07:09:51.425746Z",
     "start_time": "2024-10-27T07:09:42.873281Z"
    }
   },
   "cell_type": "code",
   "source": "model.fit(dataset, opt=\"LBFGS\", steps=20);",
   "id": "cb1482f54fb78213",
   "outputs": [
    {
     "name": "stderr",
     "output_type": "stream",
     "text": [
      "| train_loss: 6.44e-01 | test_loss: 6.66e-01 | reg: 9.17e+00 | : 100%|█| 20/20 [00:08<00:00,  2.34it"
     ]
    },
    {
     "name": "stdout",
     "output_type": "stream",
     "text": [
      "saving model version 0.1\n"
     ]
    },
    {
     "name": "stderr",
     "output_type": "stream",
     "text": [
      "\n"
     ]
    }
   ],
   "execution_count": 15
  },
  {
   "metadata": {},
   "cell_type": "markdown",
   "source": "Потери достигают плато. мы хотим получить более тонкий KAN! The loss plateaus. we want a more fine-grained KAN!",
   "id": "2538e8c059881942"
  },
  {
   "metadata": {
    "ExecuteTime": {
     "end_time": "2024-10-27T07:09:51.630433Z",
     "start_time": "2024-10-27T07:09:51.505983Z"
    }
   },
   "cell_type": "code",
   "source": [
    "# initialize a more fine-grained KAN with G=10\n",
    "model = model.refine(10)"
   ],
   "id": "92d88e4129ae3841",
   "outputs": [
    {
     "name": "stdout",
     "output_type": "stream",
     "text": [
      "saving model version 0.2\n"
     ]
    }
   ],
   "execution_count": 16
  },
  {
   "metadata": {},
   "cell_type": "markdown",
   "source": "Train KAN (grid=10)",
   "id": "dc70801c982cc785"
  },
  {
   "metadata": {
    "ExecuteTime": {
     "end_time": "2024-10-27T07:09:59.677732Z",
     "start_time": "2024-10-27T07:09:51.681057Z"
    }
   },
   "cell_type": "code",
   "source": "model.fit(dataset, opt=\"LBFGS\", steps=20);",
   "id": "36be81fc75a780ed",
   "outputs": [
    {
     "name": "stderr",
     "output_type": "stream",
     "text": [
      "| train_loss: 5.11e-01 | test_loss: 4.83e-01 | reg: 8.73e+00 | : 100%|█| 20/20 [00:07<00:00,  2.51it"
     ]
    },
    {
     "name": "stdout",
     "output_type": "stream",
     "text": [
      "saving model version 0.3\n"
     ]
    },
    {
     "name": "stderr",
     "output_type": "stream",
     "text": [
      "\n"
     ]
    }
   ],
   "execution_count": 17
  },
  {
   "metadata": {
    "ExecuteTime": {
     "end_time": "2024-10-27T07:09:59.736210Z",
     "start_time": "2024-10-27T07:09:59.733206Z"
    }
   },
   "cell_type": "code",
   "source": "",
   "id": "602ad7fd1ab326e3",
   "outputs": [],
   "execution_count": null
  },
  {
   "metadata": {},
   "cell_type": "markdown",
   "source": "Потери становятся меньше. Это хорошо! Теперь мы можем даже итеративно делать сетки более мелкими.  The loss becomes lower. This is good! Now we can even iteratively making grids finer.",
   "id": "e699dfeef892f93a"
  },
  {
   "metadata": {
    "ExecuteTime": {
     "end_time": "2024-10-27T07:17:15.092449Z",
     "start_time": "2024-10-27T07:09:59.843236Z"
    }
   },
   "cell_type": "code",
   "source": [
    "grids = np.array([3,10,20,50,100])\n",
    "\n",
    "\n",
    "train_losses = []\n",
    "test_losses = []\n",
    "steps = 200\n",
    "k = 3\n",
    "\n",
    "for i in range(grids.shape[0]):\n",
    "    if i == 0:\n",
    "        model = KAN(width=[2,1,1], grid=grids[i], k=k, seed=1, device=device)\n",
    "    if i != 0:\n",
    "        model = model.refine(grids[i])\n",
    "    results = model.fit(dataset, opt=\"LBFGS\", steps=steps)\n",
    "    train_losses += results['train_loss']\n",
    "    test_losses += results['test_loss']"
   ],
   "id": "a40960b662527a24",
   "outputs": [
    {
     "name": "stdout",
     "output_type": "stream",
     "text": [
      "checkpoint directory created: ./model\n",
      "saving model version 0.0\n"
     ]
    },
    {
     "name": "stderr",
     "output_type": "stream",
     "text": [
      "| train_loss: 6.42e-01 | test_loss: 6.70e-01 | reg: 9.60e+00 | : 100%|█| 200/200 [01:01<00:00,  3.25\n"
     ]
    },
    {
     "name": "stdout",
     "output_type": "stream",
     "text": [
      "saving model version 0.1\n",
      "saving model version 0.2\n"
     ]
    },
    {
     "name": "stderr",
     "output_type": "stream",
     "text": [
      "| train_loss: 4.84e-01 | test_loss: 4.73e-01 | reg: 9.03e+00 | : 100%|█| 200/200 [01:16<00:00,  2.63\n"
     ]
    },
    {
     "name": "stdout",
     "output_type": "stream",
     "text": [
      "saving model version 0.3\n",
      "saving model version 0.4\n"
     ]
    },
    {
     "name": "stderr",
     "output_type": "stream",
     "text": [
      "| train_loss: 3.96e-01 | test_loss: 4.53e-01 | reg: 9.16e+00 | : 100%|█| 200/200 [01:30<00:00,  2.20\n"
     ]
    },
    {
     "name": "stdout",
     "output_type": "stream",
     "text": [
      "saving model version 0.5\n",
      "saving model version 0.6\n"
     ]
    },
    {
     "name": "stderr",
     "output_type": "stream",
     "text": [
      "| train_loss: 3.22e-01 | test_loss: 3.74e-01 | reg: 9.29e+00 | : 100%|█| 200/200 [01:24<00:00,  2.37\n"
     ]
    },
    {
     "name": "stdout",
     "output_type": "stream",
     "text": [
      "saving model version 0.7\n",
      "saving model version 0.8\n"
     ]
    },
    {
     "name": "stderr",
     "output_type": "stream",
     "text": [
      "| train_loss: 2.39e-01 | test_loss: 4.17e-01 | reg: 9.39e+00 | : 100%|█| 200/200 [02:02<00:00,  1.63"
     ]
    },
    {
     "name": "stdout",
     "output_type": "stream",
     "text": [
      "saving model version 0.9\n"
     ]
    },
    {
     "name": "stderr",
     "output_type": "stream",
     "text": [
      "\n"
     ]
    }
   ],
   "execution_count": 18
  },
  {
   "metadata": {},
   "cell_type": "markdown",
   "source": "Учебная динамика потерь отображает лестничные структуры (потери внезапно падают после уточнения сетки) Training dynamics of losses display staircase structures (loss suddenly drops after grid refinement)",
   "id": "dce1efb5c74c3959"
  },
  {
   "metadata": {
    "ExecuteTime": {
     "end_time": "2024-10-27T07:17:15.426737Z",
     "start_time": "2024-10-27T07:17:15.115470Z"
    }
   },
   "cell_type": "code",
   "source": [
    "plt.plot(train_losses)\n",
    "plt.plot(test_losses)\n",
    "plt.legend(['train', 'test'])\n",
    "plt.ylabel('RMSE')\n",
    "plt.xlabel('step')\n",
    "plt.yscale('log')"
   ],
   "id": "aa1d494beed4d312",
   "outputs": [
    {
     "data": {
      "text/plain": [
       "<Figure size 640x480 with 1 Axes>"
      ],
      "image/png": "[encoded data removed]"
     },
     "metadata": {},
     "output_type": "display_data"
    }
   ],
   "execution_count": 19
  },
  {
   "metadata": {},
   "cell_type": "markdown",
   "source": "Нейронные законы масштабирования (По какой-то причине это стало хуже, чем в pykan 0.0. Мы все еще выясняем причину, возможно, это связано с обновлениями curve2coef)                                                                             Neural scaling laws (For some reason, this got worse than pykan 0.0. We’re still investigating the reason, probably due to the updates of curve2coef)",
   "id": "a54f1e73f984be5b"
  },
  {
   "metadata": {
    "ExecuteTime": {
     "end_time": "2024-10-27T07:17:16.246445Z",
     "start_time": "2024-10-27T07:17:15.515313Z"
    }
   },
   "cell_type": "code",
   "source": [
    "n_params = 3 * grids\n",
    "train_vs_G = train_losses[(steps-1)::steps]\n",
    "test_vs_G = test_losses[(steps-1)::steps]\n",
    "plt.plot(n_params, train_vs_G, marker=\"o\")\n",
    "plt.plot(n_params, test_vs_G, marker=\"o\")\n",
    "plt.plot(n_params, 100*n_params**(-4.), ls=\"--\", color=\"black\")\n",
    "plt.xscale('log')\n",
    "plt.yscale('log')\n",
    "plt.legend(['train', 'test', r'$N^{-4}$'])\n",
    "plt.xlabel('number of params')\n",
    "plt.ylabel('RMSE')"
   ],
   "id": "222aa8b6c02d3dfb",
   "outputs": [
    {
     "data": {
      "text/plain": [
       "Text(0, 0.5, 'RMSE')"
      ]
     },
     "execution_count": 20,
     "metadata": {},
     "output_type": "execute_result"
    },
    {
     "data": {
      "text/plain": [
       "<Figure size 640x480 with 1 Axes>"
      ],
      "image/png": "[encoded data removed]"
     },
     "metadata": {},
     "output_type": "display_data"
    }
   ],
   "execution_count": 20
  },
  {
   "metadata": {},
   "cell_type": "markdown",
   "source": "График должен быть как последний вот здесь внизу: https://kindxiaoming.github.io/pykan/Example/Example_1_function_fitting.html",
   "id": "29f08cb430c5c6e3"
  }
 ],
 "metadata": {
  "kernelspec": {
   "display_name": "Python 3",
   "language": "python",
   "name": "python3"
  },
  "language_info": {
   "codemirror_mode": {
    "name": "ipython",
    "version": 2
   },
   "file_extension": ".py",
   "mimetype": "text/x-python",
   "name": "python",
   "nbconvert_exporter": "python",
   "pygments_lexer": "ipython2",
   "version": "2.7.6"
  }
 },
 "nbformat": 4,
 "nbformat_minor": 5
}
