{
 "cells": [
  {
   "cell_type": "code",
   "id": "initial_id",
   "metadata": {
    "collapsed": true,
    "ExecuteTime": {
     "end_time": "2024-11-07T15:25:50.503038Z",
     "start_time": "2024-11-07T15:25:48.040236Z"
    }
   },
   "source": [
    "from kan import *\n",
    "device = torch.device('cuda' if torch.cuda.is_available() else 'cpu')\n",
    "print(device)\n"
   ],
   "outputs": [
    {
     "name": "stdout",
     "output_type": "stream",
     "text": [
      "cpu\n"
     ]
    }
   ],
   "execution_count": 1
  },
  {
   "metadata": {},
   "cell_type": "code",
   "outputs": [],
   "execution_count": null,
   "source": [
    "data = pd.read_csv('file_for_input/all_hour/SBER_tradestats_test_hour.csv')\n",
    "data = data[['pr_open_hour','pr_close_hour']] # Не добавлются сюда другие лейблы\n",
    "# ['vol','val','trades','trades_b','trades_s', 'val_b','val_s','vol_b','vol_s','pr_open_hour','pr_high_hour','pr_low_hour','pr_close_hour'] <- полный список параметров\n",
    "data_lable= data [['pr_close_hour']]\n",
    "\n",
    "data_tensor = torch.tensor(data.values, dtype=torch.float32)\n",
    "data_tensor_lable=torch.tensor(data_lable.values, dtype=torch.float32)\n",
    "print (data_tensor.shape)"
   ],
   "id": "6f86c7b3cfcea90a"
  },
  {
   "metadata": {},
   "cell_type": "code",
   "outputs": [],
   "execution_count": null,
   "source": "",
   "id": "8a19ba0672c5a2b5"
  },
  {
   "metadata": {},
   "cell_type": "code",
   "outputs": [],
   "execution_count": null,
   "source": [
    "# Убедитесь, что device определен (проверить код в этой ячейке)\n",
    "device = torch.device('cuda' if torch.cuda.is_available() else 'cpu')\n",
    "# Создание датасета\n",
    "dataset = create_dataset_from_data(data_tensor, data_tensor_lable, train_ratio=0.8, device=device)\n",
    "\n",
    "# Проверка размеров датасета\n",
    "print(dataset['train_input'].shape)\n",
    "print(dataset['train_label'].shape)\n",
    "print(dataset['test_input'].shape)\n",
    "print(dataset['test_label'].shape)"
   ],
   "id": "d394cd78de8de153"
  },
  {
   "metadata": {},
   "cell_type": "code",
   "outputs": [],
   "execution_count": null,
   "source": "dataset['train_input'].shape, dataset['train_label'].shape ",
   "id": "ba94c76320293436"
  },
  {
   "metadata": {},
   "cell_type": "code",
   "outputs": [],
   "execution_count": null,
   "source": "model = KAN(width=[2,1,1], grid=20, k=3, seed=1, device=device)",
   "id": "9cc06c1d27c58e1a"
  },
  {
   "metadata": {},
   "cell_type": "code",
   "outputs": [],
   "execution_count": null,
   "source": "model.fit(dataset, opt=\"LBFGS\", steps=50);",
   "id": "e0af89ec486ec5c2"
  }
 ],
 "metadata": {
  "kernelspec": {
   "display_name": "Python 3",
   "language": "python",
   "name": "python3"
  },
  "language_info": {
   "codemirror_mode": {
    "name": "ipython",
    "version": 2
   },
   "file_extension": ".py",
   "mimetype": "text/x-python",
   "name": "python",
   "nbconvert_exporter": "python",
   "pygments_lexer": "ipython2",
   "version": "2.7.6"
  }
 },
 "nbformat": 4,
 "nbformat_minor": 5
}
