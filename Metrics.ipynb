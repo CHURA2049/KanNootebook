{
 "cells": [
  {
   "metadata": {},
   "cell_type": "markdown",
   "source": [
    "Проект для попытки реализовать расчёт метрик\n",
    "\n",
    "На своих данных (двумерных для простоты)"
   ],
   "id": "17b959dd4cc7e522"
  },
  {
   "cell_type": "code",
   "id": "initial_id",
   "metadata": {
    "collapsed": true,
    "ExecuteTime": {
     "end_time": "2024-11-07T15:59:42.819496Z",
     "start_time": "2024-11-07T15:59:42.815743Z"
    }
   },
   "source": [
    "from kan import *\n",
    "device = torch.device('cuda' if torch.cuda.is_available() else 'cpu')\n",
    "print(device)\n"
   ],
   "outputs": [
    {
     "name": "stdout",
     "output_type": "stream",
     "text": [
      "cpu\n"
     ]
    }
   ],
   "execution_count": 13
  },
  {
   "metadata": {
    "ExecuteTime": {
     "end_time": "2024-11-07T15:59:42.852851Z",
     "start_time": "2024-11-07T15:59:42.836500Z"
    }
   },
   "cell_type": "code",
   "source": [
    "data = pd.read_csv('file_for_input/all_hour/SBER_tradestats_test_hour.csv')\n",
    "data = data[['pr_open_hour','pr_close_hour']] # Не добавлются сюда другие лейблы\n",
    "# ['vol','val','trades','trades_b','trades_s', 'val_b','val_s','vol_b','vol_s','pr_open_hour','pr_high_hour','pr_low_hour','pr_close_hour'] <- полный список параметров\n",
    "data_lable= data [['pr_close_hour']]\n",
    "\n",
    "data_tensor = torch.tensor(data.values, dtype=torch.float32)\n",
    "data_tensor_lable=torch.tensor(data_lable.values, dtype=torch.float32)\n",
    "print (data_tensor.shape)"
   ],
   "id": "6f86c7b3cfcea90a",
   "outputs": [
    {
     "name": "stdout",
     "output_type": "stream",
     "text": [
      "torch.Size([8525, 2])\n"
     ]
    }
   ],
   "execution_count": 14
  },
  {
   "metadata": {
    "ExecuteTime": {
     "end_time": "2024-11-07T15:59:42.959610Z",
     "start_time": "2024-11-07T15:59:42.957872Z"
    }
   },
   "cell_type": "code",
   "source": "",
   "id": "8a19ba0672c5a2b5",
   "outputs": [],
   "execution_count": null
  },
  {
   "metadata": {
    "ExecuteTime": {
     "end_time": "2024-11-07T15:59:42.993022Z",
     "start_time": "2024-11-07T15:59:42.986453Z"
    }
   },
   "cell_type": "code",
   "source": [
    "# Убедитесь, что device определен (проверить код в этой ячейке)\n",
    "device = torch.device('cuda' if torch.cuda.is_available() else 'cpu')\n",
    "# Создание датасета\n",
    "dataset = create_dataset_from_data(data_tensor, data_tensor_lable, train_ratio=0.8, device=device)\n",
    "\n",
    "# Проверка размеров датасета\n",
    "print(dataset['train_input'].shape)\n",
    "print(dataset['train_label'].shape)\n",
    "print(dataset['test_input'].shape)\n",
    "print(dataset['test_label'].shape)"
   ],
   "id": "d394cd78de8de153",
   "outputs": [
    {
     "name": "stdout",
     "output_type": "stream",
     "text": [
      "torch.Size([6820, 2])\n",
      "torch.Size([6820, 1])\n",
      "torch.Size([1705, 2])\n",
      "torch.Size([1705, 1])\n"
     ]
    }
   ],
   "execution_count": 15
  },
  {
   "metadata": {
    "ExecuteTime": {
     "end_time": "2024-11-07T15:59:43.078174Z",
     "start_time": "2024-11-07T15:59:43.073952Z"
    }
   },
   "cell_type": "code",
   "source": "dataset['train_input'].shape, dataset['train_label'].shape ",
   "id": "ba94c76320293436",
   "outputs": [
    {
     "data": {
      "text/plain": [
       "(torch.Size([6820, 2]), torch.Size([6820, 1]))"
      ]
     },
     "execution_count": 16,
     "metadata": {},
     "output_type": "execute_result"
    }
   ],
   "execution_count": 16
  },
  {
   "metadata": {
    "ExecuteTime": {
     "end_time": "2024-11-07T15:59:43.122980Z",
     "start_time": "2024-11-07T15:59:43.109225Z"
    }
   },
   "cell_type": "code",
   "source": "model = KAN(width=[2,1,1], grid=20, k=3, seed=1, device=device)",
   "id": "9cc06c1d27c58e1a",
   "outputs": [
    {
     "name": "stdout",
     "output_type": "stream",
     "text": [
      "checkpoint directory created: ./model\n",
      "saving model version 0.0\n"
     ]
    }
   ],
   "execution_count": 17
  },
  {
   "metadata": {
    "ExecuteTime": {
     "end_time": "2024-11-07T15:59:48.621193Z",
     "start_time": "2024-11-07T15:59:43.153909Z"
    }
   },
   "cell_type": "code",
   "source": "model.fit(dataset, opt=\"LBFGS\", steps=50);",
   "id": "e0af89ec486ec5c2",
   "outputs": [
    {
     "name": "stderr",
     "output_type": "stream",
     "text": [
      "| train_loss: 3.96e-04 | test_loss: 3.78e-04 | reg: 5.54e+00 | : 100%|█| 50/50 [00:05<00:00,  9.16it"
     ]
    },
    {
     "name": "stdout",
     "output_type": "stream",
     "text": [
      "saving model version 0.1\n"
     ]
    },
    {
     "name": "stderr",
     "output_type": "stream",
     "text": [
      "\n"
     ]
    }
   ],
   "execution_count": 18
  },
  {
   "metadata": {},
   "cell_type": "markdown",
   "source": [
    "В этом примере речь идёт о RMSE https://kindxiaoming.github.io/pykan/Example/Example_3_deep_formula.html\n",
    "\n",
    "в кане по идеи нужно использовать эту функцию: evaluate(dataset)"
   ],
   "id": "2871070e08488e16"
  },
  {
   "metadata": {
    "ExecuteTime": {
     "end_time": "2024-11-07T15:59:48.774536Z",
     "start_time": "2024-11-07T15:59:48.770567Z"
    }
   },
   "cell_type": "code",
   "source": "",
   "id": "325a8bf43901aba4",
   "outputs": [],
   "execution_count": null
  }
 ],
 "metadata": {
  "kernelspec": {
   "display_name": "Python 3",
   "language": "python",
   "name": "python3"
  },
  "language_info": {
   "codemirror_mode": {
    "name": "ipython",
    "version": 2
   },
   "file_extension": ".py",
   "mimetype": "text/x-python",
   "name": "python",
   "nbconvert_exporter": "python",
   "pygments_lexer": "ipython2",
   "version": "2.7.6"
  }
 },
 "nbformat": 4,
 "nbformat_minor": 5
}
