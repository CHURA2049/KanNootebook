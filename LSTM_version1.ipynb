{
 "cells": [
  {
   "metadata": {},
   "cell_type": "markdown",
   "source": [
    "Этот проект не раотает, т.к. не стаивться тензерфлоу\n",
    "\n",
    "В этом файле будем основываться на проект https://www.geeksforgeeks.org/multivariate-time-series-forecasting-with-lstms-in-keras/?__ya_mt_enable_static_translations=1\n",
    "\n",
    "И на старый проект p1 с нира\n",
    "\n",
    "проект с реконвертациией минимакс нормализации LSTM от сюда --> https://www.geeksforgeeks.org/time-series-forecasting-using-pytorch/\n",
    "\n",
    "интерсно, что в этом проекте применяется минимакснормализация, но потом значения предсказываются ( либо конвертируются) в нормальную цену "
   ],
   "id": "61c8eff80a7acbf1"
  },
  {
   "metadata": {
    "ExecuteTime": {
     "end_time": "2024-11-08T14:26:54.260746Z",
     "start_time": "2024-11-08T14:25:51.115146Z"
    }
   },
   "cell_type": "code",
   "source": [
    "import datetime\n",
    "import sklearn\n",
    "from sklearn.impute import SimpleImputer\n",
    "from sklearn.preprocessing import MinMaxScaler\n",
    "from sklearn.decomposition import KernelPCA\n",
    "import numpy as np\n",
    "import pandas as pd\n",
    "import math\n",
    "import keras\n",
    "import matplotlib.pyplot as plt\n",
    "import tensorflow as tf\n",
    "tf.random.set_seed(99)\n"
   ],
   "id": "f19e5b15d21a5a53",
   "outputs": [],
   "execution_count": 20
  },
  {
   "metadata": {
    "ExecuteTime": {
     "end_time": "2024-11-08T14:27:58.115259Z",
     "start_time": "2024-11-08T14:27:58.110965Z"
    }
   },
   "cell_type": "code",
   "source": "dataFrame = pd.read_csv('final_data_adj.csv')  # https://github.com/SusmitSekharBhakta/Stock-market-price-prediction/blob/main/final_data_adj.csv",
   "id": "3835edcef73cbbb1",
   "outputs": [
    {
     "ename": "SyntaxError",
     "evalue": "unterminated string literal (detected at line 1) (1126765878.py, line 1)",
     "output_type": "error",
     "traceback": [
      "\u001B[1;36m  Cell \u001B[1;32mIn[23], line 1\u001B[1;36m\u001B[0m\n\u001B[1;33m    dataFrame = pd.read_csv('https://github.com/SusmitSekharBhakta/Stock-market-price-prediction/blob/main/final_data_adj.csv)  # https://github.com/SusmitSekharBhakta/Stock-market-price-prediction/blob/main/final_data_adj.csv\u001B[0m\n\u001B[1;37m                            ^\u001B[0m\n\u001B[1;31mSyntaxError\u001B[0m\u001B[1;31m:\u001B[0m unterminated string literal (detected at line 1)\n"
     ]
    }
   ],
   "execution_count": 23
  }
 ],
 "metadata": {
  "kernelspec": {
   "display_name": "Python 3",
   "language": "python",
   "name": "python3"
  },
  "language_info": {
   "codemirror_mode": {
    "name": "ipython",
    "version": 2
   },
   "file_extension": ".py",
   "mimetype": "text/x-python",
   "name": "python",
   "nbconvert_exporter": "python",
   "pygments_lexer": "ipython2",
   "version": "2.7.6"
  }
 },
 "nbformat": 4,
 "nbformat_minor": 5
}
