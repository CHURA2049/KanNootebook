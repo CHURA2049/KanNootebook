{
 "cells": [
  {
   "metadata": {
    "ExecuteTime": {
     "end_time": "2024-11-07T15:32:21.186719Z",
     "start_time": "2024-11-07T15:32:21.182992Z"
    }
   },
   "cell_type": "code",
   "source": "",
   "id": "c0389a0581cbac73",
   "outputs": [],
   "execution_count": null
  },
  {
   "metadata": {},
   "cell_type": "markdown",
   "source": " В этом проекте попробую импортировать только двумерный набор данных ЗАРАБОТАЛО",
   "id": "e6b6d42413da318c"
  },
  {
   "metadata": {},
   "cell_type": "markdown",
   "source": "KanParameterTest1 - это то же самое, но проверка с разной размерностью данных",
   "id": "79a517e049bc7492"
  },
  {
   "cell_type": "code",
   "id": "initial_id",
   "metadata": {
    "collapsed": true,
    "ExecuteTime": {
     "end_time": "2024-11-07T15:32:21.210700Z",
     "start_time": "2024-11-07T15:32:21.199065Z"
    }
   },
   "source": [
    "from kan import *\n",
    "device = torch.device('cuda' if torch.cuda.is_available() else 'cpu')\n",
    "print(device)\n"
   ],
   "outputs": [
    {
     "name": "stdout",
     "output_type": "stream",
     "text": [
      "cpu\n"
     ]
    }
   ],
   "execution_count": 17
  },
  {
   "metadata": {
    "ExecuteTime": {
     "end_time": "2024-11-07T15:32:21.262230Z",
     "start_time": "2024-11-07T15:32:21.239064Z"
    }
   },
   "cell_type": "code",
   "source": [
    "data = pd.read_csv('file_for_input/all_hour/SBER_tradestats_test_hour.csv')\n",
    "data = data[['pr_open_hour','pr_close_hour']] # Не добавлются сюда другие лейблы\n",
    "# ['vol','val','trades','trades_b','trades_s', 'val_b','val_s','vol_b','vol_s','pr_open_hour','pr_high_hour','pr_low_hour','pr_close_hour'] <- полный список параметров\n",
    "data_lable= data [['pr_close_hour']]\n",
    "\n",
    "data_tensor = torch.tensor(data.values, dtype=torch.float32)\n",
    "data_tensor_lable=torch.tensor(data_lable.values, dtype=torch.float32)\n",
    "print (data_tensor.shape)"
   ],
   "id": "a3b413d2a4ea35ae",
   "outputs": [
    {
     "name": "stdout",
     "output_type": "stream",
     "text": [
      "torch.Size([8525, 2])\n"
     ]
    }
   ],
   "execution_count": 18
  },
  {
   "metadata": {
    "ExecuteTime": {
     "end_time": "2024-11-07T15:32:21.292071Z",
     "start_time": "2024-11-07T15:32:21.279261Z"
    }
   },
   "cell_type": "code",
   "source": [
    "# Убедитесь, что device определен (проверить код в этой ячейке)\n",
    "device = torch.device('cuda' if torch.cuda.is_available() else 'cpu')\n",
    "# Создание датасета\n",
    "dataset = create_dataset_from_data(data_tensor, data_tensor_lable, train_ratio=0.8, device=device)\n",
    "\n",
    "# Проверка размеров датасета\n",
    "print(dataset['train_input'].shape)\n",
    "print(dataset['train_label'].shape)\n",
    "print(dataset['test_input'].shape)\n",
    "print(dataset['test_label'].shape)\n"
   ],
   "id": "a7a997c1757081c",
   "outputs": [
    {
     "name": "stdout",
     "output_type": "stream",
     "text": [
      "torch.Size([6820, 2])\n",
      "torch.Size([6820, 1])\n",
      "torch.Size([1705, 2])\n",
      "torch.Size([1705, 1])\n"
     ]
    }
   ],
   "execution_count": 19
  },
  {
   "metadata": {
    "ExecuteTime": {
     "end_time": "2024-11-07T15:32:21.333406Z",
     "start_time": "2024-11-07T15:32:21.328644Z"
    }
   },
   "cell_type": "code",
   "source": "dataset['train_input']",
   "id": "d43bac323c665ab7",
   "outputs": [
    {
     "data": {
      "text/plain": [
       "tensor([[239.7900, 239.8000],\n",
       "        [229.3000, 228.4500],\n",
       "        [124.2700, 124.7200],\n",
       "        ...,\n",
       "        [282.9600, 281.3400],\n",
       "        [260.3500, 257.4000],\n",
       "        [208.0100, 208.2600]])"
      ]
     },
     "execution_count": 20,
     "metadata": {},
     "output_type": "execute_result"
    }
   ],
   "execution_count": 20
  },
  {
   "metadata": {
    "ExecuteTime": {
     "end_time": "2024-11-07T15:32:21.379826Z",
     "start_time": "2024-11-07T15:32:21.372800Z"
    }
   },
   "cell_type": "code",
   "source": "dataset['train_label']  ",
   "id": "5cb81fd759823b28",
   "outputs": [
    {
     "data": {
      "text/plain": [
       "tensor([[239.8000],\n",
       "        [228.4500],\n",
       "        [124.7200],\n",
       "        ...,\n",
       "        [281.3400],\n",
       "        [257.4000],\n",
       "        [208.2600]])"
      ]
     },
     "execution_count": 21,
     "metadata": {},
     "output_type": "execute_result"
    }
   ],
   "execution_count": 21
  },
  {
   "metadata": {
    "ExecuteTime": {
     "end_time": "2024-11-07T15:32:21.447072Z",
     "start_time": "2024-11-07T15:32:21.441873Z"
    }
   },
   "cell_type": "code",
   "source": "dataset['train_input'].shape, dataset['train_label'].shape ",
   "id": "bd18f33104d4b14c",
   "outputs": [
    {
     "data": {
      "text/plain": [
       "(torch.Size([6820, 2]), torch.Size([6820, 1]))"
      ]
     },
     "execution_count": 22,
     "metadata": {},
     "output_type": "execute_result"
    }
   ],
   "execution_count": 22
  },
  {
   "metadata": {},
   "cell_type": "markdown",
   "source": "# initialize KAN with G=3\n",
   "id": "707973158ca3643b"
  },
  {
   "metadata": {
    "ExecuteTime": {
     "end_time": "2024-11-07T15:32:21.505630Z",
     "start_time": "2024-11-07T15:32:21.492153Z"
    }
   },
   "cell_type": "code",
   "source": "model = KAN(width=[2,1,1], grid=6, k=3, seed=1, device=device)",
   "id": "10d708a95b23abe3",
   "outputs": [
    {
     "name": "stdout",
     "output_type": "stream",
     "text": [
      "checkpoint directory created: ./model\n",
      "saving model version 0.0\n"
     ]
    }
   ],
   "execution_count": 23
  },
  {
   "metadata": {
    "ExecuteTime": {
     "end_time": "2024-11-07T15:32:38.293989Z",
     "start_time": "2024-11-07T15:32:21.619273Z"
    }
   },
   "cell_type": "code",
   "source": "model.fit(dataset, opt=\"LBFGS\", steps=50);",
   "id": "c5a132d1ec6b01c",
   "outputs": [
    {
     "name": "stderr",
     "output_type": "stream",
     "text": [
      "| train_loss: 5.06e-01 | test_loss: 5.01e-01 | reg: 1.93e+01 | : 100%|█| 50/50 [00:16<00:00,  3.00it"
     ]
    },
    {
     "name": "stdout",
     "output_type": "stream",
     "text": [
      "saving model version 0.1\n"
     ]
    },
    {
     "name": "stderr",
     "output_type": "stream",
     "text": [
      "\n"
     ]
    }
   ],
   "execution_count": 24
  },
  {
   "metadata": {
    "ExecuteTime": {
     "end_time": "2024-11-07T15:32:38.570972Z",
     "start_time": "2024-11-07T15:32:38.433691Z"
    }
   },
   "cell_type": "code",
   "source": "model = model.refine(20)",
   "id": "c0158e02caa8f48d",
   "outputs": [
    {
     "name": "stdout",
     "output_type": "stream",
     "text": [
      "saving model version 0.2\n"
     ]
    }
   ],
   "execution_count": 25
  },
  {
   "metadata": {
    "ExecuteTime": {
     "end_time": "2024-11-07T15:32:38.646754Z",
     "start_time": "2024-11-07T15:32:38.643928Z"
    }
   },
   "cell_type": "code",
   "source": "",
   "id": "6d8ff8f057eebea7",
   "outputs": [],
   "execution_count": null
  },
  {
   "metadata": {
    "ExecuteTime": {
     "end_time": "2024-11-07T15:32:51.718684Z",
     "start_time": "2024-11-07T15:32:38.659874Z"
    }
   },
   "cell_type": "code",
   "source": [
    "\n",
    "model.fit(dataset, opt=\"LBFGS\", steps=50);\n"
   ],
   "id": "2bc78c92c88f5ece",
   "outputs": [
    {
     "name": "stderr",
     "output_type": "stream",
     "text": [
      "| train_loss: 2.85e-01 | test_loss: 3.30e-01 | reg: 1.93e+01 | : 100%|█| 50/50 [00:13<00:00,  3.83it"
     ]
    },
    {
     "name": "stdout",
     "output_type": "stream",
     "text": [
      "saving model version 0.3\n"
     ]
    },
    {
     "name": "stderr",
     "output_type": "stream",
     "text": [
      "\n"
     ]
    }
   ],
   "execution_count": 26
  },
  {
   "metadata": {
    "ExecuteTime": {
     "end_time": "2024-11-07T15:33:38.452354Z",
     "start_time": "2024-11-07T15:32:51.869031Z"
    }
   },
   "cell_type": "code",
   "source": [
    "grids = np.array([3,10,20,50,60])\n",
    "\n",
    "train_losses = []\n",
    "test_losses = []\n",
    "steps = 50\n",
    "k = 3\n",
    "\n",
    "for i in range(grids.shape[0]):\n",
    "    if i == 0:\n",
    "        model = KAN(width=[2,1,1], grid=grids[i], k=k, seed=1, device=device)\n",
    "    if i != 0:\n",
    "        model = model.refine(grids[i])\n",
    "    results = model.fit(dataset, opt=\"LBFGS\", steps=steps)\n",
    "    train_losses += results['train_loss']\n",
    "    test_losses += results['test_loss']"
   ],
   "id": "c9f1b899ae543b9",
   "outputs": [
    {
     "name": "stdout",
     "output_type": "stream",
     "text": [
      "checkpoint directory created: ./model\n",
      "saving model version 0.0\n"
     ]
    },
    {
     "name": "stderr",
     "output_type": "stream",
     "text": [
      "| train_loss: 3.06e-03 | test_loss: 3.05e-03 | reg: 5.63e+00 | : 100%|█| 50/50 [00:06<00:00,  7.20it\n"
     ]
    },
    {
     "name": "stdout",
     "output_type": "stream",
     "text": [
      "saving model version 0.1\n",
      "saving model version 0.2\n"
     ]
    },
    {
     "name": "stderr",
     "output_type": "stream",
     "text": [
      "| train_loss: 4.61e-04 | test_loss: 4.75e-04 | reg: 5.63e+00 | : 100%|█| 50/50 [00:05<00:00,  8.99it\n"
     ]
    },
    {
     "name": "stdout",
     "output_type": "stream",
     "text": [
      "saving model version 0.3\n",
      "saving model version 0.4\n"
     ]
    },
    {
     "name": "stderr",
     "output_type": "stream",
     "text": [
      "| train_loss: 3.56e-04 | test_loss: 3.74e-04 | reg: 5.63e+00 | : 100%|█| 50/50 [00:04<00:00, 10.61it\n"
     ]
    },
    {
     "name": "stdout",
     "output_type": "stream",
     "text": [
      "saving model version 0.5\n",
      "saving model version 0.6\n"
     ]
    },
    {
     "name": "stderr",
     "output_type": "stream",
     "text": [
      "| train_loss: 7.61e-04 | test_loss: 6.01e-04 | reg: 5.63e+00 | : 100%|█| 50/50 [00:09<00:00,  5.14it\n"
     ]
    },
    {
     "name": "stdout",
     "output_type": "stream",
     "text": [
      "saving model version 0.7\n",
      "saving model version 0.8\n"
     ]
    },
    {
     "name": "stderr",
     "output_type": "stream",
     "text": [
      "| train_loss: 8.14e-04 | test_loss: 8.62e-04 | reg: 5.63e+00 | : 100%|█| 50/50 [00:19<00:00,  2.62it"
     ]
    },
    {
     "name": "stdout",
     "output_type": "stream",
     "text": [
      "saving model version 0.9\n"
     ]
    },
    {
     "name": "stderr",
     "output_type": "stream",
     "text": [
      "\n"
     ]
    }
   ],
   "execution_count": 27
  },
  {
   "metadata": {
    "ExecuteTime": {
     "end_time": "2024-11-07T15:33:39.165862Z",
     "start_time": "2024-11-07T15:33:38.562115Z"
    }
   },
   "cell_type": "code",
   "source": [
    "plt.plot(train_losses)\n",
    "plt.plot(test_losses)\n",
    "plt.legend(['train', 'test'])\n",
    "plt.ylabel('RMSE')\n",
    "plt.xlabel('step')\n",
    "plt.yscale('log')"
   ],
   "id": "279025ef5515b371",
   "outputs": [
    {
     "data": {
      "text/plain": [
       "<Figure size 640x480 with 1 Axes>"
      ],
      "image/png": "[encoded data removed]"
     },
     "metadata": {},
     "output_type": "display_data"
    }
   ],
   "execution_count": 28
  },
  {
   "metadata": {
    "ExecuteTime": {
     "end_time": "2024-11-07T15:33:39.886527Z",
     "start_time": "2024-11-07T15:33:39.212404Z"
    }
   },
   "cell_type": "code",
   "source": [
    "n_params = 3 * grids\n",
    "train_vs_G = train_losses[(steps-1)::steps]\n",
    "test_vs_G = test_losses[(steps-1)::steps]\n",
    "plt.plot(n_params, train_vs_G, marker=\"o\")\n",
    "plt.plot(n_params, test_vs_G, marker=\"o\")\n",
    "plt.plot(n_params, 100*n_params**(-4.), ls=\"--\", color=\"black\")\n",
    "plt.xscale('log')\n",
    "plt.yscale('log')\n",
    "plt.legend(['train', 'test', r'$N^{-4}$'])\n",
    "plt.xlabel('number of params')\n",
    "plt.ylabel('RMSE')"
   ],
   "id": "88f544755f1d8260",
   "outputs": [
    {
     "data": {
      "text/plain": [
       "Text(0, 0.5, 'RMSE')"
      ]
     },
     "execution_count": 29,
     "metadata": {},
     "output_type": "execute_result"
    },
    {
     "data": {
      "text/plain": [
       "<Figure size 640x480 with 1 Axes>"
      ],
      "image/png": "[encoded data removed]"
     },
     "metadata": {},
     "output_type": "display_data"
    }
   ],
   "execution_count": 29
  },
  {
   "metadata": {
    "ExecuteTime": {
     "end_time": "2024-11-07T15:33:39.978675Z",
     "start_time": "2024-11-07T15:33:39.969676Z"
    }
   },
   "cell_type": "code",
   "source": "print",
   "id": "c5355c56dd803e21",
   "outputs": [
    {
     "data": {
      "text/plain": [
       "<function print(*args, sep=' ', end='\\n', file=None, flush=False)>"
      ]
     },
     "execution_count": 30,
     "metadata": {},
     "output_type": "execute_result"
    }
   ],
   "execution_count": 30
  }
 ],
 "metadata": {
  "kernelspec": {
   "display_name": "Python 3",
   "language": "python",
   "name": "python3"
  },
  "language_info": {
   "codemirror_mode": {
    "name": "ipython",
    "version": 2
   },
   "file_extension": ".py",
   "mimetype": "text/x-python",
   "name": "python",
   "nbconvert_exporter": "python",
   "pygments_lexer": "ipython2",
   "version": "2.7.6"
  }
 },
 "nbformat": 4,
 "nbformat_minor": 5
}
