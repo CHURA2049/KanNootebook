{
 "cells": [
  {
   "metadata": {},
   "cell_type": "code",
   "outputs": [],
   "execution_count": null,
   "source": "",
   "id": "c0389a0581cbac73"
  },
  {
   "metadata": {},
   "cell_type": "markdown",
   "source": " В этом проекте попробую импортировать только двумерный набор данных ЗАРАБОТАЛО",
   "id": "e6b6d42413da318c"
  },
  {
   "cell_type": "code",
   "id": "initial_id",
   "metadata": {
    "collapsed": true,
    "ExecuteTime": {
     "end_time": "2024-11-07T11:41:55.175376Z",
     "start_time": "2024-11-07T11:41:52.451120Z"
    }
   },
   "source": [
    "from kan import *\n",
    "device = torch.device('cuda' if torch.cuda.is_available() else 'cpu')\n",
    "print(device)\n"
   ],
   "outputs": [
    {
     "name": "stdout",
     "output_type": "stream",
     "text": [
      "cpu\n"
     ]
    }
   ],
   "execution_count": 1
  },
  {
   "metadata": {
    "ExecuteTime": {
     "end_time": "2024-11-07T11:41:58.681136Z",
     "start_time": "2024-11-07T11:41:58.645723Z"
    }
   },
   "cell_type": "code",
   "source": [
    "data = pd.read_csv('file_for_input/all_hour/SBER_tradestats_test_hour.csv')\n",
    "data = data[['pr_open_hour','pr_close_hour']] # Не добавлются сюда другие лейблы\n",
    "# ['vol','val','trades','trades_b','trades_s', 'val_b','val_s','vol_b','vol_s','pr_open_hour','pr_high_hour','pr_low_hour','pr_close_hour'] <- полный список параметров\n",
    "data_lable= data [['pr_close_hour']]\n",
    "\n",
    "data_tensor = torch.tensor(data.values, dtype=torch.float32)\n",
    "data_tensor_lable=torch.tensor(data_lable.values, dtype=torch.float32)\n",
    "print (data_tensor.shape)"
   ],
   "id": "a3b413d2a4ea35ae",
   "outputs": [
    {
     "name": "stdout",
     "output_type": "stream",
     "text": [
      "torch.Size([8525, 2])\n"
     ]
    }
   ],
   "execution_count": 2
  },
  {
   "metadata": {
    "ExecuteTime": {
     "end_time": "2024-11-07T11:42:07.915156Z",
     "start_time": "2024-11-07T11:42:07.899595Z"
    }
   },
   "cell_type": "code",
   "source": [
    "# Убедитесь, что device определен (проверить код в этой ячейке)\n",
    "device = torch.device('cuda' if torch.cuda.is_available() else 'cpu')\n",
    "# Создание датасета\n",
    "dataset = create_dataset_from_data(data_tensor, data_tensor_lable, train_ratio=0.8, device=device)\n",
    "\n",
    "# Проверка размеров датасета\n",
    "print(dataset['train_input'].shape)\n",
    "print(dataset['train_label'].shape)\n",
    "print(dataset['test_input'].shape)\n",
    "print(dataset['test_label'].shape)\n"
   ],
   "id": "a7a997c1757081c",
   "outputs": [
    {
     "name": "stdout",
     "output_type": "stream",
     "text": [
      "torch.Size([6820, 2])\n",
      "torch.Size([6820, 1])\n",
      "torch.Size([1705, 2])\n",
      "torch.Size([1705, 1])\n"
     ]
    }
   ],
   "execution_count": 3
  },
  {
   "metadata": {
    "ExecuteTime": {
     "end_time": "2024-11-07T11:42:16.672684Z",
     "start_time": "2024-11-07T11:42:16.662372Z"
    }
   },
   "cell_type": "code",
   "source": "dataset['train_input']",
   "id": "d43bac323c665ab7",
   "outputs": [
    {
     "data": {
      "text/plain": [
       "tensor([[251.9200, 251.6000],\n",
       "        [135.9500, 135.9800],\n",
       "        [140.9100, 141.3200],\n",
       "        ...,\n",
       "        [307.9700, 306.1100],\n",
       "        [235.6700, 235.4700],\n",
       "        [260.5900, 261.5700]])"
      ]
     },
     "execution_count": 4,
     "metadata": {},
     "output_type": "execute_result"
    }
   ],
   "execution_count": 4
  },
  {
   "metadata": {
    "ExecuteTime": {
     "end_time": "2024-11-07T11:42:20.984341Z",
     "start_time": "2024-11-07T11:42:20.978964Z"
    }
   },
   "cell_type": "code",
   "source": "dataset['train_label']  ",
   "id": "5cb81fd759823b28",
   "outputs": [
    {
     "data": {
      "text/plain": [
       "tensor([[251.6000],\n",
       "        [135.9800],\n",
       "        [141.3200],\n",
       "        ...,\n",
       "        [306.1100],\n",
       "        [235.4700],\n",
       "        [261.5700]])"
      ]
     },
     "execution_count": 5,
     "metadata": {},
     "output_type": "execute_result"
    }
   ],
   "execution_count": 5
  },
  {
   "metadata": {
    "ExecuteTime": {
     "end_time": "2024-11-07T11:42:28.089702Z",
     "start_time": "2024-11-07T11:42:28.071300Z"
    }
   },
   "cell_type": "code",
   "source": "dataset['train_input'].shape, dataset['train_label'].shape ",
   "id": "bd18f33104d4b14c",
   "outputs": [
    {
     "data": {
      "text/plain": [
       "(torch.Size([6820, 2]), torch.Size([6820, 1]))"
      ]
     },
     "execution_count": 6,
     "metadata": {},
     "output_type": "execute_result"
    }
   ],
   "execution_count": 6
  },
  {
   "metadata": {},
   "cell_type": "markdown",
   "source": "# initialize KAN with G=3\n",
   "id": "707973158ca3643b"
  },
  {
   "metadata": {
    "ExecuteTime": {
     "end_time": "2024-11-07T11:42:57.132327Z",
     "start_time": "2024-11-07T11:42:57.108685Z"
    }
   },
   "cell_type": "code",
   "source": "model = KAN(width=[2,1,1], grid=6, k=3, seed=1, device=device)",
   "id": "10d708a95b23abe3",
   "outputs": [
    {
     "name": "stdout",
     "output_type": "stream",
     "text": [
      "checkpoint directory created: ./model\n",
      "saving model version 0.0\n"
     ]
    }
   ],
   "execution_count": 8
  },
  {
   "metadata": {
    "ExecuteTime": {
     "end_time": "2024-11-07T11:43:12.874858Z",
     "start_time": "2024-11-07T11:43:01.295630Z"
    }
   },
   "cell_type": "code",
   "source": "model.fit(dataset, opt=\"LBFGS\", steps=50);",
   "id": "c5a132d1ec6b01c",
   "outputs": [
    {
     "name": "stderr",
     "output_type": "stream",
     "text": [
      "| train_loss: 5.36e-01 | test_loss: 5.02e-01 | reg: 1.95e+01 | : 100%|█| 50/50 [00:11<00:00,  4.33it"
     ]
    },
    {
     "name": "stdout",
     "output_type": "stream",
     "text": [
      "saving model version 0.1\n"
     ]
    },
    {
     "name": "stderr",
     "output_type": "stream",
     "text": [
      "\n"
     ]
    }
   ],
   "execution_count": 9
  },
  {
   "metadata": {
    "ExecuteTime": {
     "end_time": "2024-11-07T11:43:19.713129Z",
     "start_time": "2024-11-07T11:43:19.639757Z"
    }
   },
   "cell_type": "code",
   "source": "model = model.refine(20)",
   "id": "c0158e02caa8f48d",
   "outputs": [
    {
     "name": "stdout",
     "output_type": "stream",
     "text": [
      "saving model version 0.2\n"
     ]
    }
   ],
   "execution_count": 10
  },
  {
   "metadata": {},
   "cell_type": "code",
   "outputs": [],
   "execution_count": null,
   "source": "",
   "id": "6d8ff8f057eebea7"
  },
  {
   "metadata": {},
   "cell_type": "code",
   "outputs": [],
   "execution_count": null,
   "source": [
    "\n",
    "model.fit(dataset, opt=\"LBFGS\", steps=50);\n"
   ],
   "id": "2bc78c92c88f5ece"
  },
  {
   "metadata": {
    "ExecuteTime": {
     "end_time": "2024-11-07T11:47:59.192437Z",
     "start_time": "2024-11-07T11:47:44.338314Z"
    }
   },
   "cell_type": "code",
   "source": [
    "grids = np.array([3,10,20,50,60])\n",
    "\n",
    "train_losses = []\n",
    "test_losses = []\n",
    "steps = 20\n",
    "k = 3\n",
    "\n",
    "for i in range(grids.shape[0]):\n",
    "    if i == 0:\n",
    "        model = KAN(width=[2,1,1], grid=grids[i], k=k, seed=1, device=device)\n",
    "    if i != 0:\n",
    "        model = model.refine(grids[i])\n",
    "    results = model.fit(dataset, opt=\"LBFGS\", steps=steps)\n",
    "    train_losses += results['train_loss']\n",
    "    test_losses += results['test_loss']"
   ],
   "id": "c9f1b899ae543b9",
   "outputs": [
    {
     "name": "stdout",
     "output_type": "stream",
     "text": [
      "checkpoint directory created: ./model\n",
      "saving model version 0.0\n"
     ]
    },
    {
     "name": "stderr",
     "output_type": "stream",
     "text": [
      "| train_loss: 3.32e-03 | test_loss: 3.39e-03 | reg: 5.75e+00 | : 100%|█| 20/20 [00:04<00:00,  4.94it\n"
     ]
    },
    {
     "name": "stdout",
     "output_type": "stream",
     "text": [
      "saving model version 0.1\n",
      "saving model version 0.2\n"
     ]
    },
    {
     "name": "stderr",
     "output_type": "stream",
     "text": [
      "| train_loss: 1.25e-03 | test_loss: 1.31e-03 | reg: 5.75e+00 | : 100%|█| 20/20 [00:02<00:00,  7.67it\n"
     ]
    },
    {
     "name": "stdout",
     "output_type": "stream",
     "text": [
      "saving model version 0.3\n",
      "saving model version 0.4\n"
     ]
    },
    {
     "name": "stderr",
     "output_type": "stream",
     "text": [
      "| train_loss: 1.27e-03 | test_loss: 1.32e-03 | reg: 5.75e+00 | : 100%|█| 20/20 [00:02<00:00,  9.28it\n"
     ]
    },
    {
     "name": "stdout",
     "output_type": "stream",
     "text": [
      "saving model version 0.5\n",
      "saving model version 0.6\n"
     ]
    },
    {
     "name": "stderr",
     "output_type": "stream",
     "text": [
      "| train_loss: 1.65e-03 | test_loss: 1.32e-03 | reg: 5.75e+00 | : 100%|█| 20/20 [00:02<00:00,  7.35it\n"
     ]
    },
    {
     "name": "stdout",
     "output_type": "stream",
     "text": [
      "saving model version 0.7\n",
      "saving model version 0.8\n"
     ]
    },
    {
     "name": "stderr",
     "output_type": "stream",
     "text": [
      "| train_loss: 1.70e-03 | test_loss: 1.32e-03 | reg: 5.75e+00 | : 100%|█| 20/20 [00:03<00:00,  6.62it"
     ]
    },
    {
     "name": "stdout",
     "output_type": "stream",
     "text": [
      "saving model version 0.9\n"
     ]
    },
    {
     "name": "stderr",
     "output_type": "stream",
     "text": [
      "\n"
     ]
    }
   ],
   "execution_count": 12
  },
  {
   "metadata": {
    "ExecuteTime": {
     "end_time": "2024-11-07T11:49:05.340053Z",
     "start_time": "2024-11-07T11:49:05.061332Z"
    }
   },
   "cell_type": "code",
   "source": [
    "plt.plot(train_losses)\n",
    "plt.plot(test_losses)\n",
    "plt.legend(['train', 'test'])\n",
    "plt.ylabel('RMSE')\n",
    "plt.xlabel('step')\n",
    "plt.yscale('log')"
   ],
   "id": "279025ef5515b371",
   "outputs": [
    {
     "data": {
      "text/plain": [
       "<Figure size 640x480 with 1 Axes>"
      ],
      "image/png": "[encoded data removed]"
     },
     "metadata": {},
     "output_type": "display_data"
    }
   ],
   "execution_count": 13
  },
  {
   "metadata": {
    "ExecuteTime": {
     "end_time": "2024-11-07T11:49:09.508424Z",
     "start_time": "2024-11-07T11:49:09.124782Z"
    }
   },
   "cell_type": "code",
   "source": [
    "n_params = 3 * grids\n",
    "train_vs_G = train_losses[(steps-1)::steps]\n",
    "test_vs_G = test_losses[(steps-1)::steps]\n",
    "plt.plot(n_params, train_vs_G, marker=\"o\")\n",
    "plt.plot(n_params, test_vs_G, marker=\"o\")\n",
    "plt.plot(n_params, 100*n_params**(-4.), ls=\"--\", color=\"black\")\n",
    "plt.xscale('log')\n",
    "plt.yscale('log')\n",
    "plt.legend(['train', 'test', r'$N^{-4}$'])\n",
    "plt.xlabel('number of params')\n",
    "plt.ylabel('RMSE')"
   ],
   "id": "88f544755f1d8260",
   "outputs": [
    {
     "data": {
      "text/plain": [
       "Text(0, 0.5, 'RMSE')"
      ]
     },
     "execution_count": 14,
     "metadata": {},
     "output_type": "execute_result"
    },
    {
     "data": {
      "text/plain": [
       "<Figure size 640x480 with 1 Axes>"
      ],
      "image/png": "[encoded data removed]"
     },
     "metadata": {},
     "output_type": "display_data"
    }
   ],
   "execution_count": 14
  },
  {
   "metadata": {},
   "cell_type": "code",
   "outputs": [],
   "execution_count": null,
   "source": "print",
   "id": "c5355c56dd803e21"
  }
 ],
 "metadata": {
  "kernelspec": {
   "display_name": "Python 3",
   "language": "python",
   "name": "python3"
  },
  "language_info": {
   "codemirror_mode": {
    "name": "ipython",
    "version": 2
   },
   "file_extension": ".py",
   "mimetype": "text/x-python",
   "name": "python",
   "nbconvert_exporter": "python",
   "pygments_lexer": "ipython2",
   "version": "2.7.6"
  }
 },
 "nbformat": 4,
 "nbformat_minor": 5
}
