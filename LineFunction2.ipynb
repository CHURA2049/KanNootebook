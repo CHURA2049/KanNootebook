{
 "cells": [
  {
   "metadata": {},
   "cell_type": "markdown",
   "source": "----------------------------------------",
   "id": "408fb31df46070f7"
  },
  {
   "metadata": {
    "ExecuteTime": {
     "end_time": "2024-11-07T11:29:02.210202Z",
     "start_time": "2024-11-07T11:29:02.184490Z"
    }
   },
   "cell_type": "code",
   "source": [
    "from kan import *\n",
    "\n",
    "device = torch.device('cuda' if torch.cuda.is_available() else 'cpu')\n",
    "print(device)\n",
    "\n",
    "# initialize KAN with G=3\n",
    "model = KAN(width=[2, 1, 1], grid=3, k=3, seed=1, device=device)\n",
    "\n",
    "import torch\n",
    "\n",
    "# Определение функции f\n",
    "f = lambda x: torch.exp(torch.sin(torch.pi * x[:, [0]]) + x[:, [1]] ** 2)\n",
    "\n",
    "# Создание входных данных x\n",
    "x = torch.randn(100, 2)  # Создаем 100 случайных точек в двумерном пространстве\n",
    "\n",
    "# Применение функции f к входным данным для получения выходных значений y\n",
    "y = f(x)\n",
    "\n",
    "# Создание двумерного тензора, где первый столбец содержит x[:, 0], а второй столбец содержит y\n",
    "result = torch.cat((x[:, [0]], y), dim=1)\n",
    "\n",
    "# Вывод результата\n",
    "print(result)\n",
    "print(result.shape)  # Проверка размерности тензора\n",
    "dataset  = create_dataset_from_data(result,result, train_ratio=0.8, device=device) #create_dataset(f, n_var=10, device=device)"
   ],
   "id": "2766da908b998652",
   "outputs": [
    {
     "name": "stdout",
     "output_type": "stream",
     "text": [
      "cpu\n",
      "checkpoint directory created: ./model\n",
      "saving model version 0.0\n",
      "tensor([[ 2.0154e+00,  1.0993e+00],\n",
      "        [-5.2419e-01,  9.5354e+00],\n",
      "        [-1.3083e+00,  2.7998e+00],\n",
      "        [ 1.1422e+00,  6.9066e-01],\n",
      "        [-7.4787e-01,  1.7103e+00],\n",
      "        [ 2.9814e-01,  2.2651e+00],\n",
      "        [-6.4634e-01,  4.9041e-01],\n",
      "        [ 1.4761e+00,  8.9865e+00],\n",
      "        [ 1.0343e-02,  2.7187e+00],\n",
      "        [ 8.7929e-01,  1.1868e+01],\n",
      "        [-1.1802e+00,  2.0228e+00],\n",
      "        [ 4.0845e-01,  2.7883e+00],\n",
      "        [-9.8228e-01,  5.4941e+00],\n",
      "        [ 8.5472e-01,  1.6810e+00],\n",
      "        [ 7.0002e-01,  1.8747e+01],\n",
      "        [ 1.6089e+00,  3.9329e-01],\n",
      "        [-1.5999e-01,  7.9689e-01],\n",
      "        [-1.4746e+00,  3.0450e+00],\n",
      "        [-3.0026e-01,  2.4600e+00],\n",
      "        [-1.1628e+00,  1.6549e+00],\n",
      "        [ 1.9907e+00,  2.2839e+00],\n",
      "        [-9.3010e-01,  6.2182e+00],\n",
      "        [ 4.2077e-01,  2.9873e+00],\n",
      "        [ 7.6393e-01,  2.7798e+00],\n",
      "        [ 1.1120e+00,  1.0350e+00],\n",
      "        [ 1.9382e-01,  1.4010e+03],\n",
      "        [ 8.5394e-01,  7.3658e+00],\n",
      "        [ 5.0572e-01,  6.7081e+00],\n",
      "        [-1.1334e+00,  1.5177e+00],\n",
      "        [ 3.4335e-01,  7.5900e+00],\n",
      "        [-8.7426e-01,  5.8172e+00],\n",
      "        [-1.2629e+00,  7.3460e+00],\n",
      "        [-4.3119e-01,  3.8597e-01],\n",
      "        [ 1.2540e+00,  2.8475e+00],\n",
      "        [-4.9541e-01,  4.0610e+00],\n",
      "        [ 3.4763e-01,  2.4504e+00],\n",
      "        [ 3.4001e-01,  3.6397e+00],\n",
      "        [-2.8702e-01,  2.8172e+04],\n",
      "        [-4.0206e-01,  6.4036e-01],\n",
      "        [-6.2003e-01,  4.1574e-01],\n",
      "        [-8.0436e-01,  1.6470e+00],\n",
      "        [-1.0669e+00,  1.2867e+00],\n",
      "        [-2.1552e-01,  5.7503e-01],\n",
      "        [ 5.5969e-01,  2.9560e+00],\n",
      "        [-1.7943e+00,  1.8450e+01],\n",
      "        [ 9.1958e-01,  1.7344e+00],\n",
      "        [-3.4724e-01,  7.2010e-01],\n",
      "        [-9.2344e-01,  1.0948e+00],\n",
      "        [-1.5474e+00,  4.7718e+00],\n",
      "        [-4.0676e-01,  3.9020e-01],\n",
      "        [ 2.8037e-01,  2.1655e+00],\n",
      "        [-6.3784e-01,  7.8359e-01],\n",
      "        [ 2.5571e+00,  4.8437e+00],\n",
      "        [-1.0739e+00,  1.3109e+00],\n",
      "        [-5.6026e-01,  5.9606e-01],\n",
      "        [-5.1700e-01,  9.0824e+00],\n",
      "        [ 9.8728e-01,  1.1081e+00],\n",
      "        [-7.9303e-01,  7.1769e-01],\n",
      "        [ 1.2236e+00,  1.2820e+00],\n",
      "        [-1.3529e+00,  2.2977e+05],\n",
      "        [-7.8863e-02,  9.1045e-01],\n",
      "        [-7.9600e-02,  1.3922e+00],\n",
      "        [-1.0025e+00,  2.4674e+00],\n",
      "        [ 3.5120e-01,  2.8979e+01],\n",
      "        [-3.5822e-01,  4.0702e-01],\n",
      "        [-2.4919e+00,  3.9024e-01],\n",
      "        [ 2.8831e-01,  2.2231e+00],\n",
      "        [ 3.1257e-01,  2.2043e+01],\n",
      "        [ 9.4734e-01,  1.7367e+00],\n",
      "        [-4.4814e-01,  4.0448e-01],\n",
      "        [ 3.8798e-01,  9.4520e+00],\n",
      "        [-6.5123e-01,  4.1536e-01],\n",
      "        [-5.6733e-01,  1.5846e+00],\n",
      "        [-4.7417e-02,  4.7627e+01],\n",
      "        [-4.9140e-01,  6.8189e+00],\n",
      "        [ 7.9128e-01,  5.2398e+00],\n",
      "        [ 5.7061e-02,  1.9763e+00],\n",
      "        [-5.2625e-01,  1.2495e+00],\n",
      "        [-6.9945e-01,  6.0732e-01],\n",
      "        [-9.0588e-01,  9.0336e-01],\n",
      "        [ 1.3245e+00,  4.2874e-01],\n",
      "        [ 3.4698e-01,  3.7209e+00],\n",
      "        [ 1.5586e+00,  4.3910e-01],\n",
      "        [ 2.4423e+00,  3.0938e+00],\n",
      "        [ 1.7710e+00,  3.0279e+01],\n",
      "        [ 4.2350e-01,  3.6679e+00],\n",
      "        [-1.7962e+00,  1.9957e+00],\n",
      "        [-4.2027e-01,  4.1114e-01],\n",
      "        [ 3.8721e-01,  2.7391e+03],\n",
      "        [-9.6240e-01,  9.2797e-01],\n",
      "        [-1.3889e+00,  2.5597e+00],\n",
      "        [-1.8734e+00,  3.7572e+01],\n",
      "        [ 7.5612e-01,  9.6886e+00],\n",
      "        [ 8.9555e-01,  1.4195e+00],\n",
      "        [ 7.5142e-01,  6.8708e+02],\n",
      "        [ 1.0206e+00,  1.1382e+00],\n",
      "        [-5.1417e-02,  3.9252e+00],\n",
      "        [ 1.5786e+00,  1.3177e+00],\n",
      "        [ 7.6777e-01,  2.7526e+00],\n",
      "        [ 2.1189e+00,  1.9326e+00]])\n",
      "torch.Size([100, 2])\n"
     ]
    }
   ],
   "execution_count": 23
  },
  {
   "metadata": {
    "ExecuteTime": {
     "end_time": "2024-11-07T11:29:18.228954Z",
     "start_time": "2024-11-07T11:29:18.207785Z"
    }
   },
   "cell_type": "code",
   "source": "dataset",
   "id": "78c85fdfae5e1b83",
   "outputs": [
    {
     "data": {
      "text/plain": [
       "{'train_input': tensor([[ 1.3245e+00,  4.2874e-01],\n",
       "         [ 1.7710e+00,  3.0279e+01],\n",
       "         [ 1.2540e+00,  2.8475e+00],\n",
       "         [ 3.4698e-01,  3.7209e+00],\n",
       "         [ 8.9555e-01,  1.4195e+00],\n",
       "         [-1.4746e+00,  3.0450e+00],\n",
       "         [ 3.4001e-01,  3.6397e+00],\n",
       "         [ 1.5586e+00,  4.3910e-01],\n",
       "         [-4.4814e-01,  4.0448e-01],\n",
       "         [-2.4919e+00,  3.9024e-01],\n",
       "         [ 7.5612e-01,  9.6886e+00],\n",
       "         [-6.2003e-01,  4.1574e-01],\n",
       "         [ 9.8728e-01,  1.1081e+00],\n",
       "         [ 2.5571e+00,  4.8437e+00],\n",
       "         [-6.3784e-01,  7.8359e-01],\n",
       "         [-4.3119e-01,  3.8597e-01],\n",
       "         [-1.2629e+00,  7.3460e+00],\n",
       "         [-1.7943e+00,  1.8450e+01],\n",
       "         [-6.9945e-01,  6.0732e-01],\n",
       "         [-1.1802e+00,  2.0228e+00],\n",
       "         [-1.3083e+00,  2.7998e+00],\n",
       "         [-4.7417e-02,  4.7627e+01],\n",
       "         [ 1.5786e+00,  1.3177e+00],\n",
       "         [-1.0025e+00,  2.4674e+00],\n",
       "         [-1.1628e+00,  1.6549e+00],\n",
       "         [ 3.4763e-01,  2.4504e+00],\n",
       "         [ 7.5142e-01,  6.8708e+02],\n",
       "         [ 5.0572e-01,  6.7081e+00],\n",
       "         [-3.4724e-01,  7.2010e-01],\n",
       "         [-4.0206e-01,  6.4036e-01],\n",
       "         [ 3.1257e-01,  2.2043e+01],\n",
       "         [ 2.1189e+00,  1.9326e+00],\n",
       "         [-5.6026e-01,  5.9606e-01],\n",
       "         [ 1.0206e+00,  1.1382e+00],\n",
       "         [ 3.8721e-01,  2.7391e+03],\n",
       "         [-8.0436e-01,  1.6470e+00],\n",
       "         [-1.5474e+00,  4.7718e+00],\n",
       "         [-1.3529e+00,  2.2977e+05],\n",
       "         [ 7.6393e-01,  2.7798e+00],\n",
       "         [-4.9541e-01,  4.0610e+00],\n",
       "         [-1.7962e+00,  1.9957e+00],\n",
       "         [-1.0739e+00,  1.3109e+00],\n",
       "         [-5.2625e-01,  1.2495e+00],\n",
       "         [ 1.6089e+00,  3.9329e-01],\n",
       "         [ 2.4423e+00,  3.0938e+00],\n",
       "         [-1.0669e+00,  1.2867e+00],\n",
       "         [ 9.1958e-01,  1.7344e+00],\n",
       "         [-1.8734e+00,  3.7572e+01],\n",
       "         [ 8.5394e-01,  7.3658e+00],\n",
       "         [ 7.6777e-01,  2.7526e+00],\n",
       "         [ 5.5969e-01,  2.9560e+00],\n",
       "         [-5.1700e-01,  9.0824e+00],\n",
       "         [ 1.1120e+00,  1.0350e+00],\n",
       "         [-7.4787e-01,  1.7103e+00],\n",
       "         [ 1.2236e+00,  1.2820e+00],\n",
       "         [-4.0676e-01,  3.9020e-01],\n",
       "         [-9.3010e-01,  6.2182e+00],\n",
       "         [-4.2027e-01,  4.1114e-01],\n",
       "         [ 1.1422e+00,  6.9066e-01],\n",
       "         [-4.9140e-01,  6.8189e+00],\n",
       "         [-8.7426e-01,  5.8172e+00],\n",
       "         [ 2.8831e-01,  2.2231e+00],\n",
       "         [ 3.8798e-01,  9.4520e+00],\n",
       "         [-2.1552e-01,  5.7503e-01],\n",
       "         [-9.2344e-01,  1.0948e+00],\n",
       "         [-9.6240e-01,  9.2797e-01],\n",
       "         [ 1.0343e-02,  2.7187e+00],\n",
       "         [-7.8863e-02,  9.1045e-01],\n",
       "         [ 2.0154e+00,  1.0993e+00],\n",
       "         [-1.3889e+00,  2.5597e+00],\n",
       "         [-7.9303e-01,  7.1769e-01],\n",
       "         [ 4.2077e-01,  2.9873e+00],\n",
       "         [-7.9600e-02,  1.3922e+00],\n",
       "         [ 3.5120e-01,  2.8979e+01],\n",
       "         [ 1.4761e+00,  8.9865e+00],\n",
       "         [-5.1417e-02,  3.9252e+00],\n",
       "         [ 8.5472e-01,  1.6810e+00],\n",
       "         [ 9.4734e-01,  1.7367e+00],\n",
       "         [ 4.2350e-01,  3.6679e+00],\n",
       "         [ 7.0002e-01,  1.8747e+01]]),\n",
       " 'test_input': tensor([[-5.2419e-01,  9.5354e+00],\n",
       "         [ 2.9814e-01,  2.2651e+00],\n",
       "         [-6.4634e-01,  4.9041e-01],\n",
       "         [ 8.7929e-01,  1.1868e+01],\n",
       "         [ 4.0845e-01,  2.7883e+00],\n",
       "         [-9.8228e-01,  5.4941e+00],\n",
       "         [-1.5999e-01,  7.9689e-01],\n",
       "         [-3.0026e-01,  2.4600e+00],\n",
       "         [ 1.9907e+00,  2.2839e+00],\n",
       "         [ 1.9382e-01,  1.4010e+03],\n",
       "         [-1.1334e+00,  1.5177e+00],\n",
       "         [ 3.4335e-01,  7.5900e+00],\n",
       "         [-2.8702e-01,  2.8172e+04],\n",
       "         [ 2.8037e-01,  2.1655e+00],\n",
       "         [-3.5822e-01,  4.0702e-01],\n",
       "         [-6.5123e-01,  4.1536e-01],\n",
       "         [-5.6733e-01,  1.5846e+00],\n",
       "         [ 7.9128e-01,  5.2398e+00],\n",
       "         [ 5.7061e-02,  1.9763e+00],\n",
       "         [-9.0588e-01,  9.0336e-01]]),\n",
       " 'train_label': tensor([[ 1.3245e+00,  4.2874e-01],\n",
       "         [ 1.7710e+00,  3.0279e+01],\n",
       "         [ 1.2540e+00,  2.8475e+00],\n",
       "         [ 3.4698e-01,  3.7209e+00],\n",
       "         [ 8.9555e-01,  1.4195e+00],\n",
       "         [-1.4746e+00,  3.0450e+00],\n",
       "         [ 3.4001e-01,  3.6397e+00],\n",
       "         [ 1.5586e+00,  4.3910e-01],\n",
       "         [-4.4814e-01,  4.0448e-01],\n",
       "         [-2.4919e+00,  3.9024e-01],\n",
       "         [ 7.5612e-01,  9.6886e+00],\n",
       "         [-6.2003e-01,  4.1574e-01],\n",
       "         [ 9.8728e-01,  1.1081e+00],\n",
       "         [ 2.5571e+00,  4.8437e+00],\n",
       "         [-6.3784e-01,  7.8359e-01],\n",
       "         [-4.3119e-01,  3.8597e-01],\n",
       "         [-1.2629e+00,  7.3460e+00],\n",
       "         [-1.7943e+00,  1.8450e+01],\n",
       "         [-6.9945e-01,  6.0732e-01],\n",
       "         [-1.1802e+00,  2.0228e+00],\n",
       "         [-1.3083e+00,  2.7998e+00],\n",
       "         [-4.7417e-02,  4.7627e+01],\n",
       "         [ 1.5786e+00,  1.3177e+00],\n",
       "         [-1.0025e+00,  2.4674e+00],\n",
       "         [-1.1628e+00,  1.6549e+00],\n",
       "         [ 3.4763e-01,  2.4504e+00],\n",
       "         [ 7.5142e-01,  6.8708e+02],\n",
       "         [ 5.0572e-01,  6.7081e+00],\n",
       "         [-3.4724e-01,  7.2010e-01],\n",
       "         [-4.0206e-01,  6.4036e-01],\n",
       "         [ 3.1257e-01,  2.2043e+01],\n",
       "         [ 2.1189e+00,  1.9326e+00],\n",
       "         [-5.6026e-01,  5.9606e-01],\n",
       "         [ 1.0206e+00,  1.1382e+00],\n",
       "         [ 3.8721e-01,  2.7391e+03],\n",
       "         [-8.0436e-01,  1.6470e+00],\n",
       "         [-1.5474e+00,  4.7718e+00],\n",
       "         [-1.3529e+00,  2.2977e+05],\n",
       "         [ 7.6393e-01,  2.7798e+00],\n",
       "         [-4.9541e-01,  4.0610e+00],\n",
       "         [-1.7962e+00,  1.9957e+00],\n",
       "         [-1.0739e+00,  1.3109e+00],\n",
       "         [-5.2625e-01,  1.2495e+00],\n",
       "         [ 1.6089e+00,  3.9329e-01],\n",
       "         [ 2.4423e+00,  3.0938e+00],\n",
       "         [-1.0669e+00,  1.2867e+00],\n",
       "         [ 9.1958e-01,  1.7344e+00],\n",
       "         [-1.8734e+00,  3.7572e+01],\n",
       "         [ 8.5394e-01,  7.3658e+00],\n",
       "         [ 7.6777e-01,  2.7526e+00],\n",
       "         [ 5.5969e-01,  2.9560e+00],\n",
       "         [-5.1700e-01,  9.0824e+00],\n",
       "         [ 1.1120e+00,  1.0350e+00],\n",
       "         [-7.4787e-01,  1.7103e+00],\n",
       "         [ 1.2236e+00,  1.2820e+00],\n",
       "         [-4.0676e-01,  3.9020e-01],\n",
       "         [-9.3010e-01,  6.2182e+00],\n",
       "         [-4.2027e-01,  4.1114e-01],\n",
       "         [ 1.1422e+00,  6.9066e-01],\n",
       "         [-4.9140e-01,  6.8189e+00],\n",
       "         [-8.7426e-01,  5.8172e+00],\n",
       "         [ 2.8831e-01,  2.2231e+00],\n",
       "         [ 3.8798e-01,  9.4520e+00],\n",
       "         [-2.1552e-01,  5.7503e-01],\n",
       "         [-9.2344e-01,  1.0948e+00],\n",
       "         [-9.6240e-01,  9.2797e-01],\n",
       "         [ 1.0343e-02,  2.7187e+00],\n",
       "         [-7.8863e-02,  9.1045e-01],\n",
       "         [ 2.0154e+00,  1.0993e+00],\n",
       "         [-1.3889e+00,  2.5597e+00],\n",
       "         [-7.9303e-01,  7.1769e-01],\n",
       "         [ 4.2077e-01,  2.9873e+00],\n",
       "         [-7.9600e-02,  1.3922e+00],\n",
       "         [ 3.5120e-01,  2.8979e+01],\n",
       "         [ 1.4761e+00,  8.9865e+00],\n",
       "         [-5.1417e-02,  3.9252e+00],\n",
       "         [ 8.5472e-01,  1.6810e+00],\n",
       "         [ 9.4734e-01,  1.7367e+00],\n",
       "         [ 4.2350e-01,  3.6679e+00],\n",
       "         [ 7.0002e-01,  1.8747e+01]]),\n",
       " 'test_label': tensor([[-5.2419e-01,  9.5354e+00],\n",
       "         [ 2.9814e-01,  2.2651e+00],\n",
       "         [-6.4634e-01,  4.9041e-01],\n",
       "         [ 8.7929e-01,  1.1868e+01],\n",
       "         [ 4.0845e-01,  2.7883e+00],\n",
       "         [-9.8228e-01,  5.4941e+00],\n",
       "         [-1.5999e-01,  7.9689e-01],\n",
       "         [-3.0026e-01,  2.4600e+00],\n",
       "         [ 1.9907e+00,  2.2839e+00],\n",
       "         [ 1.9382e-01,  1.4010e+03],\n",
       "         [-1.1334e+00,  1.5177e+00],\n",
       "         [ 3.4335e-01,  7.5900e+00],\n",
       "         [-2.8702e-01,  2.8172e+04],\n",
       "         [ 2.8037e-01,  2.1655e+00],\n",
       "         [-3.5822e-01,  4.0702e-01],\n",
       "         [-6.5123e-01,  4.1536e-01],\n",
       "         [-5.6733e-01,  1.5846e+00],\n",
       "         [ 7.9128e-01,  5.2398e+00],\n",
       "         [ 5.7061e-02,  1.9763e+00],\n",
       "         [-9.0588e-01,  9.0336e-01]])}"
      ]
     },
     "execution_count": 24,
     "metadata": {},
     "output_type": "execute_result"
    }
   ],
   "execution_count": 24
  },
  {
   "metadata": {
    "ExecuteTime": {
     "end_time": "2024-11-07T11:30:26.956551Z",
     "start_time": "2024-11-07T11:30:26.929336Z"
    }
   },
   "cell_type": "code",
   "source": [
    "# initialize KAN with G=3\n",
    "model = KAN(width=[2,1,1], grid=3, k=3, seed=1, device=device)"
   ],
   "id": "b7a27b94ee9460ae",
   "outputs": [
    {
     "name": "stdout",
     "output_type": "stream",
     "text": [
      "checkpoint directory created: ./model\n",
      "saving model version 0.0\n"
     ]
    }
   ],
   "execution_count": 25
  },
  {
   "metadata": {
    "ExecuteTime": {
     "end_time": "2024-11-07T11:30:37.228889Z",
     "start_time": "2024-11-07T11:30:36.662713Z"
    }
   },
   "cell_type": "code",
   "source": "model.fit(dataset, opt=\"LBFGS\", steps=20);",
   "id": "964c4796d5391af2",
   "outputs": [
    {
     "name": "stderr",
     "output_type": "stream",
     "text": [
      "| train_loss: 1.28e+04 | test_loss: 4.19e+03 | reg: 6.75e+00 | : 100%|█| 20/20 [00:00<00:00, 36.59it"
     ]
    },
    {
     "name": "stdout",
     "output_type": "stream",
     "text": [
      "saving model version 0.1\n"
     ]
    },
    {
     "name": "stderr",
     "output_type": "stream",
     "text": [
      "\n"
     ]
    }
   ],
   "execution_count": 26
  },
  {
   "metadata": {
    "ExecuteTime": {
     "end_time": "2024-11-07T11:30:48.931777Z",
     "start_time": "2024-11-07T11:30:48.910448Z"
    }
   },
   "cell_type": "code",
   "source": [
    "# initialize a more fine-grained KAN with G=10\n",
    "model = model.refine(10)"
   ],
   "id": "87cd0fe69323e83b",
   "outputs": [
    {
     "name": "stdout",
     "output_type": "stream",
     "text": [
      "saving model version 0.2\n"
     ]
    }
   ],
   "execution_count": 27
  },
  {
   "metadata": {
    "ExecuteTime": {
     "end_time": "2024-11-07T11:30:55.809090Z",
     "start_time": "2024-11-07T11:30:55.203781Z"
    }
   },
   "cell_type": "code",
   "source": "model.fit(dataset, opt=\"LBFGS\", steps=20);",
   "id": "f1da4ef65fee8fa9",
   "outputs": [
    {
     "name": "stderr",
     "output_type": "stream",
     "text": [
      "| train_loss: 1.28e+04 | test_loss: 5.05e+03 | reg: 6.66e+00 | : 100%|█| 20/20 [00:00<00:00, 35.18it\n"
     ]
    },
    {
     "name": "stdout",
     "output_type": "stream",
     "text": [
      "saving model version 0.3\n"
     ]
    }
   ],
   "execution_count": 28
  },
  {
   "metadata": {},
   "cell_type": "code",
   "outputs": [],
   "execution_count": null,
   "source": "",
   "id": "7cde578a76ccf2de"
  },
  {
   "metadata": {},
   "cell_type": "markdown",
   "source": "----------------------------------------------------",
   "id": "552dd7b7de1dbb73"
  },
  {
   "cell_type": "code",
   "id": "initial_id",
   "metadata": {
    "collapsed": true,
    "ExecuteTime": {
     "end_time": "2024-11-07T11:16:44.447933Z",
     "start_time": "2024-11-07T11:16:44.428375Z"
    }
   },
   "source": [
    "from kan import *\n",
    "\n",
    "\n",
    "device = torch.device('cuda' if torch.cuda.is_available() else 'cpu')\n",
    "print(device)\n",
    "\n",
    "# initialize KAN with G=3\n",
    "model = KAN(width=[10,1,1], grid=3, k=3, seed=1, device=device)\n",
    "\n",
    "# create dataset\n",
    "f = lambda x: torch.exp(torch.sin(torch.pi*x[:,[0]]) + x[:,[1]]**2)\n",
    "dataset = create_dataset(f, n_var=10, device=device)"
   ],
   "outputs": [
    {
     "name": "stdout",
     "output_type": "stream",
     "text": [
      "cpu\n",
      "checkpoint directory created: ./model\n",
      "saving model version 0.0\n"
     ]
    }
   ],
   "execution_count": 10
  },
  {
   "metadata": {
    "ExecuteTime": {
     "end_time": "2024-11-07T11:15:56.496942Z",
     "start_time": "2024-11-07T11:15:56.479873Z"
    }
   },
   "cell_type": "code",
   "source": "",
   "id": "909553970afa1b1",
   "outputs": [],
   "execution_count": null
  },
  {
   "metadata": {
    "ExecuteTime": {
     "end_time": "2024-11-07T11:16:49.558664Z",
     "start_time": "2024-11-07T11:16:46.498259Z"
    }
   },
   "cell_type": "code",
   "source": "model.fit(dataset, opt=\"LBFGS\", steps=20);",
   "id": "49a7af2f794752bc",
   "outputs": [
    {
     "name": "stderr",
     "output_type": "stream",
     "text": [
      "| train_loss: 1.35e-02 | test_loss: 1.46e-02 | reg: 6.99e+00 | : 100%|█| 20/20 [00:03<00:00,  6.57it"
     ]
    },
    {
     "name": "stdout",
     "output_type": "stream",
     "text": [
      "saving model version 0.1\n"
     ]
    },
    {
     "name": "stderr",
     "output_type": "stream",
     "text": [
      "\n"
     ]
    }
   ],
   "execution_count": 11
  },
  {
   "metadata": {
    "ExecuteTime": {
     "end_time": "2024-11-07T11:16:51.417141Z",
     "start_time": "2024-11-07T11:16:51.292060Z"
    }
   },
   "cell_type": "code",
   "source": [
    "# initialize a more fine-grained KAN with G=10\n",
    "model = model.refine(100)"
   ],
   "id": "ae855a691b9bfb73",
   "outputs": [
    {
     "name": "stdout",
     "output_type": "stream",
     "text": [
      "saving model version 0.2\n"
     ]
    }
   ],
   "execution_count": 12
  },
  {
   "metadata": {
    "ExecuteTime": {
     "end_time": "2024-11-07T11:17:00.962486Z",
     "start_time": "2024-11-07T11:16:53.164623Z"
    }
   },
   "cell_type": "code",
   "source": "model.fit(dataset, opt=\"LBFGS\", steps=20);",
   "id": "e34a63269f92e2ca",
   "outputs": [
    {
     "name": "stderr",
     "output_type": "stream",
     "text": [
      "| train_loss: 4.60e-05 | test_loss: 1.85e-03 | reg: 6.95e+00 | : 100%|█| 20/20 [00:07<00:00,  2.57it"
     ]
    },
    {
     "name": "stdout",
     "output_type": "stream",
     "text": [
      "saving model version 0.3\n"
     ]
    },
    {
     "name": "stderr",
     "output_type": "stream",
     "text": [
      "\n"
     ]
    }
   ],
   "execution_count": 13
  },
  {
   "metadata": {
    "ExecuteTime": {
     "end_time": "2024-11-07T11:16:09.216373Z",
     "start_time": "2024-11-07T11:16:05.193230Z"
    }
   },
   "cell_type": "code",
   "source": [
    "grids = np.array([3,10,20,50,100])\n",
    "\n",
    "\n",
    "train_losses = []\n",
    "test_losses = []\n",
    "steps = 200\n",
    "k = 3\n",
    "\n",
    "for i in range(grids.shape[0]):\n",
    "    if i == 0:\n",
    "        model = KAN(width=[2,1,1], grid=grids[i], k=k, seed=1, device=device)\n",
    "    if i != 0:\n",
    "        model = model.refine(grids[i])\n",
    "    results = model.fit(dataset, opt=\"LBFGS\", steps=steps)\n",
    "    train_losses += results['train_loss']\n",
    "    test_losses += results['test_loss']"
   ],
   "id": "8f85328d8d328d71",
   "outputs": [
    {
     "name": "stdout",
     "output_type": "stream",
     "text": [
      "checkpoint directory created: ./model\n",
      "saving model version 0.0\n"
     ]
    },
    {
     "name": "stderr",
     "output_type": "stream",
     "text": [
      "| train_loss: 1.36e-02 | test_loss: 1.39e-02 | reg: 0.00e+00 | :  26%|▎| 51/200 [00:03<00:10, 14.25i\n"
     ]
    },
    {
     "ename": "KeyboardInterrupt",
     "evalue": "",
     "output_type": "error",
     "traceback": [
      "\u001B[1;31m---------------------------------------------------------------------------\u001B[0m",
      "\u001B[1;31mKeyboardInterrupt\u001B[0m                         Traceback (most recent call last)",
      "Cell \u001B[1;32mIn[5], line 14\u001B[0m\n\u001B[0;32m     12\u001B[0m \u001B[38;5;28;01mif\u001B[39;00m i \u001B[38;5;241m!=\u001B[39m \u001B[38;5;241m0\u001B[39m:\n\u001B[0;32m     13\u001B[0m     model \u001B[38;5;241m=\u001B[39m model\u001B[38;5;241m.\u001B[39mrefine(grids[i])\n\u001B[1;32m---> 14\u001B[0m results \u001B[38;5;241m=\u001B[39m \u001B[43mmodel\u001B[49m\u001B[38;5;241;43m.\u001B[39;49m\u001B[43mfit\u001B[49m\u001B[43m(\u001B[49m\u001B[43mdataset\u001B[49m\u001B[43m,\u001B[49m\u001B[43m \u001B[49m\u001B[43mopt\u001B[49m\u001B[38;5;241;43m=\u001B[39;49m\u001B[38;5;124;43m\"\u001B[39;49m\u001B[38;5;124;43mLBFGS\u001B[39;49m\u001B[38;5;124;43m\"\u001B[39;49m\u001B[43m,\u001B[49m\u001B[43m \u001B[49m\u001B[43msteps\u001B[49m\u001B[38;5;241;43m=\u001B[39;49m\u001B[43msteps\u001B[49m\u001B[43m)\u001B[49m\n\u001B[0;32m     15\u001B[0m train_losses \u001B[38;5;241m+\u001B[39m\u001B[38;5;241m=\u001B[39m results[\u001B[38;5;124m'\u001B[39m\u001B[38;5;124mtrain_loss\u001B[39m\u001B[38;5;124m'\u001B[39m]\n\u001B[0;32m     16\u001B[0m test_losses \u001B[38;5;241m+\u001B[39m\u001B[38;5;241m=\u001B[39m results[\u001B[38;5;124m'\u001B[39m\u001B[38;5;124mtest_loss\u001B[39m\u001B[38;5;124m'\u001B[39m]\n",
      "File \u001B[1;32mC:\\TRADE_LapTop\\KanNootebook\\venv\\Lib\\site-packages\\kan\\MultKAN.py:1537\u001B[0m, in \u001B[0;36mMultKAN.fit\u001B[1;34m(self, dataset, opt, steps, log, lamb, lamb_l1, lamb_entropy, lamb_coef, lamb_coefdiff, update_grid, grid_update_num, loss_fn, lr, start_grid_update_step, stop_grid_update_step, batch, metrics, save_fig, in_vars, out_vars, beta, save_fig_freq, img_folder, singularity_avoiding, y_th, reg_metric, display_metrics)\u001B[0m\n\u001B[0;32m   1534\u001B[0m     \u001B[38;5;28mself\u001B[39m\u001B[38;5;241m.\u001B[39mupdate_grid(dataset[\u001B[38;5;124m'\u001B[39m\u001B[38;5;124mtrain_input\u001B[39m\u001B[38;5;124m'\u001B[39m][train_id])\n\u001B[0;32m   1536\u001B[0m \u001B[38;5;28;01mif\u001B[39;00m opt \u001B[38;5;241m==\u001B[39m \u001B[38;5;124m\"\u001B[39m\u001B[38;5;124mLBFGS\u001B[39m\u001B[38;5;124m\"\u001B[39m:\n\u001B[1;32m-> 1537\u001B[0m     \u001B[43moptimizer\u001B[49m\u001B[38;5;241;43m.\u001B[39;49m\u001B[43mstep\u001B[49m\u001B[43m(\u001B[49m\u001B[43mclosure\u001B[49m\u001B[43m)\u001B[49m\n\u001B[0;32m   1539\u001B[0m \u001B[38;5;28;01mif\u001B[39;00m opt \u001B[38;5;241m==\u001B[39m \u001B[38;5;124m\"\u001B[39m\u001B[38;5;124mAdam\u001B[39m\u001B[38;5;124m\"\u001B[39m:\n\u001B[0;32m   1540\u001B[0m     pred \u001B[38;5;241m=\u001B[39m \u001B[38;5;28mself\u001B[39m\u001B[38;5;241m.\u001B[39mforward(dataset[\u001B[38;5;124m'\u001B[39m\u001B[38;5;124mtrain_input\u001B[39m\u001B[38;5;124m'\u001B[39m][train_id], singularity_avoiding\u001B[38;5;241m=\u001B[39msingularity_avoiding, y_th\u001B[38;5;241m=\u001B[39my_th)\n",
      "File \u001B[1;32mC:\\TRADE_LapTop\\KanNootebook\\venv\\Lib\\site-packages\\torch\\optim\\optimizer.py:487\u001B[0m, in \u001B[0;36mOptimizer.profile_hook_step.<locals>.wrapper\u001B[1;34m(*args, **kwargs)\u001B[0m\n\u001B[0;32m    482\u001B[0m         \u001B[38;5;28;01melse\u001B[39;00m:\n\u001B[0;32m    483\u001B[0m             \u001B[38;5;28;01mraise\u001B[39;00m \u001B[38;5;167;01mRuntimeError\u001B[39;00m(\n\u001B[0;32m    484\u001B[0m                 \u001B[38;5;124mf\u001B[39m\u001B[38;5;124m\"\u001B[39m\u001B[38;5;132;01m{\u001B[39;00mfunc\u001B[38;5;132;01m}\u001B[39;00m\u001B[38;5;124m must return None or a tuple of (new_args, new_kwargs), but got \u001B[39m\u001B[38;5;132;01m{\u001B[39;00mresult\u001B[38;5;132;01m}\u001B[39;00m\u001B[38;5;124m.\u001B[39m\u001B[38;5;124m\"\u001B[39m\n\u001B[0;32m    485\u001B[0m             )\n\u001B[1;32m--> 487\u001B[0m out \u001B[38;5;241m=\u001B[39m \u001B[43mfunc\u001B[49m\u001B[43m(\u001B[49m\u001B[38;5;241;43m*\u001B[39;49m\u001B[43margs\u001B[49m\u001B[43m,\u001B[49m\u001B[43m \u001B[49m\u001B[38;5;241;43m*\u001B[39;49m\u001B[38;5;241;43m*\u001B[39;49m\u001B[43mkwargs\u001B[49m\u001B[43m)\u001B[49m\n\u001B[0;32m    488\u001B[0m \u001B[38;5;28mself\u001B[39m\u001B[38;5;241m.\u001B[39m_optimizer_step_code()\n\u001B[0;32m    490\u001B[0m \u001B[38;5;66;03m# call optimizer step post hooks\u001B[39;00m\n",
      "File \u001B[1;32mC:\\TRADE_LapTop\\KanNootebook\\venv\\Lib\\site-packages\\torch\\utils\\_contextlib.py:116\u001B[0m, in \u001B[0;36mcontext_decorator.<locals>.decorate_context\u001B[1;34m(*args, **kwargs)\u001B[0m\n\u001B[0;32m    113\u001B[0m \u001B[38;5;129m@functools\u001B[39m\u001B[38;5;241m.\u001B[39mwraps(func)\n\u001B[0;32m    114\u001B[0m \u001B[38;5;28;01mdef\u001B[39;00m \u001B[38;5;21mdecorate_context\u001B[39m(\u001B[38;5;241m*\u001B[39margs, \u001B[38;5;241m*\u001B[39m\u001B[38;5;241m*\u001B[39mkwargs):\n\u001B[0;32m    115\u001B[0m     \u001B[38;5;28;01mwith\u001B[39;00m ctx_factory():\n\u001B[1;32m--> 116\u001B[0m         \u001B[38;5;28;01mreturn\u001B[39;00m \u001B[43mfunc\u001B[49m\u001B[43m(\u001B[49m\u001B[38;5;241;43m*\u001B[39;49m\u001B[43margs\u001B[49m\u001B[43m,\u001B[49m\u001B[43m \u001B[49m\u001B[38;5;241;43m*\u001B[39;49m\u001B[38;5;241;43m*\u001B[39;49m\u001B[43mkwargs\u001B[49m\u001B[43m)\u001B[49m\n",
      "File \u001B[1;32mC:\\TRADE_LapTop\\KanNootebook\\venv\\Lib\\site-packages\\kan\\LBFGS.py:443\u001B[0m, in \u001B[0;36mLBFGS.step\u001B[1;34m(self, closure)\u001B[0m\n\u001B[0;32m    441\u001B[0m     \u001B[38;5;28;01mdef\u001B[39;00m \u001B[38;5;21mobj_func\u001B[39m(x, t, d):\n\u001B[0;32m    442\u001B[0m         \u001B[38;5;28;01mreturn\u001B[39;00m \u001B[38;5;28mself\u001B[39m\u001B[38;5;241m.\u001B[39m_directional_evaluate(closure, x, t, d)\n\u001B[1;32m--> 443\u001B[0m     loss, flat_grad, t, ls_func_evals \u001B[38;5;241m=\u001B[39m \u001B[43m_strong_wolfe\u001B[49m\u001B[43m(\u001B[49m\n\u001B[0;32m    444\u001B[0m \u001B[43m        \u001B[49m\u001B[43mobj_func\u001B[49m\u001B[43m,\u001B[49m\u001B[43m \u001B[49m\u001B[43mx_init\u001B[49m\u001B[43m,\u001B[49m\u001B[43m \u001B[49m\u001B[43mt\u001B[49m\u001B[43m,\u001B[49m\u001B[43m \u001B[49m\u001B[43md\u001B[49m\u001B[43m,\u001B[49m\u001B[43m \u001B[49m\u001B[43mloss\u001B[49m\u001B[43m,\u001B[49m\u001B[43m \u001B[49m\u001B[43mflat_grad\u001B[49m\u001B[43m,\u001B[49m\u001B[43m \u001B[49m\u001B[43mgtd\u001B[49m\u001B[43m)\u001B[49m\n\u001B[0;32m    445\u001B[0m \u001B[38;5;28mself\u001B[39m\u001B[38;5;241m.\u001B[39m_add_grad(t, d)\n\u001B[0;32m    446\u001B[0m opt_cond \u001B[38;5;241m=\u001B[39m flat_grad\u001B[38;5;241m.\u001B[39mabs()\u001B[38;5;241m.\u001B[39mmax() \u001B[38;5;241m<\u001B[39m\u001B[38;5;241m=\u001B[39m tolerance_grad\n",
      "File \u001B[1;32mC:\\TRADE_LapTop\\KanNootebook\\venv\\Lib\\site-packages\\kan\\LBFGS.py:150\u001B[0m, in \u001B[0;36m_strong_wolfe\u001B[1;34m(obj_func, x, t, d, f, g, gtd, c1, c2, tolerance_change, max_ls)\u001B[0m\n\u001B[0;32m    147\u001B[0m     insuf_progress \u001B[38;5;241m=\u001B[39m \u001B[38;5;28;01mFalse\u001B[39;00m\n\u001B[0;32m    149\u001B[0m \u001B[38;5;66;03m# Evaluate new point\u001B[39;00m\n\u001B[1;32m--> 150\u001B[0m f_new, g_new \u001B[38;5;241m=\u001B[39m \u001B[43mobj_func\u001B[49m\u001B[43m(\u001B[49m\u001B[43mx\u001B[49m\u001B[43m,\u001B[49m\u001B[43m \u001B[49m\u001B[43mt\u001B[49m\u001B[43m,\u001B[49m\u001B[43m \u001B[49m\u001B[43md\u001B[49m\u001B[43m)\u001B[49m\n\u001B[0;32m    151\u001B[0m ls_func_evals \u001B[38;5;241m+\u001B[39m\u001B[38;5;241m=\u001B[39m \u001B[38;5;241m1\u001B[39m\n\u001B[0;32m    152\u001B[0m gtd_new \u001B[38;5;241m=\u001B[39m g_new\u001B[38;5;241m.\u001B[39mdot(d)\n",
      "File \u001B[1;32mC:\\TRADE_LapTop\\KanNootebook\\venv\\Lib\\site-packages\\kan\\LBFGS.py:442\u001B[0m, in \u001B[0;36mLBFGS.step.<locals>.obj_func\u001B[1;34m(x, t, d)\u001B[0m\n\u001B[0;32m    441\u001B[0m \u001B[38;5;28;01mdef\u001B[39;00m \u001B[38;5;21mobj_func\u001B[39m(x, t, d):\n\u001B[1;32m--> 442\u001B[0m     \u001B[38;5;28;01mreturn\u001B[39;00m \u001B[38;5;28;43mself\u001B[39;49m\u001B[38;5;241;43m.\u001B[39;49m\u001B[43m_directional_evaluate\u001B[49m\u001B[43m(\u001B[49m\u001B[43mclosure\u001B[49m\u001B[43m,\u001B[49m\u001B[43m \u001B[49m\u001B[43mx\u001B[49m\u001B[43m,\u001B[49m\u001B[43m \u001B[49m\u001B[43mt\u001B[49m\u001B[43m,\u001B[49m\u001B[43m \u001B[49m\u001B[43md\u001B[49m\u001B[43m)\u001B[49m\n",
      "File \u001B[1;32mC:\\TRADE_LapTop\\KanNootebook\\venv\\Lib\\site-packages\\kan\\LBFGS.py:291\u001B[0m, in \u001B[0;36mLBFGS._directional_evaluate\u001B[1;34m(self, closure, x, t, d)\u001B[0m\n\u001B[0;32m    289\u001B[0m \u001B[38;5;28;01mdef\u001B[39;00m \u001B[38;5;21m_directional_evaluate\u001B[39m(\u001B[38;5;28mself\u001B[39m, closure, x, t, d):\n\u001B[0;32m    290\u001B[0m     \u001B[38;5;28mself\u001B[39m\u001B[38;5;241m.\u001B[39m_add_grad(t, d)\n\u001B[1;32m--> 291\u001B[0m     loss \u001B[38;5;241m=\u001B[39m \u001B[38;5;28mfloat\u001B[39m(\u001B[43mclosure\u001B[49m\u001B[43m(\u001B[49m\u001B[43m)\u001B[49m)\n\u001B[0;32m    292\u001B[0m     flat_grad \u001B[38;5;241m=\u001B[39m \u001B[38;5;28mself\u001B[39m\u001B[38;5;241m.\u001B[39m_gather_flat_grad()\n\u001B[0;32m    293\u001B[0m     \u001B[38;5;28mself\u001B[39m\u001B[38;5;241m.\u001B[39m_set_param(x)\n",
      "File \u001B[1;32mC:\\TRADE_LapTop\\KanNootebook\\venv\\Lib\\site-packages\\torch\\utils\\_contextlib.py:116\u001B[0m, in \u001B[0;36mcontext_decorator.<locals>.decorate_context\u001B[1;34m(*args, **kwargs)\u001B[0m\n\u001B[0;32m    113\u001B[0m \u001B[38;5;129m@functools\u001B[39m\u001B[38;5;241m.\u001B[39mwraps(func)\n\u001B[0;32m    114\u001B[0m \u001B[38;5;28;01mdef\u001B[39;00m \u001B[38;5;21mdecorate_context\u001B[39m(\u001B[38;5;241m*\u001B[39margs, \u001B[38;5;241m*\u001B[39m\u001B[38;5;241m*\u001B[39mkwargs):\n\u001B[0;32m    115\u001B[0m     \u001B[38;5;28;01mwith\u001B[39;00m ctx_factory():\n\u001B[1;32m--> 116\u001B[0m         \u001B[38;5;28;01mreturn\u001B[39;00m \u001B[43mfunc\u001B[49m\u001B[43m(\u001B[49m\u001B[38;5;241;43m*\u001B[39;49m\u001B[43margs\u001B[49m\u001B[43m,\u001B[49m\u001B[43m \u001B[49m\u001B[38;5;241;43m*\u001B[39;49m\u001B[38;5;241;43m*\u001B[39;49m\u001B[43mkwargs\u001B[49m\u001B[43m)\u001B[49m\n",
      "File \u001B[1;32mC:\\TRADE_LapTop\\KanNootebook\\venv\\Lib\\site-packages\\kan\\MultKAN.py:1514\u001B[0m, in \u001B[0;36mMultKAN.fit.<locals>.closure\u001B[1;34m()\u001B[0m\n\u001B[0;32m   1512\u001B[0m     reg_ \u001B[38;5;241m=\u001B[39m torch\u001B[38;5;241m.\u001B[39mtensor(\u001B[38;5;241m0.\u001B[39m)\n\u001B[0;32m   1513\u001B[0m objective \u001B[38;5;241m=\u001B[39m train_loss \u001B[38;5;241m+\u001B[39m lamb \u001B[38;5;241m*\u001B[39m reg_\n\u001B[1;32m-> 1514\u001B[0m \u001B[43mobjective\u001B[49m\u001B[38;5;241;43m.\u001B[39;49m\u001B[43mbackward\u001B[49m\u001B[43m(\u001B[49m\u001B[43m)\u001B[49m\n\u001B[0;32m   1515\u001B[0m \u001B[38;5;28;01mreturn\u001B[39;00m objective\n",
      "File \u001B[1;32mC:\\TRADE_LapTop\\KanNootebook\\venv\\Lib\\site-packages\\torch\\_tensor.py:581\u001B[0m, in \u001B[0;36mTensor.backward\u001B[1;34m(self, gradient, retain_graph, create_graph, inputs)\u001B[0m\n\u001B[0;32m    571\u001B[0m \u001B[38;5;28;01mif\u001B[39;00m has_torch_function_unary(\u001B[38;5;28mself\u001B[39m):\n\u001B[0;32m    572\u001B[0m     \u001B[38;5;28;01mreturn\u001B[39;00m handle_torch_function(\n\u001B[0;32m    573\u001B[0m         Tensor\u001B[38;5;241m.\u001B[39mbackward,\n\u001B[0;32m    574\u001B[0m         (\u001B[38;5;28mself\u001B[39m,),\n\u001B[1;32m   (...)\u001B[0m\n\u001B[0;32m    579\u001B[0m         inputs\u001B[38;5;241m=\u001B[39minputs,\n\u001B[0;32m    580\u001B[0m     )\n\u001B[1;32m--> 581\u001B[0m \u001B[43mtorch\u001B[49m\u001B[38;5;241;43m.\u001B[39;49m\u001B[43mautograd\u001B[49m\u001B[38;5;241;43m.\u001B[39;49m\u001B[43mbackward\u001B[49m\u001B[43m(\u001B[49m\n\u001B[0;32m    582\u001B[0m \u001B[43m    \u001B[49m\u001B[38;5;28;43mself\u001B[39;49m\u001B[43m,\u001B[49m\u001B[43m \u001B[49m\u001B[43mgradient\u001B[49m\u001B[43m,\u001B[49m\u001B[43m \u001B[49m\u001B[43mretain_graph\u001B[49m\u001B[43m,\u001B[49m\u001B[43m \u001B[49m\u001B[43mcreate_graph\u001B[49m\u001B[43m,\u001B[49m\u001B[43m \u001B[49m\u001B[43minputs\u001B[49m\u001B[38;5;241;43m=\u001B[39;49m\u001B[43minputs\u001B[49m\n\u001B[0;32m    583\u001B[0m \u001B[43m\u001B[49m\u001B[43m)\u001B[49m\n",
      "File \u001B[1;32mC:\\TRADE_LapTop\\KanNootebook\\venv\\Lib\\site-packages\\torch\\autograd\\__init__.py:347\u001B[0m, in \u001B[0;36mbackward\u001B[1;34m(tensors, grad_tensors, retain_graph, create_graph, grad_variables, inputs)\u001B[0m\n\u001B[0;32m    342\u001B[0m     retain_graph \u001B[38;5;241m=\u001B[39m create_graph\n\u001B[0;32m    344\u001B[0m \u001B[38;5;66;03m# The reason we repeat the same comment below is that\u001B[39;00m\n\u001B[0;32m    345\u001B[0m \u001B[38;5;66;03m# some Python versions print out the first line of a multi-line function\u001B[39;00m\n\u001B[0;32m    346\u001B[0m \u001B[38;5;66;03m# calls in the traceback and some print out the last line\u001B[39;00m\n\u001B[1;32m--> 347\u001B[0m \u001B[43m_engine_run_backward\u001B[49m\u001B[43m(\u001B[49m\n\u001B[0;32m    348\u001B[0m \u001B[43m    \u001B[49m\u001B[43mtensors\u001B[49m\u001B[43m,\u001B[49m\n\u001B[0;32m    349\u001B[0m \u001B[43m    \u001B[49m\u001B[43mgrad_tensors_\u001B[49m\u001B[43m,\u001B[49m\n\u001B[0;32m    350\u001B[0m \u001B[43m    \u001B[49m\u001B[43mretain_graph\u001B[49m\u001B[43m,\u001B[49m\n\u001B[0;32m    351\u001B[0m \u001B[43m    \u001B[49m\u001B[43mcreate_graph\u001B[49m\u001B[43m,\u001B[49m\n\u001B[0;32m    352\u001B[0m \u001B[43m    \u001B[49m\u001B[43minputs\u001B[49m\u001B[43m,\u001B[49m\n\u001B[0;32m    353\u001B[0m \u001B[43m    \u001B[49m\u001B[43mallow_unreachable\u001B[49m\u001B[38;5;241;43m=\u001B[39;49m\u001B[38;5;28;43;01mTrue\u001B[39;49;00m\u001B[43m,\u001B[49m\n\u001B[0;32m    354\u001B[0m \u001B[43m    \u001B[49m\u001B[43maccumulate_grad\u001B[49m\u001B[38;5;241;43m=\u001B[39;49m\u001B[38;5;28;43;01mTrue\u001B[39;49;00m\u001B[43m,\u001B[49m\n\u001B[0;32m    355\u001B[0m \u001B[43m\u001B[49m\u001B[43m)\u001B[49m\n",
      "File \u001B[1;32mC:\\TRADE_LapTop\\KanNootebook\\venv\\Lib\\site-packages\\torch\\autograd\\graph.py:825\u001B[0m, in \u001B[0;36m_engine_run_backward\u001B[1;34m(t_outputs, *args, **kwargs)\u001B[0m\n\u001B[0;32m    823\u001B[0m     unregister_hooks \u001B[38;5;241m=\u001B[39m _register_logging_hooks_on_whole_graph(t_outputs)\n\u001B[0;32m    824\u001B[0m \u001B[38;5;28;01mtry\u001B[39;00m:\n\u001B[1;32m--> 825\u001B[0m     \u001B[38;5;28;01mreturn\u001B[39;00m \u001B[43mVariable\u001B[49m\u001B[38;5;241;43m.\u001B[39;49m\u001B[43m_execution_engine\u001B[49m\u001B[38;5;241;43m.\u001B[39;49m\u001B[43mrun_backward\u001B[49m\u001B[43m(\u001B[49m\u001B[43m  \u001B[49m\u001B[38;5;66;43;03m# Calls into the C++ engine to run the backward pass\u001B[39;49;00m\n\u001B[0;32m    826\u001B[0m \u001B[43m        \u001B[49m\u001B[43mt_outputs\u001B[49m\u001B[43m,\u001B[49m\u001B[43m \u001B[49m\u001B[38;5;241;43m*\u001B[39;49m\u001B[43margs\u001B[49m\u001B[43m,\u001B[49m\u001B[43m \u001B[49m\u001B[38;5;241;43m*\u001B[39;49m\u001B[38;5;241;43m*\u001B[39;49m\u001B[43mkwargs\u001B[49m\n\u001B[0;32m    827\u001B[0m \u001B[43m    \u001B[49m\u001B[43m)\u001B[49m  \u001B[38;5;66;03m# Calls into the C++ engine to run the backward pass\u001B[39;00m\n\u001B[0;32m    828\u001B[0m \u001B[38;5;28;01mfinally\u001B[39;00m:\n\u001B[0;32m    829\u001B[0m     \u001B[38;5;28;01mif\u001B[39;00m attach_logging_hooks:\n",
      "\u001B[1;31mKeyboardInterrupt\u001B[0m: "
     ]
    }
   ],
   "execution_count": 5
  },
  {
   "metadata": {
    "ExecuteTime": {
     "end_time": "2024-11-07T11:16:09.216373100Z",
     "start_time": "2024-11-02T16:08:52.311558Z"
    }
   },
   "cell_type": "code",
   "source": [
    "plt.plot(train_losses)\n",
    "plt.plot(test_losses)\n",
    "plt.legend(['train', 'test'])\n",
    "plt.ylabel('RMSE')\n",
    "plt.xlabel('step')\n",
    "plt.yscale('log')"
   ],
   "id": "bc4ab9c0afe4ec72",
   "outputs": [
    {
     "data": {
      "text/plain": [
       "<Figure size 640x480 with 1 Axes>"
      ],
      "image/png": "[encoded data removed]"
     },
     "metadata": {},
     "output_type": "display_data"
    }
   ],
   "execution_count": 16
  },
  {
   "metadata": {
    "ExecuteTime": {
     "end_time": "2024-11-07T11:16:09.216373100Z",
     "start_time": "2024-11-02T16:09:25.979169Z"
    }
   },
   "cell_type": "code",
   "source": [
    "n_params = 3 * grids\n",
    "train_vs_G = train_losses[(steps-1)::steps]\n",
    "test_vs_G = test_losses[(steps-1)::steps]\n",
    "plt.plot(n_params, train_vs_G, marker=\"o\")\n",
    "plt.plot(n_params, test_vs_G, marker=\"o\")\n",
    "plt.plot(n_params, 100*n_params**(-4.), ls=\"--\", color=\"black\")\n",
    "plt.xscale('log')\n",
    "plt.yscale('log')\n",
    "plt.legend(['train', 'test', r'$N^{-4}$'])\n",
    "plt.xlabel('number of params')\n",
    "plt.ylabel('RMSE')"
   ],
   "id": "80e422e15a0da7fa",
   "outputs": [
    {
     "data": {
      "text/plain": [
       "Text(0, 0.5, 'RMSE')"
      ]
     },
     "execution_count": 17,
     "metadata": {},
     "output_type": "execute_result"
    },
    {
     "data": {
      "text/plain": [
       "<Figure size 640x480 with 1 Axes>"
      ],
      "image/png": "[encoded data removed]"
     },
     "metadata": {},
     "output_type": "display_data"
    }
   ],
   "execution_count": 17
  }
 ],
 "metadata": {
  "kernelspec": {
   "display_name": "Python 3",
   "language": "python",
   "name": "python3"
  },
  "language_info": {
   "codemirror_mode": {
    "name": "ipython",
    "version": 2
   },
   "file_extension": ".py",
   "mimetype": "text/x-python",
   "name": "python",
   "nbconvert_exporter": "python",
   "pygments_lexer": "ipython2",
   "version": "2.7.6"
  }
 },
 "nbformat": 4,
 "nbformat_minor": 5
}
