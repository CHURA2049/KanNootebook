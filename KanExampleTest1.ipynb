{
 "cells": [
  {
   "cell_type": "code",
   "id": "initial_id",
   "metadata": {
    "collapsed": true,
    "ExecuteTime": {
     "end_time": "2024-11-02T15:12:17.806416Z",
     "start_time": "2024-11-02T15:12:17.799508Z"
    }
   },
   "source": [
    "from kan import *\n",
    "device = torch.device('cuda' if torch.cuda.is_available() else 'cpu')\n",
    "print(device)\n"
   ],
   "outputs": [
    {
     "name": "stdout",
     "output_type": "stream",
     "text": [
      "cpu\n"
     ]
    }
   ],
   "execution_count": 9
  },
  {
   "metadata": {
    "ExecuteTime": {
     "end_time": "2024-11-02T15:12:19.079428Z",
     "start_time": "2024-11-02T15:12:19.057570Z"
    }
   },
   "cell_type": "code",
   "source": [
    "data = pd.read_csv('file_for_input/all_hour/SBER_tradestats_test_hour.csv')\n",
    "data = data[['vol','val','trades','trades_b','trades_s', 'val_b','val_s','vol_b','vol_s','pr_open_hour','pr_high_hour','pr_low_hour','pr_close_hour']] # Не добавлются сюда другие лейблы\n",
    "data_lable= data [['pr_close_hour']]\n",
    "\n",
    "data_tensor = torch.tensor(data.values, dtype=torch.float32)\n",
    "data_tensor_lable=torch.tensor(data_lable.values, dtype=torch.float32)\n",
    "print (data_tensor.shape)"
   ],
   "id": "a3b413d2a4ea35ae",
   "outputs": [
    {
     "name": "stdout",
     "output_type": "stream",
     "text": [
      "torch.Size([8525, 13])\n"
     ]
    }
   ],
   "execution_count": 10
  },
  {
   "metadata": {
    "ExecuteTime": {
     "end_time": "2024-11-02T15:12:21.230826Z",
     "start_time": "2024-11-02T15:12:21.211339Z"
    }
   },
   "cell_type": "code",
   "source": [
    "# Убедитесь, что device определен (проверить код в этой ячейке)\n",
    "device = torch.device('cuda' if torch.cuda.is_available() else 'cpu')\n",
    "# Создание датасета\n",
    "dataset = create_dataset_from_data(data_tensor, data_tensor_lable, train_ratio=0.8, device=device)\n",
    "\n",
    "# Проверка размеров датасета\n",
    "print(dataset['train_input'].shape)\n",
    "print(dataset['train_label'].shape)\n",
    "print(dataset['test_input'].shape)\n",
    "print(dataset['test_label'].shape)\n"
   ],
   "id": "a7a997c1757081c",
   "outputs": [
    {
     "name": "stdout",
     "output_type": "stream",
     "text": [
      "torch.Size([6820, 13])\n",
      "torch.Size([6820, 1])\n",
      "torch.Size([1705, 13])\n",
      "torch.Size([1705, 1])\n"
     ]
    }
   ],
   "execution_count": 11
  },
  {
   "metadata": {
    "ExecuteTime": {
     "end_time": "2024-11-02T15:12:22.925510Z",
     "start_time": "2024-11-02T15:12:22.919694Z"
    }
   },
   "cell_type": "code",
   "source": "dataset['train_input']",
   "id": "d43bac323c665ab7",
   "outputs": [
    {
     "data": {
      "text/plain": [
       "tensor([[1.4251e+06, 2.9364e+09, 1.7259e+04,  ..., 2.0717e+02, 2.0480e+02,\n",
       "         2.0624e+02],\n",
       "        [5.3000e+06, 1.2414e+10, 8.2002e+04,  ..., 2.3950e+02, 2.3051e+02,\n",
       "         2.3379e+02],\n",
       "        [3.4529e+05, 1.2862e+09, 9.3770e+03,  ..., 3.7337e+02, 3.7169e+02,\n",
       "         3.7196e+02],\n",
       "        ...,\n",
       "        [6.5146e+05, 1.7718e+09, 1.6407e+04,  ..., 2.7249e+02, 2.7064e+02,\n",
       "         2.7212e+02],\n",
       "        [2.5977e+05, 6.9531e+08, 5.2980e+03,  ..., 2.6815e+02, 2.6718e+02,\n",
       "         2.6814e+02],\n",
       "        [1.2324e+06, 2.2300e+09, 1.7244e+04,  ..., 1.8240e+02, 1.7911e+02,\n",
       "         1.8065e+02]])"
      ]
     },
     "execution_count": 12,
     "metadata": {},
     "output_type": "execute_result"
    }
   ],
   "execution_count": 12
  },
  {
   "metadata": {
    "ExecuteTime": {
     "end_time": "2024-11-02T15:12:25.185368Z",
     "start_time": "2024-11-02T15:12:25.179369Z"
    }
   },
   "cell_type": "code",
   "source": "dataset['train_label']  ",
   "id": "5cb81fd759823b28",
   "outputs": [
    {
     "data": {
      "text/plain": [
       "tensor([[206.2400],\n",
       "        [233.7900],\n",
       "        [371.9600],\n",
       "        ...,\n",
       "        [272.1200],\n",
       "        [268.1400],\n",
       "        [180.6500]])"
      ]
     },
     "execution_count": 13,
     "metadata": {},
     "output_type": "execute_result"
    }
   ],
   "execution_count": 13
  },
  {
   "metadata": {
    "ExecuteTime": {
     "end_time": "2024-11-02T15:12:30.893341Z",
     "start_time": "2024-11-02T15:12:30.876077Z"
    }
   },
   "cell_type": "code",
   "source": "dataset['train_input'].shape, dataset['train_label'].shape ",
   "id": "bd18f33104d4b14c",
   "outputs": [
    {
     "data": {
      "text/plain": [
       "(torch.Size([6820, 13]), torch.Size([6820, 1]))"
      ]
     },
     "execution_count": 14,
     "metadata": {},
     "output_type": "execute_result"
    }
   ],
   "execution_count": 14
  },
  {
   "metadata": {},
   "cell_type": "markdown",
   "source": "# initialize KAN with G=3\n",
   "id": "707973158ca3643b"
  },
  {
   "metadata": {
    "ExecuteTime": {
     "end_time": "2024-11-02T15:36:26.085052Z",
     "start_time": "2024-11-02T15:36:24.499884Z"
    }
   },
   "cell_type": "code",
   "source": "model = KAN(width=[13,10,1], grid=200, k=3, seed=1, device=device)",
   "id": "10d708a95b23abe3",
   "outputs": [
    {
     "name": "stdout",
     "output_type": "stream",
     "text": [
      "checkpoint directory created: ./model\n",
      "saving model version 0.0\n"
     ]
    }
   ],
   "execution_count": 34
  },
  {
   "metadata": {
    "ExecuteTime": {
     "end_time": "2024-11-02T15:36:33.726495Z",
     "start_time": "2024-11-02T15:36:33.718144Z"
    }
   },
   "cell_type": "code",
   "source": [
    "rez = model.train(True)\n",
    "print(rez)"
   ],
   "id": "dcdcaa4e6f18ecd8",
   "outputs": [
    {
     "name": "stdout",
     "output_type": "stream",
     "text": [
      "MultKAN(\n",
      "  (act_fun): ModuleList(\n",
      "    (0-1): 2 x KANLayer(\n",
      "      (base_fun): SiLU()\n",
      "    )\n",
      "  )\n",
      "  (base_fun): SiLU()\n",
      "  (symbolic_fun): ModuleList(\n",
      "    (0-1): 2 x Symbolic_KANLayer()\n",
      "  )\n",
      ")\n"
     ]
    }
   ],
   "execution_count": 35
  },
  {
   "metadata": {
    "ExecuteTime": {
     "end_time": "2024-11-02T15:46:41.883071Z",
     "start_time": "2024-11-02T15:36:56.312202Z"
    }
   },
   "cell_type": "code",
   "source": "model.fit(dataset, opt=\"LBFGS\", steps=50);",
   "id": "c5a132d1ec6b01c",
   "outputs": [
    {
     "name": "stderr",
     "output_type": "stream",
     "text": [
      "\n",
      "description:   0%|                                                           | 0/50 [00:00<?, ?it/s]\u001B[A\n",
      "| train_loss: 1.20e+05 | test_loss: 5.60e+04 | reg: 0.00e+00 | :   0%|       | 0/50 [00:16<?, ?it/s]\u001B[A\n",
      "| train_loss: 1.20e+05 | test_loss: 5.60e+04 | reg: 0.00e+00 | :   2%| | 1/50 [00:16<13:08, 16.09s/i\u001B[A\n",
      "| train_loss: 1.71e+03 | test_loss: 1.56e+03 | reg: 0.00e+00 | :   2%| | 1/50 [00:31<13:08, 16.09s/i\u001B[A\n",
      "| train_loss: 1.71e+03 | test_loss: 1.56e+03 | reg: 0.00e+00 | :   4%| | 2/50 [00:31<12:35, 15.73s/i\u001B[A\n",
      "| train_loss: 1.66e+03 | test_loss: 1.52e+03 | reg: 0.00e+00 | :   4%| | 2/50 [00:45<12:35, 15.73s/i\u001B[A\n",
      "| train_loss: 1.66e+03 | test_loss: 1.52e+03 | reg: 0.00e+00 | :   6%| | 3/50 [00:45<11:46, 15.04s/i\u001B[A\n",
      "| train_loss: 1.61e+03 | test_loss: 1.47e+03 | reg: 0.00e+00 | :   6%| | 3/50 [01:00<11:46, 15.04s/i\u001B[A\n",
      "| train_loss: 1.61e+03 | test_loss: 1.47e+03 | reg: 0.00e+00 | :   8%| | 4/50 [01:00<11:23, 14.87s/i\u001B[A\n",
      "| train_loss: 1.54e+03 | test_loss: 1.41e+03 | reg: 0.00e+00 | :   8%| | 4/50 [01:14<11:23, 14.87s/i\u001B[A\n",
      "| train_loss: 1.54e+03 | test_loss: 1.41e+03 | reg: 0.00e+00 | :  10%| | 5/50 [01:14<11:00, 14.68s/i\u001B[A\n",
      "| train_loss: 1.48e+03 | test_loss: 1.35e+03 | reg: 0.00e+00 | :  10%| | 5/50 [01:32<11:00, 14.68s/i\u001B[A\n",
      "| train_loss: 1.48e+03 | test_loss: 1.35e+03 | reg: 0.00e+00 | :  12%| | 6/50 [01:32<11:26, 15.61s/i\u001B[A\n",
      "| train_loss: 1.41e+03 | test_loss: 1.28e+03 | reg: 0.00e+00 | :  12%| | 6/50 [01:46<11:26, 15.61s/i\u001B[A\n",
      "| train_loss: 1.41e+03 | test_loss: 1.28e+03 | reg: 0.00e+00 | :  14%|▏| 7/50 [01:46<10:56, 15.26s/i\u001B[A\n",
      "| train_loss: 1.34e+03 | test_loss: 1.22e+03 | reg: 0.00e+00 | :  14%|▏| 7/50 [02:06<10:56, 15.26s/i\u001B[A\n",
      "| train_loss: 1.34e+03 | test_loss: 1.22e+03 | reg: 0.00e+00 | :  16%|▏| 8/50 [02:06<11:46, 16.83s/i\u001B[A\n",
      "| train_loss: 1.25e+03 | test_loss: 1.13e+03 | reg: 0.00e+00 | :  16%|▏| 8/50 [02:22<11:46, 16.83s/i\u001B[A\n",
      "| train_loss: 1.25e+03 | test_loss: 1.13e+03 | reg: 0.00e+00 | :  18%|▏| 9/50 [02:22<11:20, 16.59s/i\u001B[A\n",
      "| train_loss: 1.18e+03 | test_loss: 1.07e+03 | reg: 0.00e+00 | :  18%|▏| 9/50 [02:37<11:20, 16.59s/i\u001B[A\n",
      "| train_loss: 1.18e+03 | test_loss: 1.07e+03 | reg: 0.00e+00 | :  20%|▏| 10/50 [02:37<10:44, 16.11s/\u001B[A\n",
      "| train_loss: 1.09e+03 | test_loss: 9.90e+02 | reg: 0.00e+00 | :  20%|▏| 10/50 [02:56<10:44, 16.11s/\u001B[A\n",
      "| train_loss: 1.09e+03 | test_loss: 9.90e+02 | reg: 0.00e+00 | :  22%|▏| 11/50 [02:56<10:58, 16.89s/\u001B[A\n",
      "| train_loss: 1.02e+03 | test_loss: 9.20e+02 | reg: 0.00e+00 | :  22%|▏| 11/50 [03:14<10:58, 16.89s/\u001B[A\n",
      "| train_loss: 1.02e+03 | test_loss: 9.20e+02 | reg: 0.00e+00 | :  24%|▏| 12/50 [03:14<10:49, 17.08s/\u001B[A\n",
      "| train_loss: 9.53e+02 | test_loss: 8.61e+02 | reg: 0.00e+00 | :  24%|▏| 12/50 [03:29<10:49, 17.08s/\u001B[A\n",
      "| train_loss: 9.53e+02 | test_loss: 8.61e+02 | reg: 0.00e+00 | :  26%|▎| 13/50 [03:29<10:13, 16.58s/\u001B[A\n",
      "| train_loss: 8.87e+02 | test_loss: 8.01e+02 | reg: 0.00e+00 | :  26%|▎| 13/50 [03:44<10:13, 16.58s/\u001B[A\n",
      "| train_loss: 8.87e+02 | test_loss: 8.01e+02 | reg: 0.00e+00 | :  28%|▎| 14/50 [03:44<09:40, 16.12s/\u001B[A\n",
      "| train_loss: 8.21e+02 | test_loss: 7.47e+02 | reg: 0.00e+00 | :  28%|▎| 14/50 [03:59<09:40, 16.12s/\u001B[A\n",
      "| train_loss: 8.21e+02 | test_loss: 7.47e+02 | reg: 0.00e+00 | :  30%|▎| 15/50 [03:59<09:10, 15.74s/\u001B[A\n",
      "| train_loss: 7.52e+02 | test_loss: 6.88e+02 | reg: 0.00e+00 | :  30%|▎| 15/50 [04:17<09:10, 15.74s/\u001B[A\n",
      "| train_loss: 7.52e+02 | test_loss: 6.88e+02 | reg: 0.00e+00 | :  32%|▎| 16/50 [04:17<09:23, 16.57s/\u001B[A\n",
      "| train_loss: 6.90e+02 | test_loss: 6.35e+02 | reg: 0.00e+00 | :  32%|▎| 16/50 [04:33<09:23, 16.57s/\u001B[A\n",
      "| train_loss: 6.90e+02 | test_loss: 6.35e+02 | reg: 0.00e+00 | :  34%|▎| 17/50 [04:33<08:53, 16.15s/\u001B[A\n",
      "| train_loss: 6.29e+02 | test_loss: 5.86e+02 | reg: 0.00e+00 | :  34%|▎| 17/50 [04:48<08:53, 16.15s/\u001B[A\n",
      "| train_loss: 6.29e+02 | test_loss: 5.86e+02 | reg: 0.00e+00 | :  36%|▎| 18/50 [04:48<08:26, 15.82s/\u001B[A\n",
      "| train_loss: 5.74e+02 | test_loss: 5.47e+02 | reg: 0.00e+00 | :  36%|▎| 18/50 [05:07<08:26, 15.82s/\u001B[A\n",
      "| train_loss: 5.74e+02 | test_loss: 5.47e+02 | reg: 0.00e+00 | :  38%|▍| 19/50 [05:07<08:43, 16.89s/\u001B[A\n",
      "| train_loss: 5.30e+02 | test_loss: 5.18e+02 | reg: 0.00e+00 | :  38%|▍| 19/50 [05:26<08:43, 16.89s/\u001B[A\n",
      "| train_loss: 5.30e+02 | test_loss: 5.18e+02 | reg: 0.00e+00 | :  40%|▍| 20/50 [05:26<08:46, 17.56s/\u001B[A\n",
      "| train_loss: 4.85e+02 | test_loss: 4.96e+02 | reg: 0.00e+00 | :  40%|▍| 20/50 [05:46<08:46, 17.56s/\u001B[A\n",
      "| train_loss: 4.85e+02 | test_loss: 4.96e+02 | reg: 0.00e+00 | :  42%|▍| 21/50 [05:46<08:48, 18.21s/\u001B[A\n",
      "| train_loss: 4.67e+02 | test_loss: 4.93e+02 | reg: 0.00e+00 | :  42%|▍| 21/50 [06:00<08:48, 18.21s/\u001B[A\n",
      "| train_loss: 4.67e+02 | test_loss: 4.93e+02 | reg: 0.00e+00 | :  44%|▍| 22/50 [06:00<07:57, 17.06s/\u001B[A\n",
      "| train_loss: 4.55e+02 | test_loss: 4.92e+02 | reg: 0.00e+00 | :  44%|▍| 22/50 [06:15<07:57, 17.06s/\u001B[A\n",
      "| train_loss: 4.55e+02 | test_loss: 4.92e+02 | reg: 0.00e+00 | :  46%|▍| 23/50 [06:15<07:22, 16.37s/\u001B[A\n",
      "| train_loss: 4.45e+02 | test_loss: 4.94e+02 | reg: 0.00e+00 | :  46%|▍| 23/50 [06:32<07:22, 16.37s/\u001B[A\n",
      "| train_loss: 4.45e+02 | test_loss: 4.94e+02 | reg: 0.00e+00 | :  48%|▍| 24/50 [06:32<07:09, 16.52s/\u001B[A\n",
      "| train_loss: 4.45e+02 | test_loss: 4.94e+02 | reg: 0.00e+00 | :  48%|▍| 24/50 [06:36<07:09, 16.52s/\u001B[A\n",
      "| train_loss: 4.45e+02 | test_loss: 4.94e+02 | reg: 0.00e+00 | :  50%|▌| 25/50 [06:36<05:19, 12.77s/\u001B[A\n",
      "| train_loss: 4.45e+02 | test_loss: 4.94e+02 | reg: 0.00e+00 | :  50%|▌| 25/50 [06:48<05:19, 12.77s/\u001B[A\n",
      "| train_loss: 4.45e+02 | test_loss: 4.94e+02 | reg: 0.00e+00 | :  52%|▌| 26/50 [06:48<04:58, 12.45s/\u001B[A\n",
      "| train_loss: 4.45e+02 | test_loss: 4.94e+02 | reg: 0.00e+00 | :  52%|▌| 26/50 [06:52<04:58, 12.45s/\u001B[A\n",
      "| train_loss: 4.45e+02 | test_loss: 4.94e+02 | reg: 0.00e+00 | :  54%|▌| 27/50 [06:52<03:48,  9.95s/\u001B[A\n",
      "| train_loss: 4.45e+02 | test_loss: 4.94e+02 | reg: 0.00e+00 | :  54%|▌| 27/50 [06:56<03:48,  9.95s/\u001B[A\n",
      "| train_loss: 4.45e+02 | test_loss: 4.94e+02 | reg: 0.00e+00 | :  56%|▌| 28/50 [06:56<03:01,  8.24s/\u001B[A\n",
      "| train_loss: 4.45e+02 | test_loss: 4.94e+02 | reg: 0.00e+00 | :  56%|▌| 28/50 [07:02<03:01,  8.24s/\u001B[A\n",
      "| train_loss: 4.45e+02 | test_loss: 4.94e+02 | reg: 0.00e+00 | :  58%|▌| 29/50 [07:02<02:35,  7.42s/\u001B[A\n",
      "| train_loss: 4.45e+02 | test_loss: 4.94e+02 | reg: 0.00e+00 | :  58%|▌| 29/50 [07:07<02:35,  7.42s/\u001B[A\n",
      "| train_loss: 4.45e+02 | test_loss: 4.94e+02 | reg: 0.00e+00 | :  60%|▌| 30/50 [07:07<02:17,  6.88s/\u001B[A\n",
      "| train_loss: 4.45e+02 | test_loss: 4.94e+02 | reg: 0.00e+00 | :  60%|▌| 30/50 [07:27<02:17,  6.88s/\u001B[A\n",
      "| train_loss: 4.45e+02 | test_loss: 4.94e+02 | reg: 0.00e+00 | :  62%|▌| 31/50 [07:27<03:23, 10.71s/\u001B[A\n",
      "| train_loss: 4.45e+02 | test_loss: 4.94e+02 | reg: 0.00e+00 | :  62%|▌| 31/50 [07:33<03:23, 10.71s/\u001B[A\n",
      "| train_loss: 4.45e+02 | test_loss: 4.94e+02 | reg: 0.00e+00 | :  64%|▋| 32/50 [07:33<02:49,  9.42s/\u001B[A\n",
      "| train_loss: 4.45e+02 | test_loss: 4.94e+02 | reg: 0.00e+00 | :  64%|▋| 32/50 [07:39<02:49,  9.42s/\u001B[A\n",
      "| train_loss: 4.45e+02 | test_loss: 4.94e+02 | reg: 0.00e+00 | :  66%|▋| 33/50 [07:39<02:22,  8.38s/\u001B[A\n",
      "| train_loss: 4.45e+02 | test_loss: 4.94e+02 | reg: 0.00e+00 | :  66%|▋| 33/50 [07:45<02:22,  8.38s/\u001B[A\n",
      "| train_loss: 4.45e+02 | test_loss: 4.94e+02 | reg: 0.00e+00 | :  68%|▋| 34/50 [07:45<02:00,  7.52s/\u001B[A\n",
      "| train_loss: 4.45e+02 | test_loss: 4.94e+02 | reg: 0.00e+00 | :  68%|▋| 34/50 [07:51<02:00,  7.52s/\u001B[A\n",
      "| train_loss: 4.45e+02 | test_loss: 4.94e+02 | reg: 0.00e+00 | :  70%|▋| 35/50 [07:51<01:45,  7.04s/\u001B[A\n",
      "| train_loss: 4.45e+02 | test_loss: 4.94e+02 | reg: 0.00e+00 | :  70%|▋| 35/50 [08:11<01:45,  7.04s/\u001B[A\n",
      "| train_loss: 4.45e+02 | test_loss: 4.94e+02 | reg: 0.00e+00 | :  72%|▋| 36/50 [08:11<02:33, 10.95s/\u001B[A\n",
      "| train_loss: 4.45e+02 | test_loss: 4.94e+02 | reg: 0.00e+00 | :  72%|▋| 36/50 [08:15<02:33, 10.95s/\u001B[A\n",
      "| train_loss: 4.45e+02 | test_loss: 4.94e+02 | reg: 0.00e+00 | :  74%|▋| 37/50 [08:15<01:56,  8.94s/\u001B[A\n",
      "| train_loss: 4.45e+02 | test_loss: 4.94e+02 | reg: 0.00e+00 | :  74%|▋| 37/50 [08:21<01:56,  8.94s/\u001B[A\n",
      "| train_loss: 4.45e+02 | test_loss: 4.94e+02 | reg: 0.00e+00 | :  76%|▊| 38/50 [08:21<01:36,  8.06s/\u001B[A\n",
      "| train_loss: 4.45e+02 | test_loss: 4.94e+02 | reg: 0.00e+00 | :  76%|▊| 38/50 [08:26<01:36,  8.06s/\u001B[A\n",
      "| train_loss: 4.45e+02 | test_loss: 4.94e+02 | reg: 0.00e+00 | :  78%|▊| 39/50 [08:26<01:19,  7.19s/\u001B[A\n",
      "| train_loss: 4.45e+02 | test_loss: 4.94e+02 | reg: 0.00e+00 | :  78%|▊| 39/50 [08:32<01:19,  7.19s/\u001B[A\n",
      "| train_loss: 4.45e+02 | test_loss: 4.94e+02 | reg: 0.00e+00 | :  80%|▊| 40/50 [08:32<01:08,  6.83s/\u001B[A\n",
      "| train_loss: 4.45e+02 | test_loss: 4.94e+02 | reg: 0.00e+00 | :  80%|▊| 40/50 [08:44<01:08,  6.83s/\u001B[A\n",
      "| train_loss: 4.45e+02 | test_loss: 4.94e+02 | reg: 0.00e+00 | :  82%|▊| 41/50 [08:44<01:14,  8.33s/\u001B[A\n",
      "| train_loss: 4.44e+02 | test_loss: 4.94e+02 | reg: 0.00e+00 | :  82%|▊| 41/50 [08:54<01:14,  8.33s/\u001B[A\n",
      "| train_loss: 4.44e+02 | test_loss: 4.94e+02 | reg: 0.00e+00 | :  84%|▊| 42/50 [08:54<01:10,  8.79s/\u001B[A\n",
      "| train_loss: 4.44e+02 | test_loss: 4.95e+02 | reg: 0.00e+00 | :  84%|▊| 42/50 [09:01<01:10,  8.79s/\u001B[A\n",
      "| train_loss: 4.44e+02 | test_loss: 4.95e+02 | reg: 0.00e+00 | :  86%|▊| 43/50 [09:01<00:58,  8.32s/\u001B[A\n",
      "| train_loss: 4.44e+02 | test_loss: 4.95e+02 | reg: 0.00e+00 | :  86%|▊| 43/50 [09:06<00:58,  8.32s/\u001B[A\n",
      "| train_loss: 4.44e+02 | test_loss: 4.95e+02 | reg: 0.00e+00 | :  88%|▉| 44/50 [09:06<00:43,  7.28s/\u001B[A\n",
      "| train_loss: 4.44e+02 | test_loss: 4.95e+02 | reg: 0.00e+00 | :  88%|▉| 44/50 [09:10<00:43,  7.28s/\u001B[A\n",
      "| train_loss: 4.44e+02 | test_loss: 4.95e+02 | reg: 0.00e+00 | :  90%|▉| 45/50 [09:10<00:31,  6.34s/\u001B[A\n",
      "| train_loss: 4.44e+02 | test_loss: 4.95e+02 | reg: 0.00e+00 | :  90%|▉| 45/50 [09:18<00:31,  6.34s/\u001B[A\n",
      "| train_loss: 4.44e+02 | test_loss: 4.95e+02 | reg: 0.00e+00 | :  92%|▉| 46/50 [09:18<00:26,  6.75s/\u001B[A\n",
      "| train_loss: 4.44e+02 | test_loss: 4.95e+02 | reg: 0.00e+00 | :  92%|▉| 46/50 [09:22<00:26,  6.75s/\u001B[A\n",
      "| train_loss: 4.44e+02 | test_loss: 4.95e+02 | reg: 0.00e+00 | :  94%|▉| 47/50 [09:22<00:17,  5.99s/\u001B[A\n",
      "| train_loss: 4.44e+02 | test_loss: 4.95e+02 | reg: 0.00e+00 | :  94%|▉| 47/50 [09:27<00:17,  5.99s/\u001B[A\n",
      "| train_loss: 4.44e+02 | test_loss: 4.95e+02 | reg: 0.00e+00 | :  96%|▉| 48/50 [09:27<00:11,  5.69s/\u001B[A\n",
      "| train_loss: 4.44e+02 | test_loss: 4.95e+02 | reg: 0.00e+00 | :  96%|▉| 48/50 [09:33<00:11,  5.69s/\u001B[A\n",
      "| train_loss: 4.44e+02 | test_loss: 4.95e+02 | reg: 0.00e+00 | :  98%|▉| 49/50 [09:33<00:05,  5.83s/\u001B[A\n",
      "| train_loss: 4.44e+02 | test_loss: 4.94e+02 | reg: 3.55e+01 | :  98%|▉| 49/50 [09:45<00:05,  5.83s/\u001B[A\n",
      "| train_loss: 4.44e+02 | test_loss: 4.94e+02 | reg: 3.55e+01 | : 100%|█| 50/50 [09:45<00:00, 11.71s/\u001B[A"
     ]
    },
    {
     "name": "stdout",
     "output_type": "stream",
     "text": [
      "saving model version 0.1\n"
     ]
    },
    {
     "name": "stderr",
     "output_type": "stream",
     "text": [
      "\n"
     ]
    }
   ],
   "execution_count": 36
  },
  {
   "metadata": {
    "ExecuteTime": {
     "end_time": "2024-11-02T15:47:58.600386Z",
     "start_time": "2024-11-02T15:47:35.914965Z"
    }
   },
   "cell_type": "code",
   "source": "model = model.refine(350)",
   "id": "c0158e02caa8f48d",
   "outputs": [
    {
     "name": "stdout",
     "output_type": "stream",
     "text": [
      "saving model version 0.2\n"
     ]
    }
   ],
   "execution_count": 37
  },
  {
   "metadata": {
    "ExecuteTime": {
     "end_time": "2024-11-02T15:51:31.078959Z",
     "start_time": "2024-11-02T15:48:41.795995Z"
    }
   },
   "cell_type": "code",
   "source": "model.fit(dataset, opt=\"LBFGS\", steps=50);",
   "id": "20ca3385d3f205a7",
   "outputs": [
    {
     "name": "stderr",
     "output_type": "stream",
     "text": [
      "\n",
      "description:   0%|                                                           | 0/50 [00:00<?, ?it/s]\u001B[A\n",
      "| train_loss: nan | test_loss: nan | reg: 0.00e+00 | :   0%|                 | 0/50 [00:38<?, ?it/s]\u001B[A\n",
      "| train_loss: nan | test_loss: nan | reg: 0.00e+00 | :   2%|▏        | 1/50 [00:38<31:16, 38.30s/it]\u001B[A\n",
      "| train_loss: nan | test_loss: nan | reg: 0.00e+00 | :   2%|▏        | 1/50 [01:26<31:16, 38.30s/it]\u001B[A\n",
      "| train_loss: nan | test_loss: nan | reg: 0.00e+00 | :   4%|▎        | 2/50 [01:26<35:09, 43.94s/it]\u001B[A\n",
      "| train_loss: nan | test_loss: nan | reg: 0.00e+00 | :   4%|▎        | 2/50 [02:16<35:09, 43.94s/it]\u001B[A\n",
      "| train_loss: nan | test_loss: nan | reg: 0.00e+00 | :   6%|▌        | 3/50 [02:49<44:09, 56.36s/it]\u001B[A\n"
     ]
    },
    {
     "ename": "KeyboardInterrupt",
     "evalue": "",
     "output_type": "error",
     "traceback": [
      "\u001B[1;31m---------------------------------------------------------------------------\u001B[0m",
      "\u001B[1;31mKeyboardInterrupt\u001B[0m                         Traceback (most recent call last)",
      "Cell \u001B[1;32mIn[38], line 1\u001B[0m\n\u001B[1;32m----> 1\u001B[0m \u001B[43mmodel\u001B[49m\u001B[38;5;241;43m.\u001B[39;49m\u001B[43mfit\u001B[49m\u001B[43m(\u001B[49m\u001B[43mdataset\u001B[49m\u001B[43m,\u001B[49m\u001B[43m \u001B[49m\u001B[43mopt\u001B[49m\u001B[38;5;241;43m=\u001B[39;49m\u001B[38;5;124;43m\"\u001B[39;49m\u001B[38;5;124;43mLBFGS\u001B[39;49m\u001B[38;5;124;43m\"\u001B[39;49m\u001B[43m,\u001B[49m\u001B[43m \u001B[49m\u001B[43msteps\u001B[49m\u001B[38;5;241;43m=\u001B[39;49m\u001B[38;5;241;43m50\u001B[39;49m\u001B[43m)\u001B[49m;\n",
      "File \u001B[1;32mC:\\TRADE_LapTop\\KanNootebook\\venv\\Lib\\site-packages\\kan\\MultKAN.py:1537\u001B[0m, in \u001B[0;36mMultKAN.fit\u001B[1;34m(self, dataset, opt, steps, log, lamb, lamb_l1, lamb_entropy, lamb_coef, lamb_coefdiff, update_grid, grid_update_num, loss_fn, lr, start_grid_update_step, stop_grid_update_step, batch, metrics, save_fig, in_vars, out_vars, beta, save_fig_freq, img_folder, singularity_avoiding, y_th, reg_metric, display_metrics)\u001B[0m\n\u001B[0;32m   1534\u001B[0m     \u001B[38;5;28mself\u001B[39m\u001B[38;5;241m.\u001B[39mupdate_grid(dataset[\u001B[38;5;124m'\u001B[39m\u001B[38;5;124mtrain_input\u001B[39m\u001B[38;5;124m'\u001B[39m][train_id])\n\u001B[0;32m   1536\u001B[0m \u001B[38;5;28;01mif\u001B[39;00m opt \u001B[38;5;241m==\u001B[39m \u001B[38;5;124m\"\u001B[39m\u001B[38;5;124mLBFGS\u001B[39m\u001B[38;5;124m\"\u001B[39m:\n\u001B[1;32m-> 1537\u001B[0m     \u001B[43moptimizer\u001B[49m\u001B[38;5;241;43m.\u001B[39;49m\u001B[43mstep\u001B[49m\u001B[43m(\u001B[49m\u001B[43mclosure\u001B[49m\u001B[43m)\u001B[49m\n\u001B[0;32m   1539\u001B[0m \u001B[38;5;28;01mif\u001B[39;00m opt \u001B[38;5;241m==\u001B[39m \u001B[38;5;124m\"\u001B[39m\u001B[38;5;124mAdam\u001B[39m\u001B[38;5;124m\"\u001B[39m:\n\u001B[0;32m   1540\u001B[0m     pred \u001B[38;5;241m=\u001B[39m \u001B[38;5;28mself\u001B[39m\u001B[38;5;241m.\u001B[39mforward(dataset[\u001B[38;5;124m'\u001B[39m\u001B[38;5;124mtrain_input\u001B[39m\u001B[38;5;124m'\u001B[39m][train_id], singularity_avoiding\u001B[38;5;241m=\u001B[39msingularity_avoiding, y_th\u001B[38;5;241m=\u001B[39my_th)\n",
      "File \u001B[1;32mC:\\TRADE_LapTop\\KanNootebook\\venv\\Lib\\site-packages\\torch\\optim\\optimizer.py:487\u001B[0m, in \u001B[0;36mOptimizer.profile_hook_step.<locals>.wrapper\u001B[1;34m(*args, **kwargs)\u001B[0m\n\u001B[0;32m    482\u001B[0m         \u001B[38;5;28;01melse\u001B[39;00m:\n\u001B[0;32m    483\u001B[0m             \u001B[38;5;28;01mraise\u001B[39;00m \u001B[38;5;167;01mRuntimeError\u001B[39;00m(\n\u001B[0;32m    484\u001B[0m                 \u001B[38;5;124mf\u001B[39m\u001B[38;5;124m\"\u001B[39m\u001B[38;5;132;01m{\u001B[39;00mfunc\u001B[38;5;132;01m}\u001B[39;00m\u001B[38;5;124m must return None or a tuple of (new_args, new_kwargs), but got \u001B[39m\u001B[38;5;132;01m{\u001B[39;00mresult\u001B[38;5;132;01m}\u001B[39;00m\u001B[38;5;124m.\u001B[39m\u001B[38;5;124m\"\u001B[39m\n\u001B[0;32m    485\u001B[0m             )\n\u001B[1;32m--> 487\u001B[0m out \u001B[38;5;241m=\u001B[39m \u001B[43mfunc\u001B[49m\u001B[43m(\u001B[49m\u001B[38;5;241;43m*\u001B[39;49m\u001B[43margs\u001B[49m\u001B[43m,\u001B[49m\u001B[43m \u001B[49m\u001B[38;5;241;43m*\u001B[39;49m\u001B[38;5;241;43m*\u001B[39;49m\u001B[43mkwargs\u001B[49m\u001B[43m)\u001B[49m\n\u001B[0;32m    488\u001B[0m \u001B[38;5;28mself\u001B[39m\u001B[38;5;241m.\u001B[39m_optimizer_step_code()\n\u001B[0;32m    490\u001B[0m \u001B[38;5;66;03m# call optimizer step post hooks\u001B[39;00m\n",
      "File \u001B[1;32mC:\\TRADE_LapTop\\KanNootebook\\venv\\Lib\\site-packages\\torch\\utils\\_contextlib.py:116\u001B[0m, in \u001B[0;36mcontext_decorator.<locals>.decorate_context\u001B[1;34m(*args, **kwargs)\u001B[0m\n\u001B[0;32m    113\u001B[0m \u001B[38;5;129m@functools\u001B[39m\u001B[38;5;241m.\u001B[39mwraps(func)\n\u001B[0;32m    114\u001B[0m \u001B[38;5;28;01mdef\u001B[39;00m \u001B[38;5;21mdecorate_context\u001B[39m(\u001B[38;5;241m*\u001B[39margs, \u001B[38;5;241m*\u001B[39m\u001B[38;5;241m*\u001B[39mkwargs):\n\u001B[0;32m    115\u001B[0m     \u001B[38;5;28;01mwith\u001B[39;00m ctx_factory():\n\u001B[1;32m--> 116\u001B[0m         \u001B[38;5;28;01mreturn\u001B[39;00m \u001B[43mfunc\u001B[49m\u001B[43m(\u001B[49m\u001B[38;5;241;43m*\u001B[39;49m\u001B[43margs\u001B[49m\u001B[43m,\u001B[49m\u001B[43m \u001B[49m\u001B[38;5;241;43m*\u001B[39;49m\u001B[38;5;241;43m*\u001B[39;49m\u001B[43mkwargs\u001B[49m\u001B[43m)\u001B[49m\n",
      "File \u001B[1;32mC:\\TRADE_LapTop\\KanNootebook\\venv\\Lib\\site-packages\\kan\\LBFGS.py:443\u001B[0m, in \u001B[0;36mLBFGS.step\u001B[1;34m(self, closure)\u001B[0m\n\u001B[0;32m    441\u001B[0m     \u001B[38;5;28;01mdef\u001B[39;00m \u001B[38;5;21mobj_func\u001B[39m(x, t, d):\n\u001B[0;32m    442\u001B[0m         \u001B[38;5;28;01mreturn\u001B[39;00m \u001B[38;5;28mself\u001B[39m\u001B[38;5;241m.\u001B[39m_directional_evaluate(closure, x, t, d)\n\u001B[1;32m--> 443\u001B[0m     loss, flat_grad, t, ls_func_evals \u001B[38;5;241m=\u001B[39m \u001B[43m_strong_wolfe\u001B[49m\u001B[43m(\u001B[49m\n\u001B[0;32m    444\u001B[0m \u001B[43m        \u001B[49m\u001B[43mobj_func\u001B[49m\u001B[43m,\u001B[49m\u001B[43m \u001B[49m\u001B[43mx_init\u001B[49m\u001B[43m,\u001B[49m\u001B[43m \u001B[49m\u001B[43mt\u001B[49m\u001B[43m,\u001B[49m\u001B[43m \u001B[49m\u001B[43md\u001B[49m\u001B[43m,\u001B[49m\u001B[43m \u001B[49m\u001B[43mloss\u001B[49m\u001B[43m,\u001B[49m\u001B[43m \u001B[49m\u001B[43mflat_grad\u001B[49m\u001B[43m,\u001B[49m\u001B[43m \u001B[49m\u001B[43mgtd\u001B[49m\u001B[43m)\u001B[49m\n\u001B[0;32m    445\u001B[0m \u001B[38;5;28mself\u001B[39m\u001B[38;5;241m.\u001B[39m_add_grad(t, d)\n\u001B[0;32m    446\u001B[0m opt_cond \u001B[38;5;241m=\u001B[39m flat_grad\u001B[38;5;241m.\u001B[39mabs()\u001B[38;5;241m.\u001B[39mmax() \u001B[38;5;241m<\u001B[39m\u001B[38;5;241m=\u001B[39m tolerance_grad\n",
      "File \u001B[1;32mC:\\TRADE_LapTop\\KanNootebook\\venv\\Lib\\site-packages\\kan\\LBFGS.py:100\u001B[0m, in \u001B[0;36m_strong_wolfe\u001B[1;34m(obj_func, x, t, d, f, g, gtd, c1, c2, tolerance_change, max_ls)\u001B[0m\n\u001B[0;32m     98\u001B[0m g_prev \u001B[38;5;241m=\u001B[39m g_new\u001B[38;5;241m.\u001B[39mclone(memory_format\u001B[38;5;241m=\u001B[39mtorch\u001B[38;5;241m.\u001B[39mcontiguous_format)\n\u001B[0;32m     99\u001B[0m gtd_prev \u001B[38;5;241m=\u001B[39m gtd_new\n\u001B[1;32m--> 100\u001B[0m f_new, g_new \u001B[38;5;241m=\u001B[39m \u001B[43mobj_func\u001B[49m\u001B[43m(\u001B[49m\u001B[43mx\u001B[49m\u001B[43m,\u001B[49m\u001B[43m \u001B[49m\u001B[43mt\u001B[49m\u001B[43m,\u001B[49m\u001B[43m \u001B[49m\u001B[43md\u001B[49m\u001B[43m)\u001B[49m\n\u001B[0;32m    101\u001B[0m ls_func_evals \u001B[38;5;241m+\u001B[39m\u001B[38;5;241m=\u001B[39m \u001B[38;5;241m1\u001B[39m\n\u001B[0;32m    102\u001B[0m gtd_new \u001B[38;5;241m=\u001B[39m g_new\u001B[38;5;241m.\u001B[39mdot(d)\n",
      "File \u001B[1;32mC:\\TRADE_LapTop\\KanNootebook\\venv\\Lib\\site-packages\\kan\\LBFGS.py:442\u001B[0m, in \u001B[0;36mLBFGS.step.<locals>.obj_func\u001B[1;34m(x, t, d)\u001B[0m\n\u001B[0;32m    441\u001B[0m \u001B[38;5;28;01mdef\u001B[39;00m \u001B[38;5;21mobj_func\u001B[39m(x, t, d):\n\u001B[1;32m--> 442\u001B[0m     \u001B[38;5;28;01mreturn\u001B[39;00m \u001B[38;5;28;43mself\u001B[39;49m\u001B[38;5;241;43m.\u001B[39;49m\u001B[43m_directional_evaluate\u001B[49m\u001B[43m(\u001B[49m\u001B[43mclosure\u001B[49m\u001B[43m,\u001B[49m\u001B[43m \u001B[49m\u001B[43mx\u001B[49m\u001B[43m,\u001B[49m\u001B[43m \u001B[49m\u001B[43mt\u001B[49m\u001B[43m,\u001B[49m\u001B[43m \u001B[49m\u001B[43md\u001B[49m\u001B[43m)\u001B[49m\n",
      "File \u001B[1;32mC:\\TRADE_LapTop\\KanNootebook\\venv\\Lib\\site-packages\\kan\\LBFGS.py:291\u001B[0m, in \u001B[0;36mLBFGS._directional_evaluate\u001B[1;34m(self, closure, x, t, d)\u001B[0m\n\u001B[0;32m    289\u001B[0m \u001B[38;5;28;01mdef\u001B[39;00m \u001B[38;5;21m_directional_evaluate\u001B[39m(\u001B[38;5;28mself\u001B[39m, closure, x, t, d):\n\u001B[0;32m    290\u001B[0m     \u001B[38;5;28mself\u001B[39m\u001B[38;5;241m.\u001B[39m_add_grad(t, d)\n\u001B[1;32m--> 291\u001B[0m     loss \u001B[38;5;241m=\u001B[39m \u001B[38;5;28mfloat\u001B[39m(\u001B[43mclosure\u001B[49m\u001B[43m(\u001B[49m\u001B[43m)\u001B[49m)\n\u001B[0;32m    292\u001B[0m     flat_grad \u001B[38;5;241m=\u001B[39m \u001B[38;5;28mself\u001B[39m\u001B[38;5;241m.\u001B[39m_gather_flat_grad()\n\u001B[0;32m    293\u001B[0m     \u001B[38;5;28mself\u001B[39m\u001B[38;5;241m.\u001B[39m_set_param(x)\n",
      "File \u001B[1;32mC:\\TRADE_LapTop\\KanNootebook\\venv\\Lib\\site-packages\\torch\\utils\\_contextlib.py:116\u001B[0m, in \u001B[0;36mcontext_decorator.<locals>.decorate_context\u001B[1;34m(*args, **kwargs)\u001B[0m\n\u001B[0;32m    113\u001B[0m \u001B[38;5;129m@functools\u001B[39m\u001B[38;5;241m.\u001B[39mwraps(func)\n\u001B[0;32m    114\u001B[0m \u001B[38;5;28;01mdef\u001B[39;00m \u001B[38;5;21mdecorate_context\u001B[39m(\u001B[38;5;241m*\u001B[39margs, \u001B[38;5;241m*\u001B[39m\u001B[38;5;241m*\u001B[39mkwargs):\n\u001B[0;32m    115\u001B[0m     \u001B[38;5;28;01mwith\u001B[39;00m ctx_factory():\n\u001B[1;32m--> 116\u001B[0m         \u001B[38;5;28;01mreturn\u001B[39;00m \u001B[43mfunc\u001B[49m\u001B[43m(\u001B[49m\u001B[38;5;241;43m*\u001B[39;49m\u001B[43margs\u001B[49m\u001B[43m,\u001B[49m\u001B[43m \u001B[49m\u001B[38;5;241;43m*\u001B[39;49m\u001B[38;5;241;43m*\u001B[39;49m\u001B[43mkwargs\u001B[49m\u001B[43m)\u001B[49m\n",
      "File \u001B[1;32mC:\\TRADE_LapTop\\KanNootebook\\venv\\Lib\\site-packages\\kan\\MultKAN.py:1514\u001B[0m, in \u001B[0;36mMultKAN.fit.<locals>.closure\u001B[1;34m()\u001B[0m\n\u001B[0;32m   1512\u001B[0m     reg_ \u001B[38;5;241m=\u001B[39m torch\u001B[38;5;241m.\u001B[39mtensor(\u001B[38;5;241m0.\u001B[39m)\n\u001B[0;32m   1513\u001B[0m objective \u001B[38;5;241m=\u001B[39m train_loss \u001B[38;5;241m+\u001B[39m lamb \u001B[38;5;241m*\u001B[39m reg_\n\u001B[1;32m-> 1514\u001B[0m \u001B[43mobjective\u001B[49m\u001B[38;5;241;43m.\u001B[39;49m\u001B[43mbackward\u001B[49m\u001B[43m(\u001B[49m\u001B[43m)\u001B[49m\n\u001B[0;32m   1515\u001B[0m \u001B[38;5;28;01mreturn\u001B[39;00m objective\n",
      "File \u001B[1;32mC:\\TRADE_LapTop\\KanNootebook\\venv\\Lib\\site-packages\\torch\\_tensor.py:581\u001B[0m, in \u001B[0;36mTensor.backward\u001B[1;34m(self, gradient, retain_graph, create_graph, inputs)\u001B[0m\n\u001B[0;32m    571\u001B[0m \u001B[38;5;28;01mif\u001B[39;00m has_torch_function_unary(\u001B[38;5;28mself\u001B[39m):\n\u001B[0;32m    572\u001B[0m     \u001B[38;5;28;01mreturn\u001B[39;00m handle_torch_function(\n\u001B[0;32m    573\u001B[0m         Tensor\u001B[38;5;241m.\u001B[39mbackward,\n\u001B[0;32m    574\u001B[0m         (\u001B[38;5;28mself\u001B[39m,),\n\u001B[1;32m   (...)\u001B[0m\n\u001B[0;32m    579\u001B[0m         inputs\u001B[38;5;241m=\u001B[39minputs,\n\u001B[0;32m    580\u001B[0m     )\n\u001B[1;32m--> 581\u001B[0m \u001B[43mtorch\u001B[49m\u001B[38;5;241;43m.\u001B[39;49m\u001B[43mautograd\u001B[49m\u001B[38;5;241;43m.\u001B[39;49m\u001B[43mbackward\u001B[49m\u001B[43m(\u001B[49m\n\u001B[0;32m    582\u001B[0m \u001B[43m    \u001B[49m\u001B[38;5;28;43mself\u001B[39;49m\u001B[43m,\u001B[49m\u001B[43m \u001B[49m\u001B[43mgradient\u001B[49m\u001B[43m,\u001B[49m\u001B[43m \u001B[49m\u001B[43mretain_graph\u001B[49m\u001B[43m,\u001B[49m\u001B[43m \u001B[49m\u001B[43mcreate_graph\u001B[49m\u001B[43m,\u001B[49m\u001B[43m \u001B[49m\u001B[43minputs\u001B[49m\u001B[38;5;241;43m=\u001B[39;49m\u001B[43minputs\u001B[49m\n\u001B[0;32m    583\u001B[0m \u001B[43m\u001B[49m\u001B[43m)\u001B[49m\n",
      "File \u001B[1;32mC:\\TRADE_LapTop\\KanNootebook\\venv\\Lib\\site-packages\\torch\\autograd\\__init__.py:347\u001B[0m, in \u001B[0;36mbackward\u001B[1;34m(tensors, grad_tensors, retain_graph, create_graph, grad_variables, inputs)\u001B[0m\n\u001B[0;32m    342\u001B[0m     retain_graph \u001B[38;5;241m=\u001B[39m create_graph\n\u001B[0;32m    344\u001B[0m \u001B[38;5;66;03m# The reason we repeat the same comment below is that\u001B[39;00m\n\u001B[0;32m    345\u001B[0m \u001B[38;5;66;03m# some Python versions print out the first line of a multi-line function\u001B[39;00m\n\u001B[0;32m    346\u001B[0m \u001B[38;5;66;03m# calls in the traceback and some print out the last line\u001B[39;00m\n\u001B[1;32m--> 347\u001B[0m \u001B[43m_engine_run_backward\u001B[49m\u001B[43m(\u001B[49m\n\u001B[0;32m    348\u001B[0m \u001B[43m    \u001B[49m\u001B[43mtensors\u001B[49m\u001B[43m,\u001B[49m\n\u001B[0;32m    349\u001B[0m \u001B[43m    \u001B[49m\u001B[43mgrad_tensors_\u001B[49m\u001B[43m,\u001B[49m\n\u001B[0;32m    350\u001B[0m \u001B[43m    \u001B[49m\u001B[43mretain_graph\u001B[49m\u001B[43m,\u001B[49m\n\u001B[0;32m    351\u001B[0m \u001B[43m    \u001B[49m\u001B[43mcreate_graph\u001B[49m\u001B[43m,\u001B[49m\n\u001B[0;32m    352\u001B[0m \u001B[43m    \u001B[49m\u001B[43minputs\u001B[49m\u001B[43m,\u001B[49m\n\u001B[0;32m    353\u001B[0m \u001B[43m    \u001B[49m\u001B[43mallow_unreachable\u001B[49m\u001B[38;5;241;43m=\u001B[39;49m\u001B[38;5;28;43;01mTrue\u001B[39;49;00m\u001B[43m,\u001B[49m\n\u001B[0;32m    354\u001B[0m \u001B[43m    \u001B[49m\u001B[43maccumulate_grad\u001B[49m\u001B[38;5;241;43m=\u001B[39;49m\u001B[38;5;28;43;01mTrue\u001B[39;49;00m\u001B[43m,\u001B[49m\n\u001B[0;32m    355\u001B[0m \u001B[43m\u001B[49m\u001B[43m)\u001B[49m\n",
      "File \u001B[1;32mC:\\TRADE_LapTop\\KanNootebook\\venv\\Lib\\site-packages\\torch\\autograd\\graph.py:825\u001B[0m, in \u001B[0;36m_engine_run_backward\u001B[1;34m(t_outputs, *args, **kwargs)\u001B[0m\n\u001B[0;32m    823\u001B[0m     unregister_hooks \u001B[38;5;241m=\u001B[39m _register_logging_hooks_on_whole_graph(t_outputs)\n\u001B[0;32m    824\u001B[0m \u001B[38;5;28;01mtry\u001B[39;00m:\n\u001B[1;32m--> 825\u001B[0m     \u001B[38;5;28;01mreturn\u001B[39;00m \u001B[43mVariable\u001B[49m\u001B[38;5;241;43m.\u001B[39;49m\u001B[43m_execution_engine\u001B[49m\u001B[38;5;241;43m.\u001B[39;49m\u001B[43mrun_backward\u001B[49m\u001B[43m(\u001B[49m\u001B[43m  \u001B[49m\u001B[38;5;66;43;03m# Calls into the C++ engine to run the backward pass\u001B[39;49;00m\n\u001B[0;32m    826\u001B[0m \u001B[43m        \u001B[49m\u001B[43mt_outputs\u001B[49m\u001B[43m,\u001B[49m\u001B[43m \u001B[49m\u001B[38;5;241;43m*\u001B[39;49m\u001B[43margs\u001B[49m\u001B[43m,\u001B[49m\u001B[43m \u001B[49m\u001B[38;5;241;43m*\u001B[39;49m\u001B[38;5;241;43m*\u001B[39;49m\u001B[43mkwargs\u001B[49m\n\u001B[0;32m    827\u001B[0m \u001B[43m    \u001B[49m\u001B[43m)\u001B[49m  \u001B[38;5;66;03m# Calls into the C++ engine to run the backward pass\u001B[39;00m\n\u001B[0;32m    828\u001B[0m \u001B[38;5;28;01mfinally\u001B[39;00m:\n\u001B[0;32m    829\u001B[0m     \u001B[38;5;28;01mif\u001B[39;00m attach_logging_hooks:\n",
      "\u001B[1;31mKeyboardInterrupt\u001B[0m: "
     ]
    }
   ],
   "execution_count": 38
  },
  {
   "metadata": {
    "ExecuteTime": {
     "end_time": "2024-11-02T15:25:52.556876Z",
     "start_time": "2024-11-02T15:25:52.526475Z"
    }
   },
   "cell_type": "code",
   "source": "model.train(dataset, opt=\"LBFGS\", steps=20);",
   "id": "c5a0b67100cd4b92",
   "outputs": [
    {
     "ename": "TypeError",
     "evalue": "Module.train() got an unexpected keyword argument 'opt'",
     "output_type": "error",
     "traceback": [
      "\u001B[1;31m---------------------------------------------------------------------------\u001B[0m",
      "\u001B[1;31mTypeError\u001B[0m                                 Traceback (most recent call last)",
      "Cell \u001B[1;32mIn[24], line 1\u001B[0m\n\u001B[1;32m----> 1\u001B[0m \u001B[43mmodel\u001B[49m\u001B[38;5;241;43m.\u001B[39;49m\u001B[43mtrain\u001B[49m\u001B[43m(\u001B[49m\u001B[43mdataset\u001B[49m\u001B[43m,\u001B[49m\u001B[43m \u001B[49m\u001B[43mopt\u001B[49m\u001B[38;5;241;43m=\u001B[39;49m\u001B[38;5;124;43m\"\u001B[39;49m\u001B[38;5;124;43mLBFGS\u001B[39;49m\u001B[38;5;124;43m\"\u001B[39;49m\u001B[43m,\u001B[49m\u001B[43m \u001B[49m\u001B[43msteps\u001B[49m\u001B[38;5;241;43m=\u001B[39;49m\u001B[38;5;241;43m20\u001B[39;49m\u001B[43m)\u001B[49m;\n",
      "\u001B[1;31mTypeError\u001B[0m: Module.train() got an unexpected keyword argument 'opt'"
     ]
    }
   ],
   "execution_count": 24
  },
  {
   "metadata": {},
   "cell_type": "code",
   "outputs": [],
   "execution_count": null,
   "source": "KAN.model.t",
   "id": "a6995536ceecf21a"
  },
  {
   "metadata": {},
   "cell_type": "markdown",
   "source": "тест примеров из кода",
   "id": "935ce7a4f76c532a"
  },
  {
   "metadata": {
    "ExecuteTime": {
     "end_time": "2024-11-02T15:56:47.386557Z",
     "start_time": "2024-11-02T15:56:47.330361Z"
    }
   },
   "cell_type": "code",
   "source": [
    "\n",
    "model = KAN(width=[13,5,1], grid=5, k=3, seed=0)\n",
    "print(model.grid)\n",
    "x = torch.rand(100,13)\n",
    "model.get_act(x)\n",
    "model = model.refine(10)\n",
    "print(model.grid)"
   ],
   "id": "bdefb15d53d3cc8f",
   "outputs": [
    {
     "name": "stdout",
     "output_type": "stream",
     "text": [
      "checkpoint directory created: ./model\n",
      "saving model version 0.0\n",
      "5\n",
      "saving model version 0.1\n",
      "10\n"
     ]
    }
   ],
   "execution_count": 41
  },
  {
   "metadata": {
    "ExecuteTime": {
     "end_time": "2024-11-02T15:58:36.633355Z",
     "start_time": "2024-11-02T15:57:39.845568Z"
    }
   },
   "cell_type": "code",
   "source": "model.fit(dataset, opt=\"LBFGS\", steps=50);",
   "id": "a71223fee5d29b29",
   "outputs": [
    {
     "name": "stderr",
     "output_type": "stream",
     "text": [
      "\n",
      "description:   0%|                                                           | 0/50 [00:00<?, ?it/s]\u001B[A\n",
      "| train_loss: nan | test_loss: nan | reg: 0.00e+00 | :   0%|                 | 0/50 [00:01<?, ?it/s]\u001B[A\n",
      "| train_loss: nan | test_loss: nan | reg: 0.00e+00 | :   2%|▏        | 1/50 [00:01<00:53,  1.09s/it]\u001B[A\n",
      "| train_loss: nan | test_loss: nan | reg: 0.00e+00 | :   2%|▏        | 1/50 [00:01<00:53,  1.09s/it]\u001B[A\n",
      "| train_loss: nan | test_loss: nan | reg: 0.00e+00 | :   4%|▎        | 2/50 [00:01<00:46,  1.03it/s]\u001B[A\n",
      "| train_loss: nan | test_loss: nan | reg: 0.00e+00 | :   4%|▎        | 2/50 [00:02<00:46,  1.03it/s]\u001B[A\n",
      "| train_loss: nan | test_loss: nan | reg: 0.00e+00 | :   6%|▌        | 3/50 [00:02<00:42,  1.10it/s]\u001B[A\n",
      "| train_loss: nan | test_loss: nan | reg: 0.00e+00 | :   6%|▌        | 3/50 [00:03<00:42,  1.10it/s]\u001B[A\n",
      "| train_loss: nan | test_loss: nan | reg: 0.00e+00 | :   8%|▋        | 4/50 [00:03<00:40,  1.13it/s]\u001B[A\n",
      "| train_loss: nan | test_loss: nan | reg: 0.00e+00 | :   8%|▋        | 4/50 [00:04<00:40,  1.13it/s]\u001B[A\n",
      "| train_loss: nan | test_loss: nan | reg: 0.00e+00 | :  10%|▉        | 5/50 [00:04<00:38,  1.17it/s]\u001B[A\n",
      "| train_loss: nan | test_loss: nan | reg: 0.00e+00 | :  10%|▉        | 5/50 [00:05<00:38,  1.17it/s]\u001B[A\n",
      "| train_loss: nan | test_loss: nan | reg: 0.00e+00 | :  12%|█        | 6/50 [00:05<00:38,  1.14it/s]\u001B[A\n",
      "| train_loss: nan | test_loss: nan | reg: 0.00e+00 | :  12%|█        | 6/50 [00:06<00:38,  1.14it/s]\u001B[A\n",
      "| train_loss: nan | test_loss: nan | reg: 0.00e+00 | :  14%|█▎       | 7/50 [00:06<00:37,  1.16it/s]\u001B[A\n",
      "| train_loss: nan | test_loss: nan | reg: 0.00e+00 | :  14%|█▎       | 7/50 [00:07<00:37,  1.16it/s]\u001B[A\n",
      "| train_loss: nan | test_loss: nan | reg: 0.00e+00 | :  16%|█▍       | 8/50 [00:07<00:37,  1.13it/s]\u001B[A\n",
      "| train_loss: nan | test_loss: nan | reg: 0.00e+00 | :  16%|█▍       | 8/50 [00:08<00:37,  1.13it/s]\u001B[A\n",
      "| train_loss: nan | test_loss: nan | reg: 0.00e+00 | :  18%|█▌       | 9/50 [00:08<00:37,  1.10it/s]\u001B[A\n",
      "| train_loss: nan | test_loss: nan | reg: 0.00e+00 | :  18%|█▌       | 9/50 [00:09<00:37,  1.10it/s]\u001B[A\n",
      "| train_loss: nan | test_loss: nan | reg: 0.00e+00 | :  20%|█▌      | 10/50 [00:09<00:36,  1.09it/s]\u001B[A\n",
      "| train_loss: nan | test_loss: nan | reg: 0.00e+00 | :  20%|█▌      | 10/50 [00:10<00:36,  1.09it/s]\u001B[A\n",
      "| train_loss: nan | test_loss: nan | reg: 0.00e+00 | :  22%|█▊      | 11/50 [00:10<00:37,  1.05it/s]\u001B[A\n",
      "| train_loss: nan | test_loss: nan | reg: 0.00e+00 | :  22%|█▊      | 11/50 [00:11<00:37,  1.05it/s]\u001B[A\n",
      "| train_loss: nan | test_loss: nan | reg: 0.00e+00 | :  24%|█▉      | 12/50 [00:11<00:36,  1.05it/s]\u001B[A\n",
      "| train_loss: nan | test_loss: nan | reg: 0.00e+00 | :  24%|█▉      | 12/50 [00:11<00:36,  1.05it/s]\u001B[A\n",
      "| train_loss: nan | test_loss: nan | reg: 0.00e+00 | :  26%|██      | 13/50 [00:11<00:34,  1.06it/s]\u001B[A\n",
      "| train_loss: nan | test_loss: nan | reg: 0.00e+00 | :  26%|██      | 13/50 [00:12<00:34,  1.06it/s]\u001B[A\n",
      "| train_loss: nan | test_loss: nan | reg: 0.00e+00 | :  28%|██▏     | 14/50 [00:12<00:33,  1.06it/s]\u001B[A\n",
      "| train_loss: nan | test_loss: nan | reg: 0.00e+00 | :  28%|██▏     | 14/50 [00:13<00:33,  1.06it/s]\u001B[A\n",
      "| train_loss: nan | test_loss: nan | reg: 0.00e+00 | :  30%|██▍     | 15/50 [00:13<00:32,  1.08it/s]\u001B[A\n",
      "| train_loss: nan | test_loss: nan | reg: 0.00e+00 | :  30%|██▍     | 15/50 [00:14<00:32,  1.08it/s]\u001B[A\n",
      "| train_loss: nan | test_loss: nan | reg: 0.00e+00 | :  32%|██▌     | 16/50 [00:14<00:32,  1.04it/s]\u001B[A\n",
      "| train_loss: nan | test_loss: nan | reg: 0.00e+00 | :  32%|██▌     | 16/50 [00:15<00:32,  1.04it/s]\u001B[A\n",
      "| train_loss: nan | test_loss: nan | reg: 0.00e+00 | :  34%|██▋     | 17/50 [00:15<00:31,  1.04it/s]\u001B[A\n",
      "| train_loss: nan | test_loss: nan | reg: 0.00e+00 | :  34%|██▋     | 17/50 [00:16<00:31,  1.04it/s]\u001B[A\n",
      "| train_loss: nan | test_loss: nan | reg: 0.00e+00 | :  36%|██▉     | 18/50 [00:16<00:33,  1.03s/it]\u001B[A\n",
      "| train_loss: nan | test_loss: nan | reg: 0.00e+00 | :  36%|██▉     | 18/50 [00:18<00:33,  1.03s/it]\u001B[A\n",
      "| train_loss: nan | test_loss: nan | reg: 0.00e+00 | :  38%|███     | 19/50 [00:18<00:33,  1.06s/it]\u001B[A\n",
      "| train_loss: nan | test_loss: nan | reg: 0.00e+00 | :  38%|███     | 19/50 [00:19<00:33,  1.06s/it]\u001B[A\n",
      "| train_loss: nan | test_loss: nan | reg: 0.00e+00 | :  40%|███▏    | 20/50 [00:19<00:33,  1.11s/it]\u001B[A\n",
      "| train_loss: nan | test_loss: nan | reg: 0.00e+00 | :  40%|███▏    | 20/50 [00:20<00:33,  1.11s/it]\u001B[A\n",
      "| train_loss: nan | test_loss: nan | reg: 0.00e+00 | :  42%|███▎    | 21/50 [00:20<00:34,  1.18s/it]\u001B[A\n",
      "| train_loss: nan | test_loss: nan | reg: 0.00e+00 | :  42%|███▎    | 21/50 [00:21<00:34,  1.18s/it]\u001B[A\n",
      "| train_loss: nan | test_loss: nan | reg: 0.00e+00 | :  44%|███▌    | 22/50 [00:21<00:33,  1.19s/it]\u001B[A\n",
      "| train_loss: nan | test_loss: nan | reg: 0.00e+00 | :  44%|███▌    | 22/50 [00:23<00:33,  1.19s/it]\u001B[A\n",
      "| train_loss: nan | test_loss: nan | reg: 0.00e+00 | :  46%|███▋    | 23/50 [00:23<00:32,  1.19s/it]\u001B[A\n",
      "| train_loss: nan | test_loss: nan | reg: 0.00e+00 | :  46%|███▋    | 23/50 [00:24<00:32,  1.19s/it]\u001B[A\n",
      "| train_loss: nan | test_loss: nan | reg: 0.00e+00 | :  48%|███▊    | 24/50 [00:24<00:31,  1.20s/it]\u001B[A\n",
      "| train_loss: nan | test_loss: nan | reg: 0.00e+00 | :  48%|███▊    | 24/50 [00:25<00:31,  1.20s/it]\u001B[A\n",
      "| train_loss: nan | test_loss: nan | reg: 0.00e+00 | :  50%|████    | 25/50 [00:25<00:30,  1.23s/it]\u001B[A\n",
      "| train_loss: nan | test_loss: nan | reg: 0.00e+00 | :  50%|████    | 25/50 [00:26<00:30,  1.23s/it]\u001B[A\n",
      "| train_loss: nan | test_loss: nan | reg: 0.00e+00 | :  52%|████▏   | 26/50 [00:26<00:30,  1.27s/it]\u001B[A\n",
      "| train_loss: nan | test_loss: nan | reg: 0.00e+00 | :  52%|████▏   | 26/50 [00:28<00:30,  1.27s/it]\u001B[A\n",
      "| train_loss: nan | test_loss: nan | reg: 0.00e+00 | :  54%|████▎   | 27/50 [00:28<00:29,  1.26s/it]\u001B[A\n",
      "| train_loss: nan | test_loss: nan | reg: 0.00e+00 | :  54%|████▎   | 27/50 [00:29<00:29,  1.26s/it]\u001B[A\n",
      "| train_loss: nan | test_loss: nan | reg: 0.00e+00 | :  56%|████▍   | 28/50 [00:29<00:27,  1.26s/it]\u001B[A\n",
      "| train_loss: nan | test_loss: nan | reg: 0.00e+00 | :  56%|████▍   | 28/50 [00:30<00:27,  1.26s/it]\u001B[A\n",
      "| train_loss: nan | test_loss: nan | reg: 0.00e+00 | :  58%|████▋   | 29/50 [00:30<00:26,  1.27s/it]\u001B[A\n",
      "| train_loss: nan | test_loss: nan | reg: 0.00e+00 | :  58%|████▋   | 29/50 [00:32<00:26,  1.27s/it]\u001B[A\n",
      "| train_loss: nan | test_loss: nan | reg: 0.00e+00 | :  60%|████▊   | 30/50 [00:32<00:25,  1.26s/it]\u001B[A\n",
      "| train_loss: nan | test_loss: nan | reg: 0.00e+00 | :  60%|████▊   | 30/50 [00:33<00:25,  1.26s/it]\u001B[A\n",
      "| train_loss: nan | test_loss: nan | reg: 0.00e+00 | :  62%|████▉   | 31/50 [00:33<00:24,  1.30s/it]\u001B[A\n",
      "| train_loss: nan | test_loss: nan | reg: 0.00e+00 | :  62%|████▉   | 31/50 [00:34<00:24,  1.30s/it]\u001B[A\n",
      "| train_loss: nan | test_loss: nan | reg: 0.00e+00 | :  64%|█████   | 32/50 [00:34<00:23,  1.29s/it]\u001B[A\n",
      "| train_loss: nan | test_loss: nan | reg: 0.00e+00 | :  64%|█████   | 32/50 [00:35<00:23,  1.29s/it]\u001B[A\n",
      "| train_loss: nan | test_loss: nan | reg: 0.00e+00 | :  66%|█████▎  | 33/50 [00:35<00:21,  1.28s/it]\u001B[A\n",
      "| train_loss: nan | test_loss: nan | reg: 0.00e+00 | :  66%|█████▎  | 33/50 [00:36<00:21,  1.28s/it]\u001B[A\n",
      "| train_loss: nan | test_loss: nan | reg: 0.00e+00 | :  68%|█████▍  | 34/50 [00:36<00:19,  1.22s/it]\u001B[A\n",
      "| train_loss: nan | test_loss: nan | reg: 0.00e+00 | :  68%|█████▍  | 34/50 [00:38<00:19,  1.22s/it]\u001B[A\n",
      "| train_loss: nan | test_loss: nan | reg: 0.00e+00 | :  70%|█████▌  | 35/50 [00:38<00:18,  1.24s/it]\u001B[A\n",
      "| train_loss: nan | test_loss: nan | reg: 0.00e+00 | :  70%|█████▌  | 35/50 [00:39<00:18,  1.24s/it]\u001B[A\n",
      "| train_loss: nan | test_loss: nan | reg: 0.00e+00 | :  72%|█████▊  | 36/50 [00:39<00:17,  1.28s/it]\u001B[A\n",
      "| train_loss: nan | test_loss: nan | reg: 0.00e+00 | :  72%|█████▊  | 36/50 [00:40<00:17,  1.28s/it]\u001B[A\n",
      "| train_loss: nan | test_loss: nan | reg: 0.00e+00 | :  74%|█████▉  | 37/50 [00:40<00:16,  1.27s/it]\u001B[A\n",
      "| train_loss: nan | test_loss: nan | reg: 0.00e+00 | :  74%|█████▉  | 37/50 [00:42<00:16,  1.27s/it]\u001B[A\n",
      "| train_loss: nan | test_loss: nan | reg: 0.00e+00 | :  76%|██████  | 38/50 [00:42<00:15,  1.25s/it]\u001B[A\n",
      "| train_loss: nan | test_loss: nan | reg: 0.00e+00 | :  76%|██████  | 38/50 [00:43<00:15,  1.25s/it]\u001B[A\n",
      "| train_loss: nan | test_loss: nan | reg: 0.00e+00 | :  78%|██████▏ | 39/50 [00:43<00:13,  1.23s/it]\u001B[A\n",
      "| train_loss: nan | test_loss: nan | reg: 0.00e+00 | :  78%|██████▏ | 39/50 [00:44<00:13,  1.23s/it]\u001B[A\n",
      "| train_loss: nan | test_loss: nan | reg: 0.00e+00 | :  80%|██████▍ | 40/50 [00:44<00:12,  1.23s/it]\u001B[A\n",
      "| train_loss: nan | test_loss: nan | reg: 0.00e+00 | :  80%|██████▍ | 40/50 [00:45<00:12,  1.23s/it]\u001B[A\n",
      "| train_loss: nan | test_loss: nan | reg: 0.00e+00 | :  82%|██████▌ | 41/50 [00:45<00:11,  1.26s/it]\u001B[A\n",
      "| train_loss: nan | test_loss: nan | reg: 0.00e+00 | :  82%|██████▌ | 41/50 [00:47<00:11,  1.26s/it]\u001B[A\n",
      "| train_loss: nan | test_loss: nan | reg: 0.00e+00 | :  84%|██████▋ | 42/50 [00:47<00:10,  1.25s/it]\u001B[A\n",
      "| train_loss: nan | test_loss: nan | reg: 0.00e+00 | :  84%|██████▋ | 42/50 [00:48<00:10,  1.25s/it]\u001B[A\n",
      "| train_loss: nan | test_loss: nan | reg: 0.00e+00 | :  86%|██████▉ | 43/50 [00:48<00:08,  1.24s/it]\u001B[A\n",
      "| train_loss: nan | test_loss: nan | reg: 0.00e+00 | :  86%|██████▉ | 43/50 [00:49<00:08,  1.24s/it]\u001B[A\n",
      "| train_loss: nan | test_loss: nan | reg: 0.00e+00 | :  88%|███████ | 44/50 [00:49<00:07,  1.20s/it]\u001B[A\n",
      "| train_loss: nan | test_loss: nan | reg: 0.00e+00 | :  88%|███████ | 44/50 [00:50<00:07,  1.20s/it]\u001B[A\n",
      "| train_loss: nan | test_loss: nan | reg: 0.00e+00 | :  90%|███████▏| 45/50 [00:50<00:06,  1.21s/it]\u001B[A\n",
      "| train_loss: nan | test_loss: nan | reg: 0.00e+00 | :  90%|███████▏| 45/50 [00:51<00:06,  1.21s/it]\u001B[A\n",
      "| train_loss: nan | test_loss: nan | reg: 0.00e+00 | :  92%|███████▎| 46/50 [00:51<00:04,  1.23s/it]\u001B[A\n",
      "| train_loss: nan | test_loss: nan | reg: 0.00e+00 | :  92%|███████▎| 46/50 [00:53<00:04,  1.23s/it]\u001B[A\n",
      "| train_loss: nan | test_loss: nan | reg: 0.00e+00 | :  94%|███████▌| 47/50 [00:53<00:03,  1.21s/it]\u001B[A\n",
      "| train_loss: nan | test_loss: nan | reg: 0.00e+00 | :  94%|███████▌| 47/50 [00:54<00:03,  1.21s/it]\u001B[A\n",
      "| train_loss: nan | test_loss: nan | reg: 0.00e+00 | :  96%|███████▋| 48/50 [00:54<00:02,  1.19s/it]\u001B[A\n",
      "| train_loss: nan | test_loss: nan | reg: 0.00e+00 | :  96%|███████▋| 48/50 [00:55<00:02,  1.19s/it]\u001B[A\n",
      "| train_loss: nan | test_loss: nan | reg: 0.00e+00 | :  98%|███████▊| 49/50 [00:55<00:01,  1.18s/it]\u001B[A\n",
      "| train_loss: nan | test_loss: nan | reg: nan | :  98%|████████████▋| 49/50 [00:56<00:01,  1.18s/it]\u001B[A\n",
      "| train_loss: nan | test_loss: nan | reg: nan | : 100%|█████████████| 50/50 [00:56<00:00,  1.14s/it]\u001B[A"
     ]
    },
    {
     "name": "stdout",
     "output_type": "stream",
     "text": [
      "saving model version 0.2\n"
     ]
    },
    {
     "name": "stderr",
     "output_type": "stream",
     "text": [
      "\n"
     ]
    }
   ],
   "execution_count": 42
  },
  {
   "metadata": {
    "ExecuteTime": {
     "end_time": "2024-11-02T15:12:14.899965600Z",
     "start_time": "2024-10-31T12:34:31.782447Z"
    }
   },
   "cell_type": "code",
   "source": [
    "grids = np.array([3,10,20,50,100])\n",
    "\n",
    "train_losses = []\n",
    "test_losses = []\n",
    "steps = 20\n",
    "k = 3\n",
    "\n",
    "for i in range(grids.shape[0]):\n",
    "    if i == 0:\n",
    "        model = KAN(width=[13,1,1], grid=grids[i], k=k, seed=1, device=device)\n",
    "    if i != 0:\n",
    "        model = model.refine(grids[i])\n",
    "    results = model.fit(dataset, opt=\"LBFGS\", steps=steps)\n",
    "    train_losses += results['train_loss']\n",
    "    test_losses += results['test_loss']"
   ],
   "id": "2f9b40e1931ec140",
   "outputs": [
    {
     "name": "stdout",
     "output_type": "stream",
     "text": [
      "checkpoint directory created: ./model\n",
      "saving model version 0.0\n"
     ]
    },
    {
     "name": "stderr",
     "output_type": "stream",
     "text": [
      "| train_loss: 8.38e+01 | test_loss: 8.36e+01 | reg: 9.70e+00 | : 100%|█| 20/20 [00:04<00:00,  4.49it\n"
     ]
    },
    {
     "name": "stdout",
     "output_type": "stream",
     "text": [
      "saving model version 0.1\n",
      "saving model version 0.2\n"
     ]
    },
    {
     "name": "stderr",
     "output_type": "stream",
     "text": [
      "| train_loss: nan | test_loss: nan | reg: 0.00e+00 | :  40%|███▌     | 8/20 [00:06<00:09,  1.33it/s]\n"
     ]
    },
    {
     "ename": "KeyboardInterrupt",
     "evalue": "",
     "output_type": "error",
     "traceback": [
      "\u001B[1;31m---------------------------------------------------------------------------\u001B[0m",
      "\u001B[1;31mKeyboardInterrupt\u001B[0m                         Traceback (most recent call last)",
      "Cell \u001B[1;32mIn[15], line 13\u001B[0m\n\u001B[0;32m     11\u001B[0m \u001B[38;5;28;01mif\u001B[39;00m i \u001B[38;5;241m!=\u001B[39m \u001B[38;5;241m0\u001B[39m:\n\u001B[0;32m     12\u001B[0m     model \u001B[38;5;241m=\u001B[39m model\u001B[38;5;241m.\u001B[39mrefine(grids[i])\n\u001B[1;32m---> 13\u001B[0m results \u001B[38;5;241m=\u001B[39m \u001B[43mmodel\u001B[49m\u001B[38;5;241;43m.\u001B[39;49m\u001B[43mfit\u001B[49m\u001B[43m(\u001B[49m\u001B[43mdataset\u001B[49m\u001B[43m,\u001B[49m\u001B[43m \u001B[49m\u001B[43mopt\u001B[49m\u001B[38;5;241;43m=\u001B[39;49m\u001B[38;5;124;43m\"\u001B[39;49m\u001B[38;5;124;43mLBFGS\u001B[39;49m\u001B[38;5;124;43m\"\u001B[39;49m\u001B[43m,\u001B[49m\u001B[43m \u001B[49m\u001B[43msteps\u001B[49m\u001B[38;5;241;43m=\u001B[39;49m\u001B[43msteps\u001B[49m\u001B[43m)\u001B[49m\n\u001B[0;32m     14\u001B[0m train_losses \u001B[38;5;241m+\u001B[39m\u001B[38;5;241m=\u001B[39m results[\u001B[38;5;124m'\u001B[39m\u001B[38;5;124mtrain_loss\u001B[39m\u001B[38;5;124m'\u001B[39m]\n\u001B[0;32m     15\u001B[0m test_losses \u001B[38;5;241m+\u001B[39m\u001B[38;5;241m=\u001B[39m results[\u001B[38;5;124m'\u001B[39m\u001B[38;5;124mtest_loss\u001B[39m\u001B[38;5;124m'\u001B[39m]\n",
      "File \u001B[1;32mC:\\TRADE_LapTop\\KanNootebook\\venv\\Lib\\site-packages\\kan\\MultKAN.py:1537\u001B[0m, in \u001B[0;36mMultKAN.fit\u001B[1;34m(self, dataset, opt, steps, log, lamb, lamb_l1, lamb_entropy, lamb_coef, lamb_coefdiff, update_grid, grid_update_num, loss_fn, lr, start_grid_update_step, stop_grid_update_step, batch, metrics, save_fig, in_vars, out_vars, beta, save_fig_freq, img_folder, singularity_avoiding, y_th, reg_metric, display_metrics)\u001B[0m\n\u001B[0;32m   1534\u001B[0m     \u001B[38;5;28mself\u001B[39m\u001B[38;5;241m.\u001B[39mupdate_grid(dataset[\u001B[38;5;124m'\u001B[39m\u001B[38;5;124mtrain_input\u001B[39m\u001B[38;5;124m'\u001B[39m][train_id])\n\u001B[0;32m   1536\u001B[0m \u001B[38;5;28;01mif\u001B[39;00m opt \u001B[38;5;241m==\u001B[39m \u001B[38;5;124m\"\u001B[39m\u001B[38;5;124mLBFGS\u001B[39m\u001B[38;5;124m\"\u001B[39m:\n\u001B[1;32m-> 1537\u001B[0m     \u001B[43moptimizer\u001B[49m\u001B[38;5;241;43m.\u001B[39;49m\u001B[43mstep\u001B[49m\u001B[43m(\u001B[49m\u001B[43mclosure\u001B[49m\u001B[43m)\u001B[49m\n\u001B[0;32m   1539\u001B[0m \u001B[38;5;28;01mif\u001B[39;00m opt \u001B[38;5;241m==\u001B[39m \u001B[38;5;124m\"\u001B[39m\u001B[38;5;124mAdam\u001B[39m\u001B[38;5;124m\"\u001B[39m:\n\u001B[0;32m   1540\u001B[0m     pred \u001B[38;5;241m=\u001B[39m \u001B[38;5;28mself\u001B[39m\u001B[38;5;241m.\u001B[39mforward(dataset[\u001B[38;5;124m'\u001B[39m\u001B[38;5;124mtrain_input\u001B[39m\u001B[38;5;124m'\u001B[39m][train_id], singularity_avoiding\u001B[38;5;241m=\u001B[39msingularity_avoiding, y_th\u001B[38;5;241m=\u001B[39my_th)\n",
      "File \u001B[1;32mC:\\TRADE_LapTop\\KanNootebook\\venv\\Lib\\site-packages\\torch\\optim\\optimizer.py:487\u001B[0m, in \u001B[0;36mOptimizer.profile_hook_step.<locals>.wrapper\u001B[1;34m(*args, **kwargs)\u001B[0m\n\u001B[0;32m    482\u001B[0m         \u001B[38;5;28;01melse\u001B[39;00m:\n\u001B[0;32m    483\u001B[0m             \u001B[38;5;28;01mraise\u001B[39;00m \u001B[38;5;167;01mRuntimeError\u001B[39;00m(\n\u001B[0;32m    484\u001B[0m                 \u001B[38;5;124mf\u001B[39m\u001B[38;5;124m\"\u001B[39m\u001B[38;5;132;01m{\u001B[39;00mfunc\u001B[38;5;132;01m}\u001B[39;00m\u001B[38;5;124m must return None or a tuple of (new_args, new_kwargs), but got \u001B[39m\u001B[38;5;132;01m{\u001B[39;00mresult\u001B[38;5;132;01m}\u001B[39;00m\u001B[38;5;124m.\u001B[39m\u001B[38;5;124m\"\u001B[39m\n\u001B[0;32m    485\u001B[0m             )\n\u001B[1;32m--> 487\u001B[0m out \u001B[38;5;241m=\u001B[39m \u001B[43mfunc\u001B[49m\u001B[43m(\u001B[49m\u001B[38;5;241;43m*\u001B[39;49m\u001B[43margs\u001B[49m\u001B[43m,\u001B[49m\u001B[43m \u001B[49m\u001B[38;5;241;43m*\u001B[39;49m\u001B[38;5;241;43m*\u001B[39;49m\u001B[43mkwargs\u001B[49m\u001B[43m)\u001B[49m\n\u001B[0;32m    488\u001B[0m \u001B[38;5;28mself\u001B[39m\u001B[38;5;241m.\u001B[39m_optimizer_step_code()\n\u001B[0;32m    490\u001B[0m \u001B[38;5;66;03m# call optimizer step post hooks\u001B[39;00m\n",
      "File \u001B[1;32mC:\\TRADE_LapTop\\KanNootebook\\venv\\Lib\\site-packages\\torch\\utils\\_contextlib.py:116\u001B[0m, in \u001B[0;36mcontext_decorator.<locals>.decorate_context\u001B[1;34m(*args, **kwargs)\u001B[0m\n\u001B[0;32m    113\u001B[0m \u001B[38;5;129m@functools\u001B[39m\u001B[38;5;241m.\u001B[39mwraps(func)\n\u001B[0;32m    114\u001B[0m \u001B[38;5;28;01mdef\u001B[39;00m \u001B[38;5;21mdecorate_context\u001B[39m(\u001B[38;5;241m*\u001B[39margs, \u001B[38;5;241m*\u001B[39m\u001B[38;5;241m*\u001B[39mkwargs):\n\u001B[0;32m    115\u001B[0m     \u001B[38;5;28;01mwith\u001B[39;00m ctx_factory():\n\u001B[1;32m--> 116\u001B[0m         \u001B[38;5;28;01mreturn\u001B[39;00m \u001B[43mfunc\u001B[49m\u001B[43m(\u001B[49m\u001B[38;5;241;43m*\u001B[39;49m\u001B[43margs\u001B[49m\u001B[43m,\u001B[49m\u001B[43m \u001B[49m\u001B[38;5;241;43m*\u001B[39;49m\u001B[38;5;241;43m*\u001B[39;49m\u001B[43mkwargs\u001B[49m\u001B[43m)\u001B[49m\n",
      "File \u001B[1;32mC:\\TRADE_LapTop\\KanNootebook\\venv\\Lib\\site-packages\\kan\\LBFGS.py:443\u001B[0m, in \u001B[0;36mLBFGS.step\u001B[1;34m(self, closure)\u001B[0m\n\u001B[0;32m    441\u001B[0m     \u001B[38;5;28;01mdef\u001B[39;00m \u001B[38;5;21mobj_func\u001B[39m(x, t, d):\n\u001B[0;32m    442\u001B[0m         \u001B[38;5;28;01mreturn\u001B[39;00m \u001B[38;5;28mself\u001B[39m\u001B[38;5;241m.\u001B[39m_directional_evaluate(closure, x, t, d)\n\u001B[1;32m--> 443\u001B[0m     loss, flat_grad, t, ls_func_evals \u001B[38;5;241m=\u001B[39m \u001B[43m_strong_wolfe\u001B[49m\u001B[43m(\u001B[49m\n\u001B[0;32m    444\u001B[0m \u001B[43m        \u001B[49m\u001B[43mobj_func\u001B[49m\u001B[43m,\u001B[49m\u001B[43m \u001B[49m\u001B[43mx_init\u001B[49m\u001B[43m,\u001B[49m\u001B[43m \u001B[49m\u001B[43mt\u001B[49m\u001B[43m,\u001B[49m\u001B[43m \u001B[49m\u001B[43md\u001B[49m\u001B[43m,\u001B[49m\u001B[43m \u001B[49m\u001B[43mloss\u001B[49m\u001B[43m,\u001B[49m\u001B[43m \u001B[49m\u001B[43mflat_grad\u001B[49m\u001B[43m,\u001B[49m\u001B[43m \u001B[49m\u001B[43mgtd\u001B[49m\u001B[43m)\u001B[49m\n\u001B[0;32m    445\u001B[0m \u001B[38;5;28mself\u001B[39m\u001B[38;5;241m.\u001B[39m_add_grad(t, d)\n\u001B[0;32m    446\u001B[0m opt_cond \u001B[38;5;241m=\u001B[39m flat_grad\u001B[38;5;241m.\u001B[39mabs()\u001B[38;5;241m.\u001B[39mmax() \u001B[38;5;241m<\u001B[39m\u001B[38;5;241m=\u001B[39m tolerance_grad\n",
      "File \u001B[1;32mC:\\TRADE_LapTop\\KanNootebook\\venv\\Lib\\site-packages\\kan\\LBFGS.py:50\u001B[0m, in \u001B[0;36m_strong_wolfe\u001B[1;34m(obj_func, x, t, d, f, g, gtd, c1, c2, tolerance_change, max_ls)\u001B[0m\n\u001B[0;32m     48\u001B[0m g \u001B[38;5;241m=\u001B[39m g\u001B[38;5;241m.\u001B[39mclone(memory_format\u001B[38;5;241m=\u001B[39mtorch\u001B[38;5;241m.\u001B[39mcontiguous_format)\n\u001B[0;32m     49\u001B[0m \u001B[38;5;66;03m# evaluate objective and gradient using initial step\u001B[39;00m\n\u001B[1;32m---> 50\u001B[0m f_new, g_new \u001B[38;5;241m=\u001B[39m \u001B[43mobj_func\u001B[49m\u001B[43m(\u001B[49m\u001B[43mx\u001B[49m\u001B[43m,\u001B[49m\u001B[43m \u001B[49m\u001B[43mt\u001B[49m\u001B[43m,\u001B[49m\u001B[43m \u001B[49m\u001B[43md\u001B[49m\u001B[43m)\u001B[49m\n\u001B[0;32m     51\u001B[0m ls_func_evals \u001B[38;5;241m=\u001B[39m \u001B[38;5;241m1\u001B[39m\n\u001B[0;32m     52\u001B[0m gtd_new \u001B[38;5;241m=\u001B[39m g_new\u001B[38;5;241m.\u001B[39mdot(d)\n",
      "File \u001B[1;32mC:\\TRADE_LapTop\\KanNootebook\\venv\\Lib\\site-packages\\kan\\LBFGS.py:442\u001B[0m, in \u001B[0;36mLBFGS.step.<locals>.obj_func\u001B[1;34m(x, t, d)\u001B[0m\n\u001B[0;32m    441\u001B[0m \u001B[38;5;28;01mdef\u001B[39;00m \u001B[38;5;21mobj_func\u001B[39m(x, t, d):\n\u001B[1;32m--> 442\u001B[0m     \u001B[38;5;28;01mreturn\u001B[39;00m \u001B[38;5;28;43mself\u001B[39;49m\u001B[38;5;241;43m.\u001B[39;49m\u001B[43m_directional_evaluate\u001B[49m\u001B[43m(\u001B[49m\u001B[43mclosure\u001B[49m\u001B[43m,\u001B[49m\u001B[43m \u001B[49m\u001B[43mx\u001B[49m\u001B[43m,\u001B[49m\u001B[43m \u001B[49m\u001B[43mt\u001B[49m\u001B[43m,\u001B[49m\u001B[43m \u001B[49m\u001B[43md\u001B[49m\u001B[43m)\u001B[49m\n",
      "File \u001B[1;32mC:\\TRADE_LapTop\\KanNootebook\\venv\\Lib\\site-packages\\kan\\LBFGS.py:291\u001B[0m, in \u001B[0;36mLBFGS._directional_evaluate\u001B[1;34m(self, closure, x, t, d)\u001B[0m\n\u001B[0;32m    289\u001B[0m \u001B[38;5;28;01mdef\u001B[39;00m \u001B[38;5;21m_directional_evaluate\u001B[39m(\u001B[38;5;28mself\u001B[39m, closure, x, t, d):\n\u001B[0;32m    290\u001B[0m     \u001B[38;5;28mself\u001B[39m\u001B[38;5;241m.\u001B[39m_add_grad(t, d)\n\u001B[1;32m--> 291\u001B[0m     loss \u001B[38;5;241m=\u001B[39m \u001B[38;5;28mfloat\u001B[39m(\u001B[43mclosure\u001B[49m\u001B[43m(\u001B[49m\u001B[43m)\u001B[49m)\n\u001B[0;32m    292\u001B[0m     flat_grad \u001B[38;5;241m=\u001B[39m \u001B[38;5;28mself\u001B[39m\u001B[38;5;241m.\u001B[39m_gather_flat_grad()\n\u001B[0;32m    293\u001B[0m     \u001B[38;5;28mself\u001B[39m\u001B[38;5;241m.\u001B[39m_set_param(x)\n",
      "File \u001B[1;32mC:\\TRADE_LapTop\\KanNootebook\\venv\\Lib\\site-packages\\torch\\utils\\_contextlib.py:116\u001B[0m, in \u001B[0;36mcontext_decorator.<locals>.decorate_context\u001B[1;34m(*args, **kwargs)\u001B[0m\n\u001B[0;32m    113\u001B[0m \u001B[38;5;129m@functools\u001B[39m\u001B[38;5;241m.\u001B[39mwraps(func)\n\u001B[0;32m    114\u001B[0m \u001B[38;5;28;01mdef\u001B[39;00m \u001B[38;5;21mdecorate_context\u001B[39m(\u001B[38;5;241m*\u001B[39margs, \u001B[38;5;241m*\u001B[39m\u001B[38;5;241m*\u001B[39mkwargs):\n\u001B[0;32m    115\u001B[0m     \u001B[38;5;28;01mwith\u001B[39;00m ctx_factory():\n\u001B[1;32m--> 116\u001B[0m         \u001B[38;5;28;01mreturn\u001B[39;00m \u001B[43mfunc\u001B[49m\u001B[43m(\u001B[49m\u001B[38;5;241;43m*\u001B[39;49m\u001B[43margs\u001B[49m\u001B[43m,\u001B[49m\u001B[43m \u001B[49m\u001B[38;5;241;43m*\u001B[39;49m\u001B[38;5;241;43m*\u001B[39;49m\u001B[43mkwargs\u001B[49m\u001B[43m)\u001B[49m\n",
      "File \u001B[1;32mC:\\TRADE_LapTop\\KanNootebook\\venv\\Lib\\site-packages\\kan\\MultKAN.py:1503\u001B[0m, in \u001B[0;36mMultKAN.fit.<locals>.closure\u001B[1;34m()\u001B[0m\n\u001B[0;32m   1501\u001B[0m \u001B[38;5;28;01mglobal\u001B[39;00m train_loss, reg_\n\u001B[0;32m   1502\u001B[0m optimizer\u001B[38;5;241m.\u001B[39mzero_grad()\n\u001B[1;32m-> 1503\u001B[0m pred \u001B[38;5;241m=\u001B[39m \u001B[38;5;28;43mself\u001B[39;49m\u001B[38;5;241;43m.\u001B[39;49m\u001B[43mforward\u001B[49m\u001B[43m(\u001B[49m\u001B[43mdataset\u001B[49m\u001B[43m[\u001B[49m\u001B[38;5;124;43m'\u001B[39;49m\u001B[38;5;124;43mtrain_input\u001B[39;49m\u001B[38;5;124;43m'\u001B[39;49m\u001B[43m]\u001B[49m\u001B[43m[\u001B[49m\u001B[43mtrain_id\u001B[49m\u001B[43m]\u001B[49m\u001B[43m,\u001B[49m\u001B[43m \u001B[49m\u001B[43msingularity_avoiding\u001B[49m\u001B[38;5;241;43m=\u001B[39;49m\u001B[43msingularity_avoiding\u001B[49m\u001B[43m,\u001B[49m\u001B[43m \u001B[49m\u001B[43my_th\u001B[49m\u001B[38;5;241;43m=\u001B[39;49m\u001B[43my_th\u001B[49m\u001B[43m)\u001B[49m\n\u001B[0;32m   1504\u001B[0m train_loss \u001B[38;5;241m=\u001B[39m loss_fn(pred, dataset[\u001B[38;5;124m'\u001B[39m\u001B[38;5;124mtrain_label\u001B[39m\u001B[38;5;124m'\u001B[39m][train_id])\n\u001B[0;32m   1505\u001B[0m \u001B[38;5;28;01mif\u001B[39;00m \u001B[38;5;28mself\u001B[39m\u001B[38;5;241m.\u001B[39msave_act:\n",
      "File \u001B[1;32mC:\\TRADE_LapTop\\KanNootebook\\venv\\Lib\\site-packages\\kan\\MultKAN.py:785\u001B[0m, in \u001B[0;36mMultKAN.forward\u001B[1;34m(self, x, singularity_avoiding, y_th)\u001B[0m\n\u001B[0;32m    781\u001B[0m \u001B[38;5;28mself\u001B[39m\u001B[38;5;241m.\u001B[39macts\u001B[38;5;241m.\u001B[39mappend(x)  \u001B[38;5;66;03m# acts shape: (batch, width[l])\u001B[39;00m\n\u001B[0;32m    783\u001B[0m \u001B[38;5;28;01mfor\u001B[39;00m l \u001B[38;5;129;01min\u001B[39;00m \u001B[38;5;28mrange\u001B[39m(\u001B[38;5;28mself\u001B[39m\u001B[38;5;241m.\u001B[39mdepth):\n\u001B[1;32m--> 785\u001B[0m     x_numerical, preacts, postacts_numerical, postspline \u001B[38;5;241m=\u001B[39m \u001B[38;5;28;43mself\u001B[39;49m\u001B[38;5;241;43m.\u001B[39;49m\u001B[43mact_fun\u001B[49m\u001B[43m[\u001B[49m\u001B[43ml\u001B[49m\u001B[43m]\u001B[49m\u001B[43m(\u001B[49m\u001B[43mx\u001B[49m\u001B[43m)\u001B[49m\n\u001B[0;32m    786\u001B[0m     \u001B[38;5;66;03m#print(preacts, postacts_numerical, postspline)\u001B[39;00m\n\u001B[0;32m    788\u001B[0m     \u001B[38;5;28;01mif\u001B[39;00m \u001B[38;5;28mself\u001B[39m\u001B[38;5;241m.\u001B[39msymbolic_enabled \u001B[38;5;241m==\u001B[39m \u001B[38;5;28;01mTrue\u001B[39;00m:\n",
      "File \u001B[1;32mC:\\TRADE_LapTop\\KanNootebook\\venv\\Lib\\site-packages\\torch\\nn\\modules\\module.py:1736\u001B[0m, in \u001B[0;36mModule._wrapped_call_impl\u001B[1;34m(self, *args, **kwargs)\u001B[0m\n\u001B[0;32m   1734\u001B[0m     \u001B[38;5;28;01mreturn\u001B[39;00m \u001B[38;5;28mself\u001B[39m\u001B[38;5;241m.\u001B[39m_compiled_call_impl(\u001B[38;5;241m*\u001B[39margs, \u001B[38;5;241m*\u001B[39m\u001B[38;5;241m*\u001B[39mkwargs)  \u001B[38;5;66;03m# type: ignore[misc]\u001B[39;00m\n\u001B[0;32m   1735\u001B[0m \u001B[38;5;28;01melse\u001B[39;00m:\n\u001B[1;32m-> 1736\u001B[0m     \u001B[38;5;28;01mreturn\u001B[39;00m \u001B[38;5;28;43mself\u001B[39;49m\u001B[38;5;241;43m.\u001B[39;49m\u001B[43m_call_impl\u001B[49m\u001B[43m(\u001B[49m\u001B[38;5;241;43m*\u001B[39;49m\u001B[43margs\u001B[49m\u001B[43m,\u001B[49m\u001B[43m \u001B[49m\u001B[38;5;241;43m*\u001B[39;49m\u001B[38;5;241;43m*\u001B[39;49m\u001B[43mkwargs\u001B[49m\u001B[43m)\u001B[49m\n",
      "File \u001B[1;32mC:\\TRADE_LapTop\\KanNootebook\\venv\\Lib\\site-packages\\torch\\nn\\modules\\module.py:1747\u001B[0m, in \u001B[0;36mModule._call_impl\u001B[1;34m(self, *args, **kwargs)\u001B[0m\n\u001B[0;32m   1742\u001B[0m \u001B[38;5;66;03m# If we don't have any hooks, we want to skip the rest of the logic in\u001B[39;00m\n\u001B[0;32m   1743\u001B[0m \u001B[38;5;66;03m# this function, and just call forward.\u001B[39;00m\n\u001B[0;32m   1744\u001B[0m \u001B[38;5;28;01mif\u001B[39;00m \u001B[38;5;129;01mnot\u001B[39;00m (\u001B[38;5;28mself\u001B[39m\u001B[38;5;241m.\u001B[39m_backward_hooks \u001B[38;5;129;01mor\u001B[39;00m \u001B[38;5;28mself\u001B[39m\u001B[38;5;241m.\u001B[39m_backward_pre_hooks \u001B[38;5;129;01mor\u001B[39;00m \u001B[38;5;28mself\u001B[39m\u001B[38;5;241m.\u001B[39m_forward_hooks \u001B[38;5;129;01mor\u001B[39;00m \u001B[38;5;28mself\u001B[39m\u001B[38;5;241m.\u001B[39m_forward_pre_hooks\n\u001B[0;32m   1745\u001B[0m         \u001B[38;5;129;01mor\u001B[39;00m _global_backward_pre_hooks \u001B[38;5;129;01mor\u001B[39;00m _global_backward_hooks\n\u001B[0;32m   1746\u001B[0m         \u001B[38;5;129;01mor\u001B[39;00m _global_forward_hooks \u001B[38;5;129;01mor\u001B[39;00m _global_forward_pre_hooks):\n\u001B[1;32m-> 1747\u001B[0m     \u001B[38;5;28;01mreturn\u001B[39;00m \u001B[43mforward_call\u001B[49m\u001B[43m(\u001B[49m\u001B[38;5;241;43m*\u001B[39;49m\u001B[43margs\u001B[49m\u001B[43m,\u001B[49m\u001B[43m \u001B[49m\u001B[38;5;241;43m*\u001B[39;49m\u001B[38;5;241;43m*\u001B[39;49m\u001B[43mkwargs\u001B[49m\u001B[43m)\u001B[49m\n\u001B[0;32m   1749\u001B[0m result \u001B[38;5;241m=\u001B[39m \u001B[38;5;28;01mNone\u001B[39;00m\n\u001B[0;32m   1750\u001B[0m called_always_called_hooks \u001B[38;5;241m=\u001B[39m \u001B[38;5;28mset\u001B[39m()\n",
      "File \u001B[1;32mC:\\TRADE_LapTop\\KanNootebook\\venv\\Lib\\site-packages\\kan\\KANLayer.py:157\u001B[0m, in \u001B[0;36mKANLayer.forward\u001B[1;34m(self, x)\u001B[0m\n\u001B[0;32m    154\u001B[0m preacts \u001B[38;5;241m=\u001B[39m x[:,\u001B[38;5;28;01mNone\u001B[39;00m,:]\u001B[38;5;241m.\u001B[39mclone()\u001B[38;5;241m.\u001B[39mexpand(batch, \u001B[38;5;28mself\u001B[39m\u001B[38;5;241m.\u001B[39mout_dim, \u001B[38;5;28mself\u001B[39m\u001B[38;5;241m.\u001B[39min_dim)\n\u001B[0;32m    156\u001B[0m base \u001B[38;5;241m=\u001B[39m \u001B[38;5;28mself\u001B[39m\u001B[38;5;241m.\u001B[39mbase_fun(x) \u001B[38;5;66;03m# (batch, in_dim)\u001B[39;00m\n\u001B[1;32m--> 157\u001B[0m y \u001B[38;5;241m=\u001B[39m \u001B[43mcoef2curve\u001B[49m\u001B[43m(\u001B[49m\u001B[43mx_eval\u001B[49m\u001B[38;5;241;43m=\u001B[39;49m\u001B[43mx\u001B[49m\u001B[43m,\u001B[49m\u001B[43m \u001B[49m\u001B[43mgrid\u001B[49m\u001B[38;5;241;43m=\u001B[39;49m\u001B[38;5;28;43mself\u001B[39;49m\u001B[38;5;241;43m.\u001B[39;49m\u001B[43mgrid\u001B[49m\u001B[43m,\u001B[49m\u001B[43m \u001B[49m\u001B[43mcoef\u001B[49m\u001B[38;5;241;43m=\u001B[39;49m\u001B[38;5;28;43mself\u001B[39;49m\u001B[38;5;241;43m.\u001B[39;49m\u001B[43mcoef\u001B[49m\u001B[43m,\u001B[49m\u001B[43m \u001B[49m\u001B[43mk\u001B[49m\u001B[38;5;241;43m=\u001B[39;49m\u001B[38;5;28;43mself\u001B[39;49m\u001B[38;5;241;43m.\u001B[39;49m\u001B[43mk\u001B[49m\u001B[43m)\u001B[49m\n\u001B[0;32m    159\u001B[0m postspline \u001B[38;5;241m=\u001B[39m y\u001B[38;5;241m.\u001B[39mclone()\u001B[38;5;241m.\u001B[39mpermute(\u001B[38;5;241m0\u001B[39m,\u001B[38;5;241m2\u001B[39m,\u001B[38;5;241m1\u001B[39m)\n\u001B[0;32m    161\u001B[0m y \u001B[38;5;241m=\u001B[39m \u001B[38;5;28mself\u001B[39m\u001B[38;5;241m.\u001B[39mscale_base[\u001B[38;5;28;01mNone\u001B[39;00m,:,:] \u001B[38;5;241m*\u001B[39m base[:,:,\u001B[38;5;28;01mNone\u001B[39;00m] \u001B[38;5;241m+\u001B[39m \u001B[38;5;28mself\u001B[39m\u001B[38;5;241m.\u001B[39mscale_sp[\u001B[38;5;28;01mNone\u001B[39;00m,:,:] \u001B[38;5;241m*\u001B[39m y\n",
      "File \u001B[1;32mC:\\TRADE_LapTop\\KanNootebook\\venv\\Lib\\site-packages\\kan\\spline.py:75\u001B[0m, in \u001B[0;36mcoef2curve\u001B[1;34m(x_eval, grid, coef, k, device)\u001B[0m\n\u001B[0;32m     51\u001B[0m \u001B[38;5;28;01mdef\u001B[39;00m \u001B[38;5;21mcoef2curve\u001B[39m(x_eval, grid, coef, k, device\u001B[38;5;241m=\u001B[39m\u001B[38;5;124m\"\u001B[39m\u001B[38;5;124mcpu\u001B[39m\u001B[38;5;124m\"\u001B[39m):\n\u001B[0;32m     52\u001B[0m \u001B[38;5;250m    \u001B[39m\u001B[38;5;124;03m'''\u001B[39;00m\n\u001B[0;32m     53\u001B[0m \u001B[38;5;124;03m    converting B-spline coefficients to B-spline curves. Evaluate x on B-spline curves (summing up B_batch results over B-spline basis).\u001B[39;00m\n\u001B[0;32m     54\u001B[0m \u001B[38;5;124;03m    \u001B[39;00m\n\u001B[1;32m   (...)\u001B[0m\n\u001B[0;32m     72\u001B[0m \u001B[38;5;124;03m        \u001B[39;00m\n\u001B[0;32m     73\u001B[0m \u001B[38;5;124;03m    '''\u001B[39;00m\n\u001B[1;32m---> 75\u001B[0m     b_splines \u001B[38;5;241m=\u001B[39m \u001B[43mB_batch\u001B[49m\u001B[43m(\u001B[49m\u001B[43mx_eval\u001B[49m\u001B[43m,\u001B[49m\u001B[43m \u001B[49m\u001B[43mgrid\u001B[49m\u001B[43m,\u001B[49m\u001B[43m \u001B[49m\u001B[43mk\u001B[49m\u001B[38;5;241;43m=\u001B[39;49m\u001B[43mk\u001B[49m\u001B[43m)\u001B[49m\n\u001B[0;32m     76\u001B[0m     y_eval \u001B[38;5;241m=\u001B[39m torch\u001B[38;5;241m.\u001B[39meinsum(\u001B[38;5;124m'\u001B[39m\u001B[38;5;124mijk,jlk->ijl\u001B[39m\u001B[38;5;124m'\u001B[39m, b_splines, coef\u001B[38;5;241m.\u001B[39mto(b_splines\u001B[38;5;241m.\u001B[39mdevice))\n\u001B[0;32m     78\u001B[0m     \u001B[38;5;28;01mreturn\u001B[39;00m y_eval\n",
      "File \u001B[1;32mC:\\TRADE_LapTop\\KanNootebook\\venv\\Lib\\site-packages\\kan\\spline.py:46\u001B[0m, in \u001B[0;36mB_batch\u001B[1;34m(x, grid, k, extend, device)\u001B[0m\n\u001B[0;32m     42\u001B[0m     value \u001B[38;5;241m=\u001B[39m (x \u001B[38;5;241m-\u001B[39m grid[:, :, :\u001B[38;5;241m-\u001B[39m(k \u001B[38;5;241m+\u001B[39m \u001B[38;5;241m1\u001B[39m)]) \u001B[38;5;241m/\u001B[39m (grid[:, :, k:\u001B[38;5;241m-\u001B[39m\u001B[38;5;241m1\u001B[39m] \u001B[38;5;241m-\u001B[39m grid[:, :, :\u001B[38;5;241m-\u001B[39m(k \u001B[38;5;241m+\u001B[39m \u001B[38;5;241m1\u001B[39m)]) \u001B[38;5;241m*\u001B[39m B_km1[:, :, :\u001B[38;5;241m-\u001B[39m\u001B[38;5;241m1\u001B[39m] \u001B[38;5;241m+\u001B[39m (\n\u001B[0;32m     43\u001B[0m                 grid[:, :, k \u001B[38;5;241m+\u001B[39m \u001B[38;5;241m1\u001B[39m:] \u001B[38;5;241m-\u001B[39m x) \u001B[38;5;241m/\u001B[39m (grid[:, :, k \u001B[38;5;241m+\u001B[39m \u001B[38;5;241m1\u001B[39m:] \u001B[38;5;241m-\u001B[39m grid[:, :, \u001B[38;5;241m1\u001B[39m:(\u001B[38;5;241m-\u001B[39mk)]) \u001B[38;5;241m*\u001B[39m B_km1[:, :, \u001B[38;5;241m1\u001B[39m:]\n\u001B[0;32m     45\u001B[0m \u001B[38;5;66;03m# in case grid is degenerate\u001B[39;00m\n\u001B[1;32m---> 46\u001B[0m value \u001B[38;5;241m=\u001B[39m \u001B[43mtorch\u001B[49m\u001B[38;5;241;43m.\u001B[39;49m\u001B[43mnan_to_num\u001B[49m\u001B[43m(\u001B[49m\u001B[43mvalue\u001B[49m\u001B[43m)\u001B[49m\n\u001B[0;32m     47\u001B[0m \u001B[38;5;28;01mreturn\u001B[39;00m value\n",
      "\u001B[1;31mKeyboardInterrupt\u001B[0m: "
     ]
    }
   ],
   "execution_count": 15
  },
  {
   "metadata": {
    "ExecuteTime": {
     "end_time": "2024-11-02T15:12:14.902963900Z",
     "start_time": "2024-10-31T12:34:46.052654Z"
    }
   },
   "cell_type": "code",
   "source": [
    "plt.plot(train_losses)\n",
    "plt.plot(test_losses)\n",
    "plt.legend(['train', 'test'])\n",
    "plt.ylabel('RMSE')\n",
    "plt.xlabel('step')\n",
    "plt.yscale('log')"
   ],
   "id": "a30b2de47824acbe",
   "outputs": [
    {
     "data": {
      "text/plain": [
       "<Figure size 640x480 with 1 Axes>"
      ],
      "image/png": "[encoded data removed]"
     },
     "metadata": {},
     "output_type": "display_data"
    }
   ],
   "execution_count": 16
  },
  {
   "metadata": {
    "ExecuteTime": {
     "end_time": "2024-11-02T15:12:14.903965Z",
     "start_time": "2024-10-27T14:25:40.826541Z"
    }
   },
   "cell_type": "code",
   "source": [
    "grids = 3 #np.array([3,10,20,50,100])\n",
    "\n",
    "train_losses = []\n",
    "test_losses = []\n",
    "steps = 60\n",
    "k = 3\n",
    "\n",
    "\n",
    "\n",
    "model = KAN(width=[13,100,1], grid=grids, device=device) # убрал seed и k\n",
    "\n",
    "\n",
    "results = model.fit(dataset, opt=\"LBFGS\", steps=steps)\n",
    "model = model.refine(grids)\n",
    "train_losses += results['train_loss']\n",
    "test_losses += results['test_loss']"
   ],
   "id": "d542557211e4e328",
   "outputs": [
    {
     "name": "stdout",
     "output_type": "stream",
     "text": [
      "checkpoint directory created: ./model\n",
      "saving model version 0.0\n"
     ]
    },
    {
     "name": "stderr",
     "output_type": "stream",
     "text": [
      "| train_loss: 1.95e+04 | test_loss: 1.86e+04 | reg: 2.11e+02 | : 100%|█| 60/60 [02:27<00:00,  2.45s/\n"
     ]
    },
    {
     "name": "stdout",
     "output_type": "stream",
     "text": [
      "saving model version 0.1\n",
      "saving model version 0.2\n"
     ]
    }
   ],
   "execution_count": 155
  }
 ],
 "metadata": {
  "kernelspec": {
   "display_name": "Python 3",
   "language": "python",
   "name": "python3"
  },
  "language_info": {
   "codemirror_mode": {
    "name": "ipython",
    "version": 2
   },
   "file_extension": ".py",
   "mimetype": "text/x-python",
   "name": "python",
   "nbconvert_exporter": "python",
   "pygments_lexer": "ipython2",
   "version": "2.7.6"
  }
 },
 "nbformat": 4,
 "nbformat_minor": 5
}
