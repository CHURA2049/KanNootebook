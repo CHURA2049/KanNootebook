{
 "cells": [
  {
   "metadata": {},
   "cell_type": "markdown",
   "source": "В этом проекты буду пробовать реализоватвывать KAn еть через ЧАТ ГПТ",
   "id": "2b2dcc6ad5c1bddd"
  },
  {
   "metadata": {
    "ExecuteTime": {
     "end_time": "2024-10-20T13:25:39.125569Z",
     "start_time": "2024-10-20T13:25:39.121565Z"
    }
   },
   "cell_type": "code",
   "source": "from kan import *\n",
   "id": "21d58fb16b2b6f2e",
   "outputs": [],
   "execution_count": 85
  },
  {
   "metadata": {
    "ExecuteTime": {
     "end_time": "2024-10-20T13:25:40.156449Z",
     "start_time": "2024-10-20T13:25:40.152914Z"
    }
   },
   "cell_type": "code",
   "source": "import matplotlib.pyplot as plt",
   "id": "8fcdb1bef4ce3f12",
   "outputs": [],
   "execution_count": 86
  },
  {
   "metadata": {},
   "cell_type": "markdown",
   "source": "",
   "id": "aeb275cf161772bd"
  },
  {
   "metadata": {
    "ExecuteTime": {
     "end_time": "2024-10-20T13:43:39.562149Z",
     "start_time": "2024-10-20T13:43:39.554562Z"
    }
   },
   "cell_type": "code",
   "source": [
    "import pandas as pd\n",
    "from sklearn.model_selection import train_test_split\n",
    "from kan import *\n",
    "\n",
    "# Загрузка данных\n",
    "data = pd.read_csv('file_for_input/all_hour/ABIO_tradestats_test_hour.csv')\n",
    "\n",
    "# Признаки (X) — все столбцы, кроме целевой переменной\n",
    "X = data[['vol','val','trades','trades_b','trades_s', 'val_b','val_s','vol_b','vol_s','pr_open_hour','pr_high_hour','pr_low_hour']] # Можно добавить и другие важные признаки\n",
    "\n",
    "\n",
    "# Целевая переменная (Y) — это `pr_close_hour`\n",
    "Y = data['pr_close_hour']\n",
    "\n",
    "train_size = int(0.8 * len(data))\n",
    "X_train, X_test = X[:train_size], X[train_size:]\n",
    "Y_train, Y_test = Y[:train_size], Y[train_size:]\n",
    "# \n",
    "# # Разделение данных на обучающую и тестовую выборки\n",
    "# X_train, X_test, Y_train, Y_test = train_test_split(X, Y, test_size=0.2) # был ещё аргумент , random_state=42\n"
   ],
   "id": "7899506c7d776b04",
   "outputs": [],
   "execution_count": 142
  },
  {
   "metadata": {
    "ExecuteTime": {
     "end_time": "2024-10-20T13:43:40.787970Z",
     "start_time": "2024-10-20T13:43:40.773130Z"
    }
   },
   "cell_type": "code",
   "source": [
    "print (X_train.head(10) )\n",
    "print (\"-----------------------------\")\n",
    "print (Y_train )\n",
    "print (\"-----------------------------\")\n",
    "print (X_test )\n",
    "print (\"-----------------------------\")\n",
    "print (Y_test )\n"
   ],
   "id": "d18f51f0d0e5c6ac",
   "outputs": [
    {
     "name": "stdout",
     "output_type": "stream",
     "text": [
      "      vol         val  trades  trades_b  trades_s      val_b      val_s  \\\n",
      "0  9545.0  10498806.0   647.0     351.0     296.0  4947693.0  5551106.0   \n",
      "1  7182.0   7970286.0   474.0     307.0     167.0  4723090.0  3247191.0   \n",
      "2  6334.0   6979144.0   535.0     131.0     404.0  1294238.0  5684902.0   \n",
      "3  4975.0   5459314.0   421.0     247.0     174.0  3092682.0  2366628.0   \n",
      "4  1377.0   1517088.0   113.0      62.0      51.0   995961.0   521124.0   \n",
      "5   971.0   1074412.0   143.0      81.0      62.0   753162.0   321246.0   \n",
      "6   643.0    713016.0    93.0      54.0      39.0   354972.0   358041.0   \n",
      "7  2180.0   2401506.0   213.0      77.0     136.0   544072.0  1857432.0   \n",
      "8  4194.0   4618863.0   173.0      95.0      78.0  2263743.0  2355117.0   \n",
      "9  6827.0   7444111.0   544.0     221.0     323.0  2122451.0  5321659.0   \n",
      "\n",
      "    vol_b   vol_s  pr_open_hour  pr_high_hour  pr_low_hour  \n",
      "0  4490.0  5055.0        110.66        111.04       108.56  \n",
      "1  4257.0  2925.0        110.40        111.50       110.16  \n",
      "2  1174.0  5160.0        111.50        111.68       109.00  \n",
      "3  2812.0  2163.0        109.06        110.70       109.00  \n",
      "4   904.0   473.0        110.22        110.62       109.74  \n",
      "5   680.0   291.0        110.16        111.18       109.94  \n",
      "6   320.0   323.0        110.70        111.04       110.50  \n",
      "7   493.0  1687.0        110.98        110.98       109.38  \n",
      "8  2054.0  2140.0        110.00        110.72       109.62  \n",
      "9  1931.0  4896.0        111.28        112.98       107.10  \n",
      "-----------------------------\n",
      "0      110.40\n",
      "1      111.50\n",
      "2      109.04\n",
      "3      110.36\n",
      "4      110.40\n",
      "        ...  \n",
      "383    119.22\n",
      "384    118.78\n",
      "385    119.38\n",
      "386    118.66\n",
      "387    118.52\n",
      "Name: pr_close_hour, Length: 388, dtype: float64\n",
      "-----------------------------\n",
      "         vol         val  trades  trades_b  trades_s      val_b       val_s  \\\n",
      "388   6244.0   7390737.0   530.0     246.0     284.0  2799405.0   4591329.0   \n",
      "389   2924.0   3471091.0   220.0      87.0     133.0   903007.0   2568082.0   \n",
      "390   1064.0   1260887.0   137.0      88.0      49.0   689918.0    570966.0   \n",
      "391   1027.0   1217486.0   146.0      79.0      67.0   565758.0    651727.0   \n",
      "392   4053.0   4803845.0   305.0     105.0     200.0  1959887.0   2843953.0   \n",
      "..       ...         ...     ...       ...       ...        ...         ...   \n",
      "481  19183.0  20468973.0  1218.0     521.0     697.0  9452859.0  11016111.0   \n",
      "482   6201.0   6652966.0   515.0     321.0     194.0  4586824.0   2066135.0   \n",
      "483   3811.0   4113331.0   397.0     243.0     154.0  2132467.0   1980862.0   \n",
      "484    355.0    382535.0    92.0      51.0      41.0   182231.0    200301.0   \n",
      "485   3278.0   3542467.0   301.0     168.0     133.0  1639562.0   1902904.0   \n",
      "\n",
      "      vol_b    vol_s  pr_open_hour  pr_high_hour  pr_low_hour  \n",
      "388  2362.0   3882.0        118.74        118.92       118.00  \n",
      "389   760.0   2164.0        118.86        118.92       118.40  \n",
      "390   582.0    482.0        118.50        118.68       118.40  \n",
      "391   477.0    550.0        118.58        118.70       118.40  \n",
      "392  1652.0   2401.0        118.46        118.96       118.10  \n",
      "..      ...      ...           ...           ...          ...  \n",
      "481  8842.0  10341.0        107.58        107.72       105.80  \n",
      "482  4274.0   1927.0        106.68        108.22       106.68  \n",
      "483  1975.0   1836.0        107.36        108.82       107.30  \n",
      "484   169.0    186.0        107.68        108.00       107.52  \n",
      "485  1516.0   1762.0        107.82        108.48       107.52  \n",
      "\n",
      "[98 rows x 12 columns]\n",
      "-----------------------------\n",
      "388    118.86\n",
      "389    118.64\n",
      "390    118.50\n",
      "391    118.58\n",
      "392    118.40\n",
      "        ...  \n",
      "481    106.70\n",
      "482    107.24\n",
      "483    107.70\n",
      "484    107.84\n",
      "485    107.52\n",
      "Name: pr_close_hour, Length: 98, dtype: float64\n"
     ]
    }
   ],
   "execution_count": 143
  },
  {
   "metadata": {
    "ExecuteTime": {
     "end_time": "2024-10-20T13:43:42.733006Z",
     "start_time": "2024-10-20T13:43:42.729003Z"
    }
   },
   "cell_type": "code",
   "source": [
    "# Преобразование данных в тензоры для использования с KAN\n",
    "X_train_tensor = torch.tensor(X_train.values, dtype=torch.float32)\n",
    "Y_train_tensor = torch.tensor(Y_train.values, dtype=torch.float32).unsqueeze(1)  # добавляем ось для соответствия размерностей\n",
    "\n",
    "X_test_tensor = torch.tensor(X_test.values, dtype=torch.float32)\n"
   ],
   "id": "e506ecde301ff131",
   "outputs": [],
   "execution_count": 144
  },
  {
   "metadata": {
    "ExecuteTime": {
     "end_time": "2024-10-20T13:43:43.878945Z",
     "start_time": "2024-10-20T13:43:43.865411Z"
    }
   },
   "cell_type": "code",
   "source": [
    "# Инициализация KAN модели\n",
    "device = 'cuda' if torch.cuda.is_available() else 'cpu'  # Выбор устройства\n",
    "model = KAN(width=[X_train.shape[1], 1, 1], grid=3, k=3, seed=1, device=device)\n",
    "\n"
   ],
   "id": "7d7d3b6c0dd6729c",
   "outputs": [
    {
     "name": "stdout",
     "output_type": "stream",
     "text": [
      "checkpoint directory created: ./model\n",
      "saving model version 0.0\n"
     ]
    }
   ],
   "execution_count": 145
  },
  {
   "metadata": {
    "ExecuteTime": {
     "end_time": "2024-10-20T13:43:44.961835Z",
     "start_time": "2024-10-20T13:43:44.957832Z"
    }
   },
   "cell_type": "code",
   "source": [
    "# Настройка оптимизатора и функции потерь\n",
    "optimizer = torch.optim.Adam(model.parameters(), lr=0.001)\n",
    "loss_fn = torch.nn.MSELoss()\n"
   ],
   "id": "61fea908aad561b5",
   "outputs": [],
   "execution_count": 146
  },
  {
   "metadata": {
    "ExecuteTime": {
     "end_time": "2024-10-20T13:43:50.064943Z",
     "start_time": "2024-10-20T13:43:47.854193Z"
    }
   },
   "cell_type": "code",
   "source": [
    "# Обучение модели\n",
    "epochs = 200\n",
    "batch_size = 32\n",
    "losses = []\n",
    "\n",
    "for epoch in range(epochs):\n",
    "    model.train()\n",
    "    \n",
    "    optimizer.zero_grad()  # обнуление градиентов\n",
    "    \n",
    "    # Прямой проход\n",
    "    y_pred = model(X_train_tensor)\n",
    "    \n",
    "    # Вычисление ошибки\n",
    "    loss = loss_fn(y_pred, Y_train_tensor)\n",
    "    losses.append(loss.item())  # Сохраняем значение loss\n",
    "    \n",
    "    # Обратный проход и обновление весов\n",
    "    loss.backward()\n",
    "    optimizer.step()\n",
    "    \n",
    "    print(f'Epoch {epoch+1}/{epochs}, Loss: {loss.item()}')\n",
    "\n",
    "# График функции потерь\n",
    "plt.figure(figsize=(10, 5))\n",
    "plt.plot(range(1, epochs + 1), losses, label='Loss')\n",
    "plt.xlabel('Epoch')\n",
    "plt.ylabel('Loss')\n",
    "plt.title('Training Loss Over Epochs')\n",
    "plt.legend()\n",
    "plt.show()"
   ],
   "id": "923a9089b92085e3",
   "outputs": [
    {
     "name": "stdout",
     "output_type": "stream",
     "text": [
      "Epoch 1/200, Loss: 149104820224.0\n",
      "Epoch 2/200, Loss: 144842031104.0\n",
      "Epoch 3/200, Loss: 140734201856.0\n",
      "Epoch 4/200, Loss: 136775434240.0\n",
      "Epoch 5/200, Loss: 132960215040.0\n",
      "Epoch 6/200, Loss: 129282891776.0\n",
      "Epoch 7/200, Loss: 125738000384.0\n",
      "Epoch 8/200, Loss: 122320142336.0\n",
      "Epoch 9/200, Loss: 119024459776.0\n",
      "Epoch 10/200, Loss: 115842359296.0\n",
      "Epoch 11/200, Loss: 112766967808.0\n",
      "Epoch 12/200, Loss: 109794058240.0\n",
      "Epoch 13/200, Loss: 106919788544.0\n",
      "Epoch 14/200, Loss: 104140496896.0\n",
      "Epoch 15/200, Loss: 101452636160.0\n",
      "Epoch 16/200, Loss: 98852806656.0\n",
      "Epoch 17/200, Loss: 96337887232.0\n",
      "Epoch 18/200, Loss: 93904986112.0\n",
      "Epoch 19/200, Loss: 91551145984.0\n",
      "Epoch 20/200, Loss: 89273352192.0\n",
      "Epoch 21/200, Loss: 87068483584.0\n",
      "Epoch 22/200, Loss: 84934057984.0\n",
      "Epoch 23/200, Loss: 82867740672.0\n",
      "Epoch 24/200, Loss: 80867377152.0\n",
      "Epoch 25/200, Loss: 78930812928.0\n",
      "Epoch 26/200, Loss: 77056065536.0\n",
      "Epoch 27/200, Loss: 75241127936.0\n",
      "Epoch 28/200, Loss: 73484107776.0\n",
      "Epoch 29/200, Loss: 71783170048.0\n",
      "Epoch 30/200, Loss: 70136668160.0\n",
      "Epoch 31/200, Loss: 68542898176.0\n",
      "Epoch 32/200, Loss: 67000299520.0\n",
      "Epoch 33/200, Loss: 65507385344.0\n",
      "Epoch 34/200, Loss: 64062578688.0\n",
      "Epoch 35/200, Loss: 62664503296.0\n",
      "Epoch 36/200, Loss: 61311741952.0\n",
      "Epoch 37/200, Loss: 60002832384.0\n",
      "Epoch 38/200, Loss: 58736504832.0\n",
      "Epoch 39/200, Loss: 57510948864.0\n",
      "Epoch 40/200, Loss: 56324587520.0\n",
      "Epoch 41/200, Loss: 55175344128.0\n",
      "Epoch 42/200, Loss: 54061936640.0\n",
      "Epoch 43/200, Loss: 52983226368.0\n",
      "Epoch 44/200, Loss: 51937976320.0\n",
      "Epoch 45/200, Loss: 50925121536.0\n",
      "Epoch 46/200, Loss: 49943707648.0\n",
      "Epoch 47/200, Loss: 48992735232.0\n",
      "Epoch 48/200, Loss: 48071049216.0\n",
      "Epoch 49/200, Loss: 47177773056.0\n",
      "Epoch 50/200, Loss: 46311817216.0\n",
      "Epoch 51/200, Loss: 45471723520.0\n",
      "Epoch 52/200, Loss: 44656607232.0\n",
      "Epoch 53/200, Loss: 43865706496.0\n",
      "Epoch 54/200, Loss: 43098226688.0\n",
      "Epoch 55/200, Loss: 42353504256.0\n",
      "Epoch 56/200, Loss: 41630797824.0\n",
      "Epoch 57/200, Loss: 40929398784.0\n",
      "Epoch 58/200, Loss: 40248672256.0\n",
      "Epoch 59/200, Loss: 39588012032.0\n",
      "Epoch 60/200, Loss: 38946873344.0\n",
      "Epoch 61/200, Loss: 38324649984.0\n",
      "Epoch 62/200, Loss: 37720834048.0\n",
      "Epoch 63/200, Loss: 37134884864.0\n",
      "Epoch 64/200, Loss: 36566261760.0\n",
      "Epoch 65/200, Loss: 36013162496.0\n",
      "Epoch 66/200, Loss: 35473027072.0\n",
      "Epoch 67/200, Loss: 34945236992.0\n",
      "Epoch 68/200, Loss: 34429300736.0\n",
      "Epoch 69/200, Loss: 33924677632.0\n",
      "Epoch 70/200, Loss: 33430964224.0\n",
      "Epoch 71/200, Loss: 32947765248.0\n",
      "Epoch 72/200, Loss: 32474722304.0\n",
      "Epoch 73/200, Loss: 32011462656.0\n",
      "Epoch 74/200, Loss: 31557687296.0\n",
      "Epoch 75/200, Loss: 31113070592.0\n",
      "Epoch 76/200, Loss: 30677374976.0\n",
      "Epoch 77/200, Loss: 30250311680.0\n",
      "Epoch 78/200, Loss: 29831659520.0\n",
      "Epoch 79/200, Loss: 29421172736.0\n",
      "Epoch 80/200, Loss: 29018658816.0\n",
      "Epoch 81/200, Loss: 28623902720.0\n",
      "Epoch 82/200, Loss: 28236673024.0\n",
      "Epoch 83/200, Loss: 27856809984.0\n",
      "Epoch 84/200, Loss: 27484155904.0\n",
      "Epoch 85/200, Loss: 27118503936.0\n",
      "Epoch 86/200, Loss: 26759729152.0\n",
      "Epoch 87/200, Loss: 26407684096.0\n",
      "Epoch 88/200, Loss: 26062221312.0\n",
      "Epoch 89/200, Loss: 25723224064.0\n",
      "Epoch 90/200, Loss: 25390538752.0\n",
      "Epoch 91/200, Loss: 25064050688.0\n",
      "Epoch 92/200, Loss: 24743647232.0\n",
      "Epoch 93/200, Loss: 24429205504.0\n",
      "Epoch 94/200, Loss: 24120598528.0\n",
      "Epoch 95/200, Loss: 23817687040.0\n",
      "Epoch 96/200, Loss: 23520352256.0\n",
      "Epoch 97/200, Loss: 23228510208.0\n",
      "Epoch 98/200, Loss: 22942033920.0\n",
      "Epoch 99/200, Loss: 22660845568.0\n",
      "Epoch 100/200, Loss: 22384865280.0\n",
      "Epoch 101/200, Loss: 22113984512.0\n",
      "Epoch 102/200, Loss: 21848121344.0\n",
      "Epoch 103/200, Loss: 21587183616.0\n",
      "Epoch 104/200, Loss: 21331068928.0\n",
      "Epoch 105/200, Loss: 21079707648.0\n",
      "Epoch 106/200, Loss: 20833024000.0\n",
      "Epoch 107/200, Loss: 20590913536.0\n",
      "Epoch 108/200, Loss: 20353318912.0\n",
      "Epoch 109/200, Loss: 20120119296.0\n",
      "Epoch 110/200, Loss: 19891156992.0\n",
      "Epoch 111/200, Loss: 19666331648.0\n",
      "Epoch 112/200, Loss: 19445577728.0\n",
      "Epoch 113/200, Loss: 19228747776.0\n",
      "Epoch 114/200, Loss: 19015749632.0\n",
      "Epoch 115/200, Loss: 18806456320.0\n",
      "Epoch 116/200, Loss: 18600810496.0\n",
      "Epoch 117/200, Loss: 18398734336.0\n",
      "Epoch 118/200, Loss: 18200162304.0\n",
      "Epoch 119/200, Loss: 18005028864.0\n",
      "Epoch 120/200, Loss: 17813262336.0\n",
      "Epoch 121/200, Loss: 17624825856.0\n",
      "Epoch 122/200, Loss: 17439645696.0\n",
      "Epoch 123/200, Loss: 17257668608.0\n",
      "Epoch 124/200, Loss: 17078853632.0\n",
      "Epoch 125/200, Loss: 16903123968.0\n",
      "Epoch 126/200, Loss: 16730456064.0\n",
      "Epoch 127/200, Loss: 16560782336.0\n",
      "Epoch 128/200, Loss: 16394055680.0\n",
      "Epoch 129/200, Loss: 16230232064.0\n",
      "Epoch 130/200, Loss: 16069261312.0\n",
      "Epoch 131/200, Loss: 15911103488.0\n",
      "Epoch 132/200, Loss: 15755412480.0\n",
      "Epoch 133/200, Loss: 15601799168.0\n",
      "Epoch 134/200, Loss: 15450210304.0\n",
      "Epoch 135/200, Loss: 15300568064.0\n",
      "Epoch 136/200, Loss: 15152815104.0\n",
      "Epoch 137/200, Loss: 15006899200.0\n",
      "Epoch 138/200, Loss: 14862756864.0\n",
      "Epoch 139/200, Loss: 14720336896.0\n",
      "Epoch 140/200, Loss: 14579600384.0\n",
      "Epoch 141/200, Loss: 14440510464.0\n",
      "Epoch 142/200, Loss: 14303025152.0\n",
      "Epoch 143/200, Loss: 14167111680.0\n",
      "Epoch 144/200, Loss: 14032728064.0\n",
      "Epoch 145/200, Loss: 13899851776.0\n",
      "Epoch 146/200, Loss: 13768444928.0\n",
      "Epoch 147/200, Loss: 13638480896.0\n",
      "Epoch 148/200, Loss: 13509941248.0\n",
      "Epoch 149/200, Loss: 13382799360.0\n",
      "Epoch 150/200, Loss: 13257040896.0\n",
      "Epoch 151/200, Loss: 13132626944.0\n",
      "Epoch 152/200, Loss: 13009534976.0\n",
      "Epoch 153/200, Loss: 12887695360.0\n",
      "Epoch 154/200, Loss: 12767065088.0\n",
      "Epoch 155/200, Loss: 12647636992.0\n",
      "Epoch 156/200, Loss: 12529385472.0\n",
      "Epoch 157/200, Loss: 12412289024.0\n",
      "Epoch 158/200, Loss: 12296333312.0\n",
      "Epoch 159/200, Loss: 12181498880.0\n",
      "Epoch 160/200, Loss: 12067770368.0\n",
      "Epoch 161/200, Loss: 11955136512.0\n",
      "Epoch 162/200, Loss: 11843576832.0\n",
      "Epoch 163/200, Loss: 11733075968.0\n",
      "Epoch 164/200, Loss: 11623638016.0\n",
      "Epoch 165/200, Loss: 11515229184.0\n",
      "Epoch 166/200, Loss: 11407851520.0\n",
      "Epoch 167/200, Loss: 11301484544.0\n",
      "Epoch 168/200, Loss: 11196123136.0\n",
      "Epoch 169/200, Loss: 11091761152.0\n",
      "Epoch 170/200, Loss: 10988371968.0\n",
      "Epoch 171/200, Loss: 10885964800.0\n",
      "Epoch 172/200, Loss: 10784524288.0\n",
      "Epoch 173/200, Loss: 10684041216.0\n",
      "Epoch 174/200, Loss: 10584507392.0\n",
      "Epoch 175/200, Loss: 10485917696.0\n",
      "Epoch 176/200, Loss: 10388259840.0\n",
      "Epoch 177/200, Loss: 10291523584.0\n",
      "Epoch 178/200, Loss: 10195682304.0\n",
      "Epoch 179/200, Loss: 10100726784.0\n",
      "Epoch 180/200, Loss: 10006659072.0\n",
      "Epoch 181/200, Loss: 9913467904.0\n",
      "Epoch 182/200, Loss: 9821136896.0\n",
      "Epoch 183/200, Loss: 9729677312.0\n",
      "Epoch 184/200, Loss: 9639065600.0\n",
      "Epoch 185/200, Loss: 9549301760.0\n",
      "Epoch 186/200, Loss: 9460375552.0\n",
      "Epoch 187/200, Loss: 9372281856.0\n",
      "Epoch 188/200, Loss: 9285014528.0\n",
      "Epoch 189/200, Loss: 9198558208.0\n",
      "Epoch 190/200, Loss: 9112920064.0\n",
      "Epoch 191/200, Loss: 9028083712.0\n",
      "Epoch 192/200, Loss: 8944035840.0\n",
      "Epoch 193/200, Loss: 8860772352.0\n",
      "Epoch 194/200, Loss: 8778292224.0\n",
      "Epoch 195/200, Loss: 8696589312.0\n",
      "Epoch 196/200, Loss: 8615649280.0\n",
      "Epoch 197/200, Loss: 8535473664.0\n",
      "Epoch 198/200, Loss: 8456046592.0\n",
      "Epoch 199/200, Loss: 8377368064.0\n",
      "Epoch 200/200, Loss: 8299436032.0\n"
     ]
    },
    {
     "data": {
      "text/plain": [
       "<Figure size 1000x500 with 1 Axes>"
      ],
      "image/png": "[encoded data removed]"
     },
     "metadata": {},
     "output_type": "display_data"
    }
   ],
   "execution_count": 148
  },
  {
   "metadata": {
    "ExecuteTime": {
     "end_time": "2024-10-20T13:44:06.597125Z",
     "start_time": "2024-10-20T13:44:06.479758Z"
    }
   },
   "cell_type": "code",
   "source": [
    "# Предсказание на тестовой выборке\n",
    "model.eval()\n",
    "with torch.no_grad():\n",
    "    predicted_price = model(X_test_tensor)\n",
    "\n",
    "# Преобразование предсказаний и реальных значений в numpy для визуализации\n",
    "predicted_price = predicted_price.cpu().numpy()\n",
    "Y_test_numpy = Y_test_tensor.cpu().numpy()\n",
    "\n",
    "# График предсказанных и реальных значений\n",
    "plt.figure(figsize=(10, 5))\n",
    "plt.plot(predicted_price, label='Predicted Price', color='blue')\n",
    "plt.plot(Y_test_numpy, label='Actual Price', color='green')\n",
    "plt.xlabel('Sample')\n",
    "plt.ylabel('Stock Price')\n",
    "plt.title('Predicted vs Actual Stock Prices')\n",
    "plt.legend()\n",
    "plt.show()"
   ],
   "id": "2773f61f9a2f3151",
   "outputs": [
    {
     "data": {
      "text/plain": [
       "<Figure size 1000x500 with 1 Axes>"
      ],
      "image/png": "[encoded data removed]"
     },
     "metadata": {},
     "output_type": "display_data"
    }
   ],
   "execution_count": 149
  }
 ],
 "metadata": {
  "kernelspec": {
   "display_name": "Python 3",
   "language": "python",
   "name": "python3"
  },
  "language_info": {
   "codemirror_mode": {
    "name": "ipython",
    "version": 2
   },
   "file_extension": ".py",
   "mimetype": "text/x-python",
   "name": "python",
   "nbconvert_exporter": "python",
   "pygments_lexer": "ipython2",
   "version": "2.7.6"
  }
 },
 "nbformat": 4,
 "nbformat_minor": 5
}
